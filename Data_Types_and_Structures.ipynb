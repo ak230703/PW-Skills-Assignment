{
  "nbformat": 4,
  "nbformat_minor": 0,
  "metadata": {
    "colab": {
      "provenance": []
    },
    "kernelspec": {
      "name": "python3",
      "display_name": "Python 3"
    },
    "language_info": {
      "name": "python"
    }
  },
  "cells": [
    {
      "cell_type": "markdown",
      "source": [
        "# **Data Types and Structures Question**"
      ],
      "metadata": {
        "id": "Jy3XC3L5gN-m"
      }
    },
    {
      "cell_type": "markdown",
      "source": [
        "# Ques 1. What are data structures, and why are they important\n"
      ],
      "metadata": {
        "id": "F02710OOgS5O"
      }
    },
    {
      "cell_type": "markdown",
      "source": [
        "   - structures are ways of organizing and storing data in a computer so that it can be accessed and modified efficiently.\n",
        "   They are important because they allow us to manage and manipulate data in a structured way, which is crucial for writing efficient and effective algorithms and programs. Different data structures are suited for different tasks, so choosing the right one can significantly impact a program's performance."
      ],
      "metadata": {
        "id": "SgqskWyjy6an"
      }
    },
    {
      "cell_type": "markdown",
      "source": [
        "# Ques 2. Explain the difference between mutable and immutable data types with examples\n",
        "- **Mutable data types** are those whose values can be changed after they are created.\n",
        "\n",
        " Examples in Python include lists, dictionaries, and sets.\n",
        "\n",
        "- **Immutable data types** cannot be changed after they are created.\n",
        "\n",
        " Examples include strings, tuples, and numbers (integers, floats, etc.).\n",
        "\n",
        " Here's an example:\n",
        "\n",
        " **Mutable (List):**\n"
      ],
      "metadata": {
        "id": "b-WZIiBqgaB4"
      }
    },
    {
      "cell_type": "code",
      "source": [
        "my_list = [1, 2, 3]\n",
        "my_list.append(4) # You can add an element\n",
        "print(my_list)\n"
      ],
      "metadata": {
        "id": "0j0tgZE61t3h"
      },
      "execution_count": null,
      "outputs": []
    },
    {
      "cell_type": "markdown",
      "source": [
        "  **Immutable(String):**\n",
        "\n",
        "  new_string = my_string + \" World\" # You have to create a new string print(new_string) When you \"modify\" an immutable object, you are actually creating a new object with the desired changes."
      ],
      "metadata": {
        "id": "CF8_Hpqb2Aop"
      }
    },
    {
      "cell_type": "code",
      "source": [
        "my_string = \"Hello\"\n",
        "# my_string[0] = \"h\" # This would cause an error\n",
        "new_string = my_string + \" World\" # You have to create a new string\n",
        "print(new_string)"
      ],
      "metadata": {
        "id": "yF5h--_K18li"
      },
      "execution_count": null,
      "outputs": []
    },
    {
      "cell_type": "markdown",
      "source": [
        "# Ques 3. What are the main differences between lists and tuples in Python?\n",
        "   -  **Mutability:**\n",
        "  \n",
        "1.   Lists are mutable, meaning you can change their elements after creation (add, remove, or modify elements).\n",
        "2.   Tuples are immutable, meaning you cannot change their elements after creation. Once a tuple is created, its contents are fixed.\n",
        "\n",
        "-  **Syntax:**\n",
        "\n",
        "1. Lists are defined using square brackets [].\n",
        "2. Tuples are defined using parentheses ().\n",
        "\n",
        "-  **Use Cases:**\n",
        "\n",
        "1. Lists are generally used for collections of items that might change during the program's execution.\n",
        "2. Tuples are often used for collections of related items that should not change, such as coordinates (x, y), database records, or function arguments that are a fixed set of values.\n",
        "\n",
        "-  **Performance:**\n",
        "\n",
        "1. Tuples are generally slightly faster than lists due to their immutability. Since their size is fixed, Python can optimize their storage and access.\n",
        "Methods:\n",
        "\n",
        "2. Lists have more built-in methods for modifying the list (e.g., append(), extend(), remove(), pop(), sort(), reverse()).\n",
        "Tuples have fewer methods, mainly for searching and counting elements (index(), count()).\n",
        "Here's a quick summary table:\n",
        "\n",
        "\n",
        "\n"
      ],
      "metadata": {
        "id": "6KhR-oGSgdrp"
      }
    },
    {
      "cell_type": "markdown",
      "source": [
        "# Ques 4. Describe how dictionaries store data\n",
        "-  Dictionaries in Python store data as key-value pairs. Here's a more detailed explanation of how they work:\n",
        "\n",
        "**Key-Value Pairs:** The fundamental unit of a dictionary is a key-value pair. Each key is unique within a dictionary, and it is associated with a specific value. Think of it like a real-world dictionary where a word (the key) is associated with its definition (the value).\n",
        "\n",
        "**Keys Must Be Hashable:** Keys in a Python dictionary must be hashable. Hashable objects have a hash value that remains constant throughout their lifetime and can be compared to other objects. Immutable data types like strings, numbers, and tuples are hashable. Mutable data types like lists and dictionaries are not.\n",
        "\n",
        "**Hash Table Implementation:** Python dictionaries are implemented using hash tables (also known as hash maps). When you add a key-value pair to a dictionary, Python calculates a hash value for the key. This hash value determines where the key-value pair will be stored in the underlying data structure.\n",
        "\n",
        "**Efficient Lookups:** Using hash tables allows for very efficient lookups. When you try to access a value using its key, Python calculates the hash value of the key and uses it to quickly find the corresponding value. In most cases, accessing a value in a dictionary takes constant time, regardless of the size of the dictionary.\n",
        "\n",
        "**No Guaranteed Order:** (in older Python versions): In older versions of Python (prior to 3.7), dictionaries did not guarantee insertion order. The order of items could vary. However, in Python 3.7 and later, dictionaries maintain insertion order.\n",
        "\n",
        "**Dynamic Size:** Dictionaries are dynamic, meaning they can grow or shrink in size as you add or remove key-value pairs.\n"
      ],
      "metadata": {
        "id": "ZVCGs7iTgk3l"
      }
    },
    {
      "cell_type": "markdown",
      "source": [
        "# Ques 5. Why might you use a set instead of a list in Python?\n",
        "  -   You might choose to use a set instead of a list in Python for the following reasons:\n",
        "\n",
        "**Automatic Removal of Duplicates:** Sets inherently store only unique elements. If you have a collection of items and you need to eliminate duplicates, converting it to a set is an efficient way to do this. Lists allow duplicate elements.\n",
        "\n",
        "**Fast Membership Testing:** Checking if an element exists in a set (using the in keyword) is generally faster than checking for membership in a list, especially for larger collections. This is because sets are implemented using hash tables, allowing for near constant-time lookups on average. Lists require iterating through the elements in the worst case.\n",
        "\n",
        "**Mathematical Set Operations:** Sets provide built-in methods for performing common mathematical set operations like union, intersection, difference, and symmetric difference. These operations are highly optimized for sets. While you can perform similar operations with lists, it would typically involve more complex and less efficient code.\n",
        "\n",
        "**When Order Doesn't Matter:** Sets are unordered collections. If the order of elements is not important for your task, using a set can be a suitable choice. Lists maintain the order of elements as they are added.\n"
      ],
      "metadata": {
        "id": "qU-OekbtgoCF"
      }
    },
    {
      "cell_type": "markdown",
      "source": [
        "# Ques 6. What is a string in Python, and how is it different from a list?\n",
        "  -  In Python:\n",
        "\n",
        "**String**\n",
        "\n",
        "1. A string is a sequence of characters.\n",
        "2. It is an immutable data type, meaning that once a string is created, its content cannot be changed.\n",
        "3. Strings are used to represent text. You can create strings using single quotes ('...'), double quotes (\"...\"), or triple quotes ('''...''' or \"\"\"...\"\"\") for multi-line strings.\n",
        "\n",
        "**List**\n",
        "\n",
        "1. A list is a mutable, and you can modify a list after it's created by adding, removing, or changing elements.\n",
        "2. List is a ordered sequence of elements.\n",
        "3. Unlike strings, lists can hold elements of different data types (integers, floats, strings, other lists, etc.),\n",
        "4. Lists are defined using square brackets [].\n",
        "\n",
        "Here's how they are different:\n",
        "\n",
        "1. **Mutability: **Strings are immutable, while lists are mutable.\n",
        "Data Types of Elements: Strings can only contain characters. Lists can contain elements of any data type.\n",
        "2. **Use Cases:** Strings are used for text manipulation and representation. Lists are used for collections of items where order and mutability are important.\n",
        "3. **Representation:** Strings are enclosed in quotes, while lists are enclosed in square brackets.\n",
        "\n",
        "**Note:**\n",
        "While both are sequences and support operations like indexing and slicing, their fundamental difference in mutability and the types of elements they can hold makes them suitable for different tasks."
      ],
      "metadata": {
        "id": "zTP4l7ODgqaW"
      }
    },
    {
      "cell_type": "markdown",
      "source": [
        "# Ques 7. How do tuples ensure data integrity in Python\n",
        "   -  **Tuples:** ensure data integrity in Python primarily because they are immutable. This means that once a tuple is created, you cannot change, add, or remove its elements.\n",
        "\n",
        "Here's how immutability helps ensure data integrity:\n",
        "\n",
        "1. **Prevents Accidental Modification:** Because you cannot change a tuple after it's created, there's no risk of accidentally altering its contents later in your program. This is particularly useful when you have data that should remain constant.\n",
        "2. **Thread Safety:** In multi-threaded environments, immutable objects like tuples are inherently thread-safe. Multiple threads can access and read a tuple concurrently without the risk of one thread modifying it while another is reading, which could lead to unexpected behavior or errors.\n",
        "3. **Suitable for Fixed Data:** Tuples are ideal for representing collections of data where the number and order of elements are fixed and should not change. Examples include coordinates (x, y), RGB color values (red, green, blue), or database records. Using a tuple for such data clearly signals that the data is intended to be constant.\n",
        "4. **Can be Used as Dictionary Keys:** Because tuples are immutable, they are hashable, which means they can be used as keys in dictionaries. This is not possible with mutable data types like lists. Using tuples as dictionary keys allows you to create more complex key structures while maintaining the integrity of the keys.\n"
      ],
      "metadata": {
        "id": "-VuOLKgngs07"
      }
    },
    {
      "cell_type": "markdown",
      "source": [
        "# Ques 8. What is a hash table, and how does it relate to dictionaries in Python?\n",
        "  \n",
        "  -  **A hash table:** (also known as a hash map or dictionary) is a data structure that stores data in key-value pairs. It uses a hash function to compute an index into an array of buckets or slots, from which the desired value can be found.\n",
        "\n",
        "Here's how it relates to dictionaries in Python:\n",
        "\n",
        "**Underlying Implementation:** Python dictionaries are implemented using hash tables. When you create a dictionary and add key-value pairs, Python uses a hash function to determine where each key-value pair should be stored internally.\n",
        "\n",
        "**Keys and Hashing:** When you use a key to access a value in a dictionary, Python first calculates the hash value of the key. This hash value is then used to quickly locate the corresponding value in the hash table.\n",
        "\n",
        "**Efficient Lookups:** The primary advantage of using a hash table is that it allows for very efficient lookups, insertions, and deletions. On average, these operations take constant time, regardless of the size of the dictionary. This is because the hash function allows Python to directly jump to the likely location of the data, rather than having to search through all the elements.\n",
        "\n",
        "**Hashable Keys: **As mentioned before, dictionary keys in Python must be hashable. This is a requirement because the hash table relies on the ability to compute a consistent hash value for each key. Immutable objects are generally hashable because their value (and thus their hash) doesn't change.\n",
        "\n"
      ],
      "metadata": {
        "id": "3I2d4f8Lgzm5"
      }
    },
    {
      "cell_type": "markdown",
      "source": [
        "# Ques 9. Can lists contain different data types in Python?\n",
        "  -  Yes, lists in Python can contain elements of different data types. This is one of the key features that makes lists flexible.\n",
        "\n",
        " For example, a single list can hold integers, floats, strings, booleans, other lists, tuples, dictionaries, and even custom objects.\n",
        "\n",
        "    Ex:  [1,2,3,4.05,\"Elephant\",True,none,(3i+7j)]\n"
      ],
      "metadata": {
        "id": "1rzZxXmvg6ME"
      }
    },
    {
      "cell_type": "markdown",
      "source": [
        "# Ques 10. Explain why strings are immutable in Python?\n",
        "  -  Strings in Python are immutable, which means their content cannot be changed after they are created.\n",
        "  \n",
        "  Here's why this is the case and some of the implications:\n",
        "\n",
        "1. **Design Choice:** Immutability is a design choice in Python for strings. It simplifies the implementation and offers certain advantages.\n",
        "\n",
        "2. **Efficiency:** In some cases, immutability can lead to more efficient memory usage and processing. When you perform operations that seem to modify a string (like concatenation or slicing), Python actually creates a new string object in memory with the desired changes, rather than altering the original string in place. This can be optimized by Python's internal mechanisms.\n",
        "\n",
        "3. **Hashability:** Immutable objects can be hashable, which means they have a unique and constant hash value. This is essential for using strings as keys in dictionaries or elements in sets. If strings were mutable, their hash value could change, making them unsuitable for these data structures.\n",
        "\n",
        "4. **Sharing and Aliasing:** When you have multiple variables pointing to the same string object, because strings are immutable, you don't have to worry about one variable's modifications affecting the others. If strings were mutable, changing a string through one variable would affect all other variables referencing the same string.\n"
      ],
      "metadata": {
        "id": "-kon-1vIg82k"
      }
    },
    {
      "cell_type": "markdown",
      "source": [
        "# Ques 11. What advantages do dictionaries offer over lists for certain tasks?\n",
        "  -  **Dictionaries**offer several advantages over lists for certain tasks, primarily when you need to associate values with specific keys rather than just having an ordered sequence of elements.\n",
        "   \n",
        "   Here are some key advantages:\n",
        "\n",
        "1. **Efficient Lookups (by key):** Dictionaries are designed for very fast lookups based on keys. When you know the key, retrieving the corresponding value is typically much faster in a dictionary (average case O(1) time complexity) than searching for an element in a list (average case O(n) time complexity). This makes dictionaries ideal for scenarios where you need to quickly access data associated with a unique identifier.\n",
        "\n",
        "2. **Associative Array/Mapping:** Dictionaries represent a mapping between keys and values. This is useful when you have data that naturally fits a key-value structure, such as configuration settings, database records (where keys could be field names), or representing objects with properties.\n",
        "\n",
        "3. **Meaningful Access:** Accessing data in a dictionary using a descriptive key (e.g., person['name']) is often more readable and intuitive than accessing data in a list using a numerical index (e.g., person[0]).\n",
        "\n",
        "4. **No Order Dependency (in older Python versions):** While modern Python (3.7+) dictionaries maintain insertion order, historically, dictionaries were unordered. If the order of elements is not important, dictionaries can be a good choice, and their structure explicitly reflects that the data is not ordered by position.\n",
        "\n",
        "5. **Flexible Keys:** Dictionary keys can be various hashable data types (strings, numbers, tuples), allowing for more flexible ways to organize and access data compared to the integer-based indexing of lists.\n",
        "\n",
        "**Scenarios where dictionaries are preferred:**\n",
        "\n",
        "1. Storing configuration settings.\n",
        "2. Representing objects with named attributes.\n",
        "3. Counting the frequency of items.\n",
        "4. Implementing caches or memoization.\n",
        "5. Storing data that needs to be quickly retrieved based on a unique identifier.\n",
        "\n"
      ],
      "metadata": {
        "id": "f50PmTkNg-74"
      }
    },
    {
      "cell_type": "markdown",
      "source": [
        "# Ques 12. How do sets handle duplicate values in Python?\n",
        "   - **Sets** in Python are designed to store only unique elements. This means that sets automatically handle duplicate values by simply not including them.\n",
        "\n",
        "Here's how it works:\n",
        "\n",
        "When you create a set with duplicate values: If you initialize a set with multiple occurrences of the same element, the set will only store one instance of that element.\n"
      ],
      "metadata": {
        "id": "jERRETzYhCc9"
      }
    },
    {
      "cell_type": "code",
      "source": [
        " s= {1, 2, 3}\n",
        " s.add(2) # Trying to add a duplicate\n",
        " print(s)"
      ],
      "metadata": {
        "colab": {
          "base_uri": "https://localhost:8080/"
        },
        "id": "h4b97XW6BQzi",
        "outputId": "3d319d7e-2542-4134-f302-5cf7e0c1225f"
      },
      "execution_count": 2,
      "outputs": [
        {
          "output_type": "stream",
          "name": "stdout",
          "text": [
            "{1, 2, 3}\n"
          ]
        }
      ]
    },
    {
      "cell_type": "markdown",
      "source": [
        "# Ques 13. Describe a scenario where using a tuple would be preferable over a list\n",
        "  -  You might choose to use a tuple instead of a list in Python when you have a collection of items that represent a fixed, unchangeable set of related values.\n",
        "\n",
        "  A tuple is preferable over a list when you need data that is fixed, ordered, and should not be modified. For example, if you are storing the latitude and longitude of a city as (28.7041, 77.1025), a tuple is ideal because these coordinates are permanent values and should not be accidentally changed. Tuples also work well as dictionary keys (since they are immutable) or when returning multiple values from a function, ensuring the returned set of data stays intact.\n"
      ],
      "metadata": {
        "id": "eZOLsqhchE-o"
      }
    },
    {
      "cell_type": "markdown",
      "source": [
        "# Ques 14. How does the “in” keyword work differently for lists and dictionaries\n",
        "   -  The in keyword checks for membership, but its behavior differs between lists and dictionaries:\n",
        "\n",
        "*   **In a list:** it checks whether a value exists in the list.\n",
        "*   **In a dictionary:** it checks whether a key exists, not the value.\n",
        "\n"
      ],
      "metadata": {
        "id": "WAESE6G3hG8X"
      }
    },
    {
      "cell_type": "code",
      "source": [
        "# List\n",
        "numbers = [1, 2, 3, 4]\n",
        "print(3 in numbers)   # True\n",
        "print(5 in numbers)   # False"
      ],
      "metadata": {
        "colab": {
          "base_uri": "https://localhost:8080/"
        },
        "id": "0QKIW0aMEcWH",
        "outputId": "aeb4780e-0731-45ef-bff5-fcb5820ac5c4"
      },
      "execution_count": 3,
      "outputs": [
        {
          "output_type": "stream",
          "name": "stdout",
          "text": [
            "True\n",
            "False\n"
          ]
        }
      ]
    },
    {
      "cell_type": "code",
      "source": [
        "# Dictonaries\n",
        "student = {\"name\": \"Ankit\", \"age\": 21}\n",
        "print(\"name\" in student)   # True  (key exists)\n",
        "print(\"Ankit\" in student)  # False (value, not key)"
      ],
      "metadata": {
        "colab": {
          "base_uri": "https://localhost:8080/"
        },
        "id": "mM7mXXH0EiPs",
        "outputId": "3f5d21f4-0833-4e09-f5fc-c776b17a2cf7"
      },
      "execution_count": 4,
      "outputs": [
        {
          "output_type": "stream",
          "name": "stdout",
          "text": [
            "True\n",
            "False\n"
          ]
        }
      ]
    },
    {
      "cell_type": "markdown",
      "source": [
        "# Ques 15. Can you modify the elements of a tuple? Explain why or why not  \n",
        "   -  No, you cannot modify the elements of a tuple because tuples are immutable in Python.\n",
        "\n",
        "1. Once a tuple is created, its elements are fixed and cannot be changed, added, or removed.\n",
        "\n",
        "2. This immutability makes tuples safe to use as keys in dictionaries and ensures data integrity when you want values to remain constant.\n",
        "\n",
        "3. However, if a tuple contains a mutable object (like a list), the object inside can be modified, but the tuple structure itself cannot:\n"
      ],
      "metadata": {
        "id": "16kIwFnbhJLU"
      }
    },
    {
      "cell_type": "code",
      "source": [
        "t = (1, [2, 3], 4)\n",
        "t[1].append(5)   # ✅ Works, because the list inside is mutable\n",
        "print(t)  # (1, [2, 3, 5], 4)"
      ],
      "metadata": {
        "colab": {
          "base_uri": "https://localhost:8080/"
        },
        "id": "gpwIj5AoFbO2",
        "outputId": "dc5accbc-7815-4168-9e50-6d38cee01b5d"
      },
      "execution_count": 5,
      "outputs": [
        {
          "output_type": "stream",
          "name": "stdout",
          "text": [
            "(1, [2, 3, 5], 4)\n"
          ]
        }
      ]
    },
    {
      "cell_type": "markdown",
      "source": [
        "# Ques 16. What is a nested dictionary, and give an example of its use case\n",
        "   -  A nested dictionary is a dictionary inside another dictionary. It allows you to store data in a hierarchical way, where each key can itself hold another dictionary as its value.\n",
        "\n",
        "  ** Use Case:**\n",
        "\n",
        "  1. Managing structured data such as student records, employee details, or configuration settings.\n",
        "\n",
        "  2. For instance, in a school management system, each student can have details like personal info and subject-wise marks stored neatly in a nested dictionary.\n",
        "\n",
        " Example :"
      ],
      "metadata": {
        "id": "Anlc4sAYhLoL"
      }
    },
    {
      "cell_type": "code",
      "source": [
        "students = {\n",
        "    \"101\": {\"name\": \"Ravi\", \"age\": 20, \"marks\": {\"math\": 85, \"science\": 90}},\n",
        "    \"102\": {\"name\": \"Anita\", \"age\": 22, \"marks\": {\"math\": 78, \"science\": 88}}\n",
        "}\n",
        "\n",
        "print(students[\"101\"][\"name\"])        # Ravi\n",
        "print(students[\"102\"][\"marks\"][\"math\"])  # 78"
      ],
      "metadata": {
        "colab": {
          "base_uri": "https://localhost:8080/"
        },
        "id": "mxrfnssIGA13",
        "outputId": "cf25a88a-1f50-4bcc-eed6-7a27a059c4e6"
      },
      "execution_count": 6,
      "outputs": [
        {
          "output_type": "stream",
          "name": "stdout",
          "text": [
            "Ravi\n",
            "78\n"
          ]
        }
      ]
    },
    {
      "cell_type": "markdown",
      "source": [
        "# Ques 17. Describe the time complexity of accessing elements in a dictionary\n",
        "   -  Accessing elements in a dictionary in Python has an average-case time complexity of O(1).\n",
        "\n",
        "  Python dictionaries use a hash table under the hood. When you access a key, Python computes its hash, finds the corresponding bucket, and retrieves the value directly.\n",
        "\n",
        "  This makes lookups, insertions, and deletions very efficient on average.\n",
        "  Worst Case:\n",
        "\n",
        "  In rare situations (e.g., many hash collisions), the complexity can degrade to O(n), where n is the number of items in the dictionary. However, Python’s hashing and table resizing strategies make this extremely unlikely in practice.\n",
        "\n",
        "  So, practically dictionary access is constant time, O(1)."
      ],
      "metadata": {
        "id": "-tWk8h9nhNet"
      }
    },
    {
      "cell_type": "markdown",
      "source": [
        "# Ques 18. In what situations are lists preferred over dictionaries\n",
        "  -   Lists are preferred over dictionaries in situations where:\n",
        "\n",
        "**Order matters:** Lists maintain the order of elements, making them ideal for sequences like queues, stacks, or ordered collections.\n",
        "\n",
        "Ex - tasks = [\"wake up\", \"exercise\", \"study\"]\n",
        "\n",
        "\n",
        "**Index-based access:** If you need to access elements by position (e.g., list[0]), a list is the natural choice.\n",
        "\n",
        "Ex - print(tasks[1])  # \"exercise\"\n",
        "\n",
        "\n",
        "**Duplicates are allowed:**Lists can store repeated values, unlike dictionary keys which must be unique.\n",
        "\n",
        "Ex - numbers = [1, 2, 2, 3, 3, 3]\n",
        "\n",
        "**Simple collections:**When data is just a sequence of values without needing labels or relationships between elements."
      ],
      "metadata": {
        "id": "2ADQkJL2hPcx"
      }
    },
    {
      "cell_type": "markdown",
      "source": [
        "# Ques 19. Why are dictionaries considered unordered, and how does that affect data retrieval\n",
        "  -  **Dictionaries** are considered unordered because their elements are stored using a hash table, not by sequence or position. Each key is mapped to a memory location based on its hash value, which means the order of insertion does not define how items are stored internally.\n",
        "\n",
        "**Effect on Data Retrieval:**\n",
        "\n",
        "1. No index-based access – You cannot do dict[0] to get the first element like you can in a list. Retrieval is always by key, not position.\n",
        "\n",
        "Ex - student = {\"name\": \"Ravi\", \"age\": 21}\n",
        "     print(student[\"name\"])  # Works\n",
        "    # print(student[0])     # Error\n",
        "\n",
        "\n",
        "2. Efficient lookups – Since retrieval is based on hashing the key, the order doesn’t matter; access time is still O(1) on average.\n",
        "\n",
        "3. Modern Python note – Since Python 3.7+, dictionaries preserve insertion order as an implementation detail (and it became a language guarantee in Python 3.8).\n",
        "\n",
        "This means iterating over a dictionary will return items in the order they were added.\n",
        "\n",
        "But even then, retrieval still depends on keys, not positions.\n"
      ],
      "metadata": {
        "id": "vsBkMVeJhRHV"
      }
    },
    {
      "cell_type": "markdown",
      "source": [
        "# Ques 20. Explain the difference between a list and a dictionary in terms of data\n",
        "  -  The main difference between a list and a dictionary in terms of data retrieval is how elements are accessed:\n",
        "\n",
        "**List:**\n",
        "\n",
        "1. Retrieval is index-based (by position).\n",
        "2. Elements are ordered, so you can use an integer index to fetch a value.\n",
        "\n",
        "Ex: fruits = [\"apple\", \"banana\", \"mango\"]\n",
        "    print(fruits[1])   # \"banana\" (second element)\n",
        "\n",
        "\n",
        "**Dictionary:**\n",
        "\n",
        "1. Retrieval is key-based (by unique identifiers).\n",
        "2. Elements are not accessed by position but by their associated key.\n",
        "\n",
        "Ex: student = {\"name\": \"Anita\", \"age\": 22}\n",
        "    print(student[\"name\"])  # \"Anita\"\n",
        "\n",
        "**Key Difference:**\n",
        "\n",
        "1. In a list, you say “give me the 2nd item”.\n",
        "2. In a dictionary, you say “give me the item with key ‘name’”.\n",
        "\n",
        "Lists are best for ordered collections you access by position, while dictionaries are best for mapping unique keys to values for quick lookups."
      ],
      "metadata": {
        "id": "k_s2HidNhTQ8"
      }
    },
    {
      "cell_type": "markdown",
      "source": [
        "# **Practical Questions**"
      ],
      "metadata": {
        "id": "WtwKUmZJjUfY"
      }
    },
    {
      "cell_type": "markdown",
      "source": [
        "# Ques 1. Write a code to find the length of the string \"Hello World\"\n"
      ],
      "metadata": {
        "id": "yHq7s63ijrLr"
      }
    },
    {
      "cell_type": "code",
      "source": [
        "s = \"Hello World\"\n",
        "print(len(s))"
      ],
      "metadata": {
        "colab": {
          "base_uri": "https://localhost:8080/"
        },
        "id": "gFJXLP2ik0Vl",
        "outputId": "808c4858-bcfa-4888-a05a-996c4df64f5b"
      },
      "execution_count": null,
      "outputs": [
        {
          "output_type": "stream",
          "name": "stdout",
          "text": [
            "11\n"
          ]
        }
      ]
    },
    {
      "cell_type": "markdown",
      "source": [
        "# Ques 2. Write a code to slice the first 3 characters from the string \"Python Programming\"\n"
      ],
      "metadata": {
        "id": "GAkXJ-QQjvlV"
      }
    },
    {
      "cell_type": "code",
      "source": [
        "s = \"Python Programming\"\n",
        "print(s[:3])"
      ],
      "metadata": {
        "colab": {
          "base_uri": "https://localhost:8080/"
        },
        "id": "lpnf8d72kyO5",
        "outputId": "3e36461f-5a41-4a41-dd42-ab6baeb480a8"
      },
      "execution_count": null,
      "outputs": [
        {
          "output_type": "stream",
          "name": "stdout",
          "text": [
            "Pyt\n"
          ]
        }
      ]
    },
    {
      "cell_type": "markdown",
      "source": [
        "# Ques 3. Write a code to convert the string \"hello\" to uppercase\n"
      ],
      "metadata": {
        "id": "UlPSoCObjx4b"
      }
    },
    {
      "cell_type": "code",
      "source": [
        "s = \"hello\"\n",
        "print(s.upper())"
      ],
      "metadata": {
        "colab": {
          "base_uri": "https://localhost:8080/"
        },
        "id": "czktXJdak1Sq",
        "outputId": "bb3253b0-6c3d-44b5-e206-61b411f265e1"
      },
      "execution_count": null,
      "outputs": [
        {
          "output_type": "stream",
          "name": "stdout",
          "text": [
            "HELLO\n"
          ]
        }
      ]
    },
    {
      "cell_type": "markdown",
      "source": [
        "# Ques 4. Write a code to replace the word \"apple\" with \"orange\" in the string \"I like apple\"\n"
      ],
      "metadata": {
        "id": "Y4rDaXZ_j1fV"
      }
    },
    {
      "cell_type": "code",
      "source": [
        "s = \"apple\"\n",
        "print(s.replace(\"apple\", \"orange\"))"
      ],
      "metadata": {
        "colab": {
          "base_uri": "https://localhost:8080/"
        },
        "id": "yFy96qS8k2vU",
        "outputId": "dc107f74-f6aa-4620-89aa-cb894385a61d"
      },
      "execution_count": null,
      "outputs": [
        {
          "output_type": "stream",
          "name": "stdout",
          "text": [
            "orange\n"
          ]
        }
      ]
    },
    {
      "cell_type": "markdown",
      "source": [
        "# Ques 5. Write a code to create a list with numbers 1 to 5 and print it\n"
      ],
      "metadata": {
        "id": "KQ65mACIj3p-"
      }
    },
    {
      "cell_type": "code",
      "source": [
        "l = [1,2,3,4,5]\n",
        "print(l)\n",
        "print(type(l))"
      ],
      "metadata": {
        "colab": {
          "base_uri": "https://localhost:8080/"
        },
        "id": "QdyCKqR8k3lg",
        "outputId": "5ecd43d8-2f18-4216-94f8-935e4bd43e38"
      },
      "execution_count": null,
      "outputs": [
        {
          "output_type": "stream",
          "name": "stdout",
          "text": [
            "[1, 2, 3, 4, 5]\n",
            "<class 'list'>\n"
          ]
        }
      ]
    },
    {
      "cell_type": "markdown",
      "source": [
        "# Ques 6. Write a code to append the number 10 to the list [1, 2, 3, 4]\n"
      ],
      "metadata": {
        "id": "ku7yk6Jtj5u2"
      }
    },
    {
      "cell_type": "code",
      "source": [
        "l =[1,2,3,4]\n",
        "l.append(10)\n",
        "print(l)"
      ],
      "metadata": {
        "colab": {
          "base_uri": "https://localhost:8080/"
        },
        "id": "Vr2O7WBZk5NX",
        "outputId": "fdb9a60b-d12c-4c16-a21e-5ff8d451614c"
      },
      "execution_count": null,
      "outputs": [
        {
          "output_type": "stream",
          "name": "stdout",
          "text": [
            "[1, 2, 3, 4, 10]\n"
          ]
        }
      ]
    },
    {
      "cell_type": "markdown",
      "source": [
        "# Ques 7. Write a code to remove the number 3 from the list [1, 2, 3, 4, 5]\n"
      ],
      "metadata": {
        "id": "IKGpbg3aj8yh"
      }
    },
    {
      "cell_type": "code",
      "source": [
        "l =  [1, 2, 3, 4, 5]\n",
        "l.remove(3)\n",
        "print(l)"
      ],
      "metadata": {
        "colab": {
          "base_uri": "https://localhost:8080/"
        },
        "id": "Zqas-FU6k6M-",
        "outputId": "f122b2a2-ba36-458b-bbfd-631b9669efa4"
      },
      "execution_count": null,
      "outputs": [
        {
          "output_type": "stream",
          "name": "stdout",
          "text": [
            "[1, 2, 4, 5]\n"
          ]
        }
      ]
    },
    {
      "cell_type": "markdown",
      "source": [
        "# Ques 8. Write a code to access the second element in the list ['a', 'b', 'c', 'd']\n"
      ],
      "metadata": {
        "id": "9E0V5nguj-VU"
      }
    },
    {
      "cell_type": "code",
      "source": [
        "l = ['a', 'b', 'c', 'd']\n",
        "print(l[1])"
      ],
      "metadata": {
        "colab": {
          "base_uri": "https://localhost:8080/"
        },
        "id": "Ju8snweyk6-k",
        "outputId": "9a995fac-4528-45c0-ed91-95e99384ceac"
      },
      "execution_count": null,
      "outputs": [
        {
          "output_type": "stream",
          "name": "stdout",
          "text": [
            "b\n"
          ]
        }
      ]
    },
    {
      "cell_type": "markdown",
      "source": [
        "# Ques 9. Write a code to reverse the list [10, 20, 30, 40, 50]"
      ],
      "metadata": {
        "id": "-4pRI6IFkAF_"
      }
    },
    {
      "cell_type": "code",
      "source": [
        "l =  [10, 20, 30, 40, 50]\n",
        "l.reverse()\n",
        "print(l)\n"
      ],
      "metadata": {
        "colab": {
          "base_uri": "https://localhost:8080/"
        },
        "id": "3sjFmszXk8Ry",
        "outputId": "26c28280-d18c-4c9d-d4d3-a6b8b91d876f"
      },
      "execution_count": null,
      "outputs": [
        {
          "output_type": "stream",
          "name": "stdout",
          "text": [
            "[50, 40, 30, 20, 10]\n"
          ]
        }
      ]
    },
    {
      "cell_type": "markdown",
      "source": [
        "# Ques 11. Write a code to create a tuple with the elements 100, 200, 300 and print it."
      ],
      "metadata": {
        "id": "_unjXf98lprg"
      }
    },
    {
      "cell_type": "code",
      "source": [
        "t = (100,200,300)\n",
        "print(t)\n",
        "print(type(t))"
      ],
      "metadata": {
        "colab": {
          "base_uri": "https://localhost:8080/"
        },
        "id": "txEQqGMUnaC_",
        "outputId": "08ad5c9c-9faf-4a89-addf-c2d96c722579"
      },
      "execution_count": null,
      "outputs": [
        {
          "output_type": "stream",
          "name": "stdout",
          "text": [
            "(100, 200, 300)\n",
            "<class 'tuple'>\n"
          ]
        }
      ]
    },
    {
      "cell_type": "markdown",
      "source": [
        "# Ques 12. Write a code to access the second-to-last element of the tuple ('red', 'green', 'blue', 'yellow').\n"
      ],
      "metadata": {
        "id": "CWhlkMtFll1G"
      }
    },
    {
      "cell_type": "code",
      "source": [
        "t = ('red', 'green', 'blue', 'yellow')\n",
        "print(t[-2])"
      ],
      "metadata": {
        "colab": {
          "base_uri": "https://localhost:8080/"
        },
        "id": "A6bq6iX8na_I",
        "outputId": "04931c70-8275-41ec-e2fd-00c24b595e18"
      },
      "execution_count": null,
      "outputs": [
        {
          "output_type": "stream",
          "name": "stdout",
          "text": [
            "blue\n"
          ]
        }
      ]
    },
    {
      "cell_type": "markdown",
      "source": [
        "# Ques 13. Write a code to find the minimum number in the tuple (10, 20, 5, 15).\n"
      ],
      "metadata": {
        "id": "g9uNn_pblx_Z"
      }
    },
    {
      "cell_type": "code",
      "source": [
        "t = (10, 20, 5, 15)\n",
        "print(min(t))"
      ],
      "metadata": {
        "colab": {
          "base_uri": "https://localhost:8080/"
        },
        "id": "Fi1iP66HncIv",
        "outputId": "9b8e4459-f427-447b-c4be-7cfd2f1aaa20"
      },
      "execution_count": null,
      "outputs": [
        {
          "output_type": "stream",
          "name": "stdout",
          "text": [
            "5\n"
          ]
        }
      ]
    },
    {
      "cell_type": "markdown",
      "source": [
        "# Ques 14. Write a code to find the index of the element \"cat\" in the tuple ('dog', 'cat', 'rabbit').\n"
      ],
      "metadata": {
        "id": "IiEK2IMamDAR"
      }
    },
    {
      "cell_type": "code",
      "source": [
        "t = ('dog', 'cat', 'rabbit')\n",
        "print(t.index(\"cat\"))"
      ],
      "metadata": {
        "colab": {
          "base_uri": "https://localhost:8080/"
        },
        "id": "rk3MXxCIndBL",
        "outputId": "a92640ad-bcf1-4fa5-ac82-2d3abd76ed0d"
      },
      "execution_count": null,
      "outputs": [
        {
          "output_type": "stream",
          "name": "stdout",
          "text": [
            "1\n"
          ]
        }
      ]
    },
    {
      "cell_type": "markdown",
      "source": [
        "# Ques 15. Write a code to create a tuple containing three different fruits and check if \"kiwi\" is in it.\n"
      ],
      "metadata": {
        "id": "jlsCEpxomGvF"
      }
    },
    {
      "cell_type": "code",
      "source": [
        "t = (\"apple\", \"banana\", \"cherry\",\"Kiwi\")\n",
        "if \"Kiwi\" in t:\n",
        "  print(\"Yes\")\n",
        "else:\n",
        "  print(\"No\")\n"
      ],
      "metadata": {
        "colab": {
          "base_uri": "https://localhost:8080/"
        },
        "id": "c1KqSZfNneBh",
        "outputId": "340fa50a-5940-479e-983a-6d2827cc7ad4"
      },
      "execution_count": null,
      "outputs": [
        {
          "output_type": "stream",
          "name": "stdout",
          "text": [
            "Yes\n"
          ]
        }
      ]
    },
    {
      "cell_type": "markdown",
      "source": [
        "# Ques 16. Write a code to create a set with the elements 'a', 'b', 'c' and print it.\n"
      ],
      "metadata": {
        "id": "aN5JtBOdmJVy"
      }
    },
    {
      "cell_type": "code",
      "source": [
        "s = {\"a\",\"b\",\"c\"}\n",
        "print(s)\n",
        "print(type(s))"
      ],
      "metadata": {
        "colab": {
          "base_uri": "https://localhost:8080/"
        },
        "id": "BXCBDyq6ne1v",
        "outputId": "83bd1188-d271-4f70-9e36-0689c9c1b858"
      },
      "execution_count": null,
      "outputs": [
        {
          "output_type": "stream",
          "name": "stdout",
          "text": [
            "{'a', 'b', 'c'}\n",
            "<class 'set'>\n"
          ]
        }
      ]
    },
    {
      "cell_type": "markdown",
      "source": [
        "# Ques 17. Write a code to clear all elements from the set {1, 2, 3, 4, 5}.\n"
      ],
      "metadata": {
        "id": "uryEAWU8mQJi"
      }
    },
    {
      "cell_type": "code",
      "source": [
        "s = {1,2,3,4}\n",
        "s.clear()\n",
        "print(s)"
      ],
      "metadata": {
        "colab": {
          "base_uri": "https://localhost:8080/"
        },
        "id": "nlbvAU2nng8s",
        "outputId": "2b4df5ca-1d03-4a23-8aae-6e0a49287f2c"
      },
      "execution_count": null,
      "outputs": [
        {
          "output_type": "stream",
          "name": "stdout",
          "text": [
            "set()\n"
          ]
        }
      ]
    },
    {
      "cell_type": "markdown",
      "source": [
        "# Ques 18. Write a code to remove the element 4 from the set {1, 2, 3, 4}.\n"
      ],
      "metadata": {
        "id": "dPYHTaaZmXpg"
      }
    },
    {
      "cell_type": "code",
      "source": [
        "s = {1,2,3,4}\n",
        "s.remove(4)\n",
        "print(s)"
      ],
      "metadata": {
        "colab": {
          "base_uri": "https://localhost:8080/"
        },
        "id": "XlF5LZHWniYe",
        "outputId": "f781ccbd-d450-4139-847d-666bade17f78"
      },
      "execution_count": null,
      "outputs": [
        {
          "output_type": "stream",
          "name": "stdout",
          "text": [
            "{1, 2, 3}\n"
          ]
        }
      ]
    },
    {
      "cell_type": "markdown",
      "source": [
        "# Ques 19. Write a code to find the union of two sets {1, 2, 3} and {3, 4, 5}.\n"
      ],
      "metadata": {
        "id": "PXADixHJmccY"
      }
    },
    {
      "cell_type": "code",
      "source": [
        "s1 = {1,2,3}\n",
        "s2 = {3,4,5}\n",
        "print(s1.union(s2))"
      ],
      "metadata": {
        "colab": {
          "base_uri": "https://localhost:8080/"
        },
        "id": "wA6wIZJcnjLw",
        "outputId": "922f3041-c421-4355-c99f-ecd459215ef9"
      },
      "execution_count": null,
      "outputs": [
        {
          "output_type": "stream",
          "name": "stdout",
          "text": [
            "{1, 2, 3, 4, 5}\n"
          ]
        }
      ]
    },
    {
      "cell_type": "markdown",
      "source": [
        "# Ques 20. Write a code to find the intersection of two sets {1, 2, 3} and {2, 3, 4}.\n"
      ],
      "metadata": {
        "id": "kYJd02pnmenQ"
      }
    },
    {
      "cell_type": "code",
      "source": [
        "s1 = {1,2,3}\n",
        "s2 = {3,4,5}\n",
        "print(s1.intersection(s2))"
      ],
      "metadata": {
        "colab": {
          "base_uri": "https://localhost:8080/"
        },
        "id": "rzxwwpbBnlda",
        "outputId": "1a3985c5-47e9-489b-f8c4-90167e1beafb"
      },
      "execution_count": null,
      "outputs": [
        {
          "output_type": "stream",
          "name": "stdout",
          "text": [
            "{3}\n"
          ]
        }
      ]
    },
    {
      "cell_type": "markdown",
      "source": [
        "# Ques 21. Write a code to create a dictionary with the keys \"name\", \"age\", and \"city\", and print it.\n",
        "#"
      ],
      "metadata": {
        "id": "wnDoobK5mh_D"
      }
    },
    {
      "cell_type": "code",
      "source": [
        "d = {\"name\":\"  Ankita\",\n",
        "\"age\": 21, \"city\": \"Lucknow\"}\n",
        "print(d)\n",
        "print(type(d))"
      ],
      "metadata": {
        "colab": {
          "base_uri": "https://localhost:8080/"
        },
        "id": "GRgaGIUenmUb",
        "outputId": "ba14646b-40bb-41ba-ac1c-17a667a9fc77"
      },
      "execution_count": null,
      "outputs": [
        {
          "output_type": "stream",
          "name": "stdout",
          "text": [
            "{'name': '  Ankita', 'age': 21, 'city': 'Lucknow'}\n",
            "<class 'dict'>\n"
          ]
        }
      ]
    },
    {
      "cell_type": "markdown",
      "source": [
        "# Ques 22. Write a code to add a new key-value pair \"country\": \"USA\" to the dictionary {'name': 'John', 'age': 25}.\n",
        "# result.(replaced)\n"
      ],
      "metadata": {
        "id": "lm1zqNnlmlGf"
      }
    },
    {
      "cell_type": "code",
      "source": [
        "d = {'name': 'John', 'age': 25}\n",
        "d[\"country\"] =\"USA\"\n",
        "print(d)"
      ],
      "metadata": {
        "colab": {
          "base_uri": "https://localhost:8080/"
        },
        "id": "ocsEWgIqnoWl",
        "outputId": "2b7925d3-d55c-4164-fbdd-d889d03a9ddf"
      },
      "execution_count": null,
      "outputs": [
        {
          "output_type": "stream",
          "name": "stdout",
          "text": [
            "{'name': 'John', 'age': 25, 'country': 'USA'}\n"
          ]
        }
      ]
    },
    {
      "cell_type": "markdown",
      "source": [
        "# Ques 23. Write a code to access the value associated with the key \"name\" in the dictionary {'name': 'Alice', 'age': 30}.\n"
      ],
      "metadata": {
        "id": "hBLHgpKdmyEG"
      }
    },
    {
      "cell_type": "code",
      "source": [
        "d =  {'name': 'Alice', 'age': 30}\n",
        "print(d[\"name\"])"
      ],
      "metadata": {
        "colab": {
          "base_uri": "https://localhost:8080/"
        },
        "id": "dNiiN-8PnpTX",
        "outputId": "fca80c74-8a8f-46c2-f385-186923086ae6"
      },
      "execution_count": null,
      "outputs": [
        {
          "output_type": "stream",
          "name": "stdout",
          "text": [
            "Alice\n"
          ]
        }
      ]
    },
    {
      "cell_type": "markdown",
      "source": [
        "# Ques 24. Write a code to remove the key \"age\" from the dictionary {'name': 'Bob', 'age': 22, 'city': 'New York'}.\n"
      ],
      "metadata": {
        "id": "2YVKg2vLmz80"
      }
    },
    {
      "cell_type": "code",
      "source": [
        "d = {'name': 'Bob', 'age': 22, 'city': 'New York'}\n",
        "d.pop(\"age\")\n",
        "print(d)"
      ],
      "metadata": {
        "colab": {
          "base_uri": "https://localhost:8080/"
        },
        "id": "YsHtP6xInqbu",
        "outputId": "ccf61295-7edc-4c99-d871-fc1673a88204"
      },
      "execution_count": null,
      "outputs": [
        {
          "output_type": "stream",
          "name": "stdout",
          "text": [
            "{'name': 'Bob', 'city': 'New York'}\n"
          ]
        }
      ]
    },
    {
      "cell_type": "markdown",
      "source": [
        "# Ques 25. Write a code to check if the key \"city\" exists in the dictionary {'name': 'Alice', 'city': 'Paris'}.\n",
        "# to a set"
      ],
      "metadata": {
        "id": "U5HijSpZm25e"
      }
    },
    {
      "cell_type": "code",
      "source": [
        "d = {'name': 'Alice', 'city': 'Paris'}\n",
        "if \"city\" in d:\n",
        "    print(\"yes\")\n",
        "else:\n",
        "    print(\"no\")"
      ],
      "metadata": {
        "colab": {
          "base_uri": "https://localhost:8080/"
        },
        "id": "D2LLSWV_nrtm",
        "outputId": "8a5a0c8c-2a10-4190-d0f1-3e5a2d427c13"
      },
      "execution_count": null,
      "outputs": [
        {
          "output_type": "stream",
          "name": "stdout",
          "text": [
            "yes\n"
          ]
        }
      ]
    },
    {
      "cell_type": "markdown",
      "source": [
        "# Ques 26. Write a code to create a list, a tuple, and a dictionary, and print them all.\n"
      ],
      "metadata": {
        "id": "JYJ3hClmm8pS"
      }
    },
    {
      "cell_type": "code",
      "source": [
        "my_list = [1, 2, 3]\n",
        "my_tuple = (4, 5, 6)\n",
        "my_dict = {\"a\": 7, \"b\": 8, \"c\": 9}\n",
        "\n",
        "print(\"List:\", my_list)\n",
        "print(\"Tuple:\", my_tuple)\n",
        "print(\"Dictionary:\", my_dict)"
      ],
      "metadata": {
        "colab": {
          "base_uri": "https://localhost:8080/"
        },
        "id": "DB5EIR4yns5Y",
        "outputId": "4d35380a-31df-4e79-e7b9-9ca3ce034b1b"
      },
      "execution_count": null,
      "outputs": [
        {
          "output_type": "stream",
          "name": "stdout",
          "text": [
            "List: [1, 2, 3]\n",
            "Tuple: (4, 5, 6)\n",
            "Dictionary: {'a': 7, 'b': 8, 'c': 9}\n"
          ]
        }
      ]
    },
    {
      "cell_type": "markdown",
      "source": [
        "# Ques 27. Write a code to create a list of 5 random numbers between 1 and 100, sort it in ascending order, and print the\n"
      ],
      "metadata": {
        "id": "pmUWcy28nF3U"
      }
    },
    {
      "cell_type": "code",
      "source": [
        "l = [1,55,23,83,99]\n",
        "l.sort()\n",
        "print(l)"
      ],
      "metadata": {
        "colab": {
          "base_uri": "https://localhost:8080/"
        },
        "id": "ANRT1OE1nuUv",
        "outputId": "56540bb3-a777-417d-cd99-b6c35ef3efbc"
      },
      "execution_count": null,
      "outputs": [
        {
          "output_type": "stream",
          "name": "stdout",
          "text": [
            "[1, 23, 55, 83, 99]\n"
          ]
        }
      ]
    },
    {
      "cell_type": "markdown",
      "source": [
        "# Ques 28. Write a code to create a list with strings and print the element at the third index.\n"
      ],
      "metadata": {
        "id": "wypVJwhunJ7L"
      }
    },
    {
      "cell_type": "code",
      "source": [
        "l = [\"Elephant\",\"Lion\", \"Zebra\", \"Tiger\", \"Bear\"]\n",
        "print(l[2])"
      ],
      "metadata": {
        "colab": {
          "base_uri": "https://localhost:8080/"
        },
        "id": "JFskDMqenvvv",
        "outputId": "d3a02879-19a1-4eae-f76f-b6ba6b3220aa"
      },
      "execution_count": null,
      "outputs": [
        {
          "output_type": "stream",
          "name": "stdout",
          "text": [
            "Zebra\n"
          ]
        }
      ]
    },
    {
      "cell_type": "markdown",
      "source": [
        "# Ques 29. Write a code to combine two dictionaries into one and print the result.\n"
      ],
      "metadata": {
        "id": "2H5KP1dAnQBR"
      }
    },
    {
      "cell_type": "code",
      "source": [
        "d1 ={\"name\": \"Ankita\", \"city\": \"Lucknow\"}\n",
        "d2 = {\"name\": \"Vipul\", \"city\": \"Delhi\"}\n",
        "d1.update(d2)\n",
        "print(d1)"
      ],
      "metadata": {
        "colab": {
          "base_uri": "https://localhost:8080/"
        },
        "id": "gpM4wlFlnwb_",
        "outputId": "40c303e3-2877-4c69-e110-a1c792a0eaf7"
      },
      "execution_count": null,
      "outputs": [
        {
          "output_type": "stream",
          "name": "stdout",
          "text": [
            "{'name': 'Vipul', 'city': 'Delhi'}\n"
          ]
        }
      ]
    },
    {
      "cell_type": "markdown",
      "source": [
        "# Ques 30. Write a code to convert a list of strings into a set"
      ],
      "metadata": {
        "id": "sXOrfN0_nUN_"
      }
    },
    {
      "cell_type": "code",
      "source": [
        "l = [\"apple\", \"banana\", \"cherry\", \"apple\", \"date\"]\n",
        "s = set(my_list)\n",
        "print(s)"
      ],
      "metadata": {
        "colab": {
          "base_uri": "https://localhost:8080/"
        },
        "id": "edngF_Brnxyx",
        "outputId": "e12e386a-99ad-446b-8d73-30f2d741bcae"
      },
      "execution_count": null,
      "outputs": [
        {
          "output_type": "stream",
          "name": "stdout",
          "text": [
            "{1, 2, 3}\n"
          ]
        }
      ]
    }
  ]
}