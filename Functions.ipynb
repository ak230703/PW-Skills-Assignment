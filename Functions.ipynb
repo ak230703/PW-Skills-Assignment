{
  "nbformat": 4,
  "nbformat_minor": 0,
  "metadata": {
    "colab": {
      "provenance": []
    },
    "kernelspec": {
      "name": "python3",
      "display_name": "Python 3"
    },
    "language_info": {
      "name": "python"
    }
  },
  "cells": [
    {
      "cell_type": "markdown",
      "source": [
        "# **Theory Question**"
      ],
      "metadata": {
        "id": "DXVvaDxC9MP4"
      }
    },
    {
      "cell_type": "markdown",
      "source": [
        "# Ques 1. What is the difference between a function and a method in Python?\n",
        "  - **Function**\n",
        "\n",
        " - A function in Python is a block of reusable code that performs a specific task.\n",
        "\n",
        " - It is defined using the def keyword (or lambda for anonymous functions).\n",
        "\n",
        " - A function can take inputs (parameters), process them, and return a value using return.\n",
        "\n",
        " - It exists independently and is not tied to any class or object (unless defined inside one).  \n",
        "\n",
        "\n",
        "\n",
        "  **Method**\n",
        "\n",
        "- A method in Python is a function that is associated with an object (instance) or class.\n",
        "\n",
        "- Defined inside a class.\n",
        "\n",
        "- Called using the dot (.) notation on objects or classes.\n",
        "\n",
        "- The first parameter of an instance method is always self (which refers to the current object).\n",
        "\n",
        "A method can be of 3 types:\n",
        "\n",
        "1. Instance Method → takes self (operates on object data).\n",
        "\n",
        "2. Class Method → takes cls (operates on class-level data).\n",
        "\n",
        "3. Static Method → takes no self or cls (like a normal function inside a class).\n"
      ],
      "metadata": {
        "id": "cdf-S-9l71rM"
      }
    },
    {
      "cell_type": "code",
      "source": [
        "#Function example\n",
        "\n",
        "def multiply(a, b):\n",
        "    return a * b\n",
        "\n",
        "print(multiply(4, 5))  # Output: 20\n",
        "\n",
        "\n",
        "# Method example\n",
        "class Calculator:\n",
        "    def add(self, a, b):          # Instance method\n",
        "        return a + b\n",
        "\n",
        "    @classmethod\n",
        "    def description(cls):         # Class method\n",
        "        return \"This is a Calculator class.\"\n",
        "\n",
        "    @staticmethod\n",
        "    def pi_value():               # Static method\n",
        "        return 3.14159\n",
        "\n",
        "calc = Calculator()\n",
        "print(calc.add(2, 3))        # Instance method -> Output: 5\n",
        "print(Calculator.description())  # Class method -> Output: \"This is a Calculator class.\"\n",
        "print(Calculator.pi_value())     # Static method -> Output: 3.14159\n"
      ],
      "metadata": {
        "colab": {
          "base_uri": "https://localhost:8080/"
        },
        "id": "8EqD3wh-Eev_",
        "outputId": "eee6d9c2-d360-4ffb-aba1-70da1f0b5943"
      },
      "execution_count": 42,
      "outputs": [
        {
          "output_type": "stream",
          "name": "stdout",
          "text": [
            "20\n",
            "5\n",
            "This is a Calculator class.\n",
            "3.14159\n"
          ]
        }
      ]
    },
    {
      "cell_type": "markdown",
      "source": [
        "# Ques 2. Explain the concept of function arguments and parameters in Python.\n",
        "  - 1. Parameters\n",
        "  \n",
        "Parameters are the variables defined in the function header (inside parentheses).\n",
        "\n",
        "They act like placeholders for the values that will be passed into the function."
      ],
      "metadata": {
        "id": "kB2ohxDx7xEz"
      }
    },
    {
      "cell_type": "code",
      "source": [
        "def greet(name):   # 'name' is a parameter\n",
        "    print(f\"Hello, {name}!\")"
      ],
      "metadata": {
        "id": "N2YSJLrVFZcR"
      },
      "execution_count": 38,
      "outputs": []
    },
    {
      "cell_type": "markdown",
      "source": [
        "2. **Arguments**\n",
        "\n",
        "* Arguments are the actual values you pass into the function when calling it.  \n",
        "\n",
        "* They replace the parameters during execution.\n",
        "\n",
        "* Types of Arguments in Python\n",
        "\n",
        "Python gives us flexibility in how we pass arguments.\n",
        "\n",
        "(a) **Positional Arguments**\n",
        "Values are assigned to parameters in the order they are passed.\n",
        "\n",
        "(b) **Keyword Arguments** You specify which parameter gets which value using the parameter name.\n",
        "\n",
        "(c) **Default Arguments** You can assign a default value to parameters, so they become optional.\n",
        "\n",
        "(d) **Variable-Length Arguments** Sometimes, you don’t know how many arguments will be passed. Python provides:\n",
        "\n"
      ],
      "metadata": {
        "id": "MKZ3Z9LIFeHS"
      }
    },
    {
      "cell_type": "code",
      "source": [
        "# \"Ankita\" is an argument\n",
        "greet(\"Ankita\")\n",
        "\n",
        "# Postional argument\n",
        "def add(a, b):\n",
        "    return a + b\n",
        "\n",
        "print(add(3, 5))   # 3 → a, 5 → b\n",
        "\n",
        "# Keyword Argument\n",
        "def introduce(name, age):\n",
        "    print(f\"My name is {name} and I am {age} years old.\")\n",
        "\n",
        "introduce(age=25, name=\"Ankita\")\n",
        "\n",
        "# Default Argument\n",
        "def greet(name=\"Guest\"):\n",
        "    print(f\"Hello, {name}!\")\n",
        "\n",
        "greet()          # uses default → \"Guest\"\n",
        "greet(\"Ankita\")  # overrides default\n",
        "\n",
        "#Variable-Length Argument\n",
        "# *args (Non-keyword arguments → tuple)\n",
        "def add_all(*args):\n",
        "    return sum(args)\n",
        "\n",
        "print(add_all(2, 4, 6, 8))   # Output: 20\n",
        "\n",
        "#**kwargs (Keyword arguments → dictionary)\n",
        "def show_details(**kwargs):\n",
        "    for key, value in kwargs.items():\n",
        "        print(f\"{key}: {value}\")\n",
        "\n",
        "show_details(name=\"Ankita\", age=25, country=\"India\")\n",
        "\n"
      ],
      "metadata": {
        "colab": {
          "base_uri": "https://localhost:8080/"
        },
        "id": "Kqq4jroyHNHs",
        "outputId": "f28fa799-19f9-4cad-bcec-9e9cc5056747"
      },
      "execution_count": 41,
      "outputs": [
        {
          "output_type": "stream",
          "name": "stdout",
          "text": [
            "8\n",
            "My name is Ankita and I am 25 years old.\n",
            "Hello, Guest!\n",
            "Hello, Ankita!\n",
            "20\n",
            "name: Ankita\n",
            "age: 25\n",
            "country: India\n"
          ]
        }
      ]
    },
    {
      "cell_type": "markdown",
      "source": [
        "# Ques 3. What are the different ways to define and call a function in Python?Different Ways to Define & Call Functions in Python\n",
        "1. Normal Function\n",
        "A normal function is defined using the def keyword. It contains parameters (optional), logic, and may return a value.\n",
        "\n",
        "2. Function with Default Arguments\n",
        "Default arguments are parameters that assume a default value if no value is provided during the function call.\n",
        "\n",
        "3. Function with Variable-Length Arguments\n",
        "When you don’t know how many arguments will be passed, Python provides:\n",
        "\n",
        "*   *args → captures extra positional arguments as a tuple.\n",
        "*   **kwargs → captures extra keyword arguments as a dictionary.\n",
        "\n",
        "4. Lambda Function (Anonymous Function)\n",
        "A lambda function is a small anonymous function that can have any number of arguments but only one expression.\n",
        "\n",
        "5. Nested Function\n",
        "A nested function is a function defined inside another function. It is useful for encapsulation.\n",
        "\n",
        "6. Function as an Object\n",
        "In Python, functions are first-class objects → they can be assigned to variables, passed as arguments, and returned from other functions.\n",
        "\n",
        "7. Recursive Function\n",
        "A recursive function is a function that calls itself until a base condition is met.\n",
        "\n",
        "8. Different Ways to Call a Function\n",
        "Functions can be called using positional arguments, keyword arguments, mixed arguments, or argument unpacking.\n",
        "\n",
        "\n"
      ],
      "metadata": {
        "id": "mqE8zpDb7xBQ"
      }
    },
    {
      "cell_type": "code",
      "source": [
        "# Normal Function\n",
        "def greet(name):   # definition\n",
        "    return f\"Hello, {name}!\"\n",
        "\n",
        "print(greet(\"Ankita\"))   # call\n",
        "# Output: Hello, Ankita!\n",
        "\n",
        "#Function with Default arguments\n",
        "def greet(name=\"Guest\"):   # definition\n",
        "    return f\"Hello, {name}!\"\n",
        "\n",
        "print(greet())           # call without argument\n",
        "print(greet(\"Ankita\"))   # call with argument\n",
        "# Output: Hello, Guest!\n",
        "#         Hello, Ankita!\n",
        "\n",
        "# Function with variable-length\n",
        "def add_all(*args):   # *args collects positional arguments into a tuple\n",
        "    return sum(args)\n",
        "\n",
        "print(add_all(1, 2, 3, 4))   # call\n",
        "# Output: 10\n",
        "\n",
        "def show_info(**kwargs):   # **kwargs collects keyword arguments into a dictionary\n",
        "    return kwargs\n",
        "\n",
        "print(show_info(name=\"Ankita\", age=25))  # call\n",
        "# Output: {'name': 'Ankita', 'age': 25}\n",
        "\n",
        "# Lambda Function\n",
        "square = lambda x: x * x   # definition\n",
        "print(square(5))           # call\n",
        "# Output: 25\n",
        "\n",
        "# Recursive Function\n",
        "def factorial(n):   # definition\n",
        "    if n == 0:\n",
        "        return 1\n",
        "    return n * factorial(n - 1)\n",
        "\n",
        "print(factorial(5))   # call\n",
        "# Output: 120\n",
        "\n",
        "#Nested Function\n",
        "def outer():   # outer function\n",
        "    def inner():   # nested function\n",
        "        return \"Hello from inner function!\"\n",
        "    return inner()\n",
        "\n",
        "print(outer())   # call\n",
        "# Output: Hello from inner function!\n",
        "\n",
        "# Function as a object\n",
        "def shout(text):\n",
        "    return text.upper()\n",
        "\n",
        "say = shout    # assigning function to another variable\n",
        "print(say(\"hello\"))   # call\n",
        "# Output: HELLO\n",
        "\n",
        "# Function called with Argument variation\n",
        "def add(a, b):\n",
        "    return a + b\n",
        "\n",
        "print(add(2, 3))          # Positional → Output: 5\n",
        "print(add(a=2, b=3))      # Keyword → Output: 5\n",
        "print(add(2, b=3))        # Mix → Output: 5\n",
        "\n",
        "nums = (2, 3)\n",
        "print(add(*nums))         # Unpacking tuple → Output: 5\n",
        "\n",
        "params = {\"a\": 2, \"b\": 3}\n",
        "print(add(**params))      # Unpacking dict → Output: 5\n"
      ],
      "metadata": {
        "colab": {
          "base_uri": "https://localhost:8080/"
        },
        "id": "s4J4qktYLB4q",
        "outputId": "36ae8476-c30d-440c-edbf-154413ca453f"
      },
      "execution_count": 40,
      "outputs": [
        {
          "output_type": "stream",
          "name": "stdout",
          "text": [
            "Hello, Ankita!\n",
            "Hello, Guest!\n",
            "Hello, Ankita!\n",
            "10\n",
            "{'name': 'Ankita', 'age': 25}\n",
            "25\n",
            "120\n",
            "Hello from inner function!\n",
            "HELLO\n",
            "5\n",
            "5\n",
            "5\n",
            "5\n",
            "5\n"
          ]
        }
      ]
    },
    {
      "cell_type": "markdown",
      "source": [
        "# Ques 4. What is the purpose of the `return` statement in a Python function?\n",
        "  - The **return statement** in Python is used inside a function to send the result (output) back to the caller of the function.\n",
        "\n",
        " - Without return, a function performs its task but gives back None by default.\n",
        "\n",
        "🔹 **Purpose of return**\n",
        "\n",
        "1. Provide Output → returns a value that can be stored in a variable, printed, or used in further calculations.\n",
        "\n",
        "2. End Function Execution → once return is executed, the function immediately stops.\n",
        "\n",
        "3. Make Functions Reusable → allows results to be used in different parts of the program.\n"
      ],
      "metadata": {
        "id": "a-D6HOAJ7w-l"
      }
    },
    {
      "cell_type": "code",
      "source": [
        "#  Examples\n",
        "# 1. Function with return\n",
        "def add(a, b):\n",
        "    return a + b   # returns the sum\n",
        "\n",
        "result = add(5, 3)\n",
        "print(result)\n",
        "\n",
        "\n",
        "# Output:8\n",
        "\n",
        "# 2. Function without return\n",
        "def add(a, b):\n",
        "    print(a + b)   # only prints, does not return\n",
        "\n",
        "result = add(5, 3)\n",
        "print(result)  # result will be None\n",
        "\n",
        "\n",
        "# Output:8\n",
        "# None\n",
        "# Because no return statement was given, Python automatically returned None.\n",
        "\n",
        "# 3. Function Returning Multiple Values\n",
        "def calculator(a, b):\n",
        "    return a + b, a - b, a * b\n",
        "\n",
        "x, y, z = calculator(10, 5)\n",
        "print(x, y, z)\n",
        "\n",
        "# Output: 15 5 50\n",
        "# A function can return multiple values as a tuple.\n",
        "\n",
        "# 4. Returning Early (Exiting a Function)\n",
        "def check_number(n):\n",
        "    if n < 0:\n",
        "        return \"Negative\"   # function ends here if condition true\n",
        "    return \"Positive or Zero\"\n",
        "\n",
        "print(check_number(-3))\n",
        "print(check_number(5))\n",
        "\n",
        "\n",
        "# Output: Negative, Positive or Zero\n"
      ],
      "metadata": {
        "colab": {
          "base_uri": "https://localhost:8080/"
        },
        "id": "SOowyENuMh3R",
        "outputId": "034ab700-a7f7-4ae7-eece-514625bff947"
      },
      "execution_count": 47,
      "outputs": [
        {
          "output_type": "stream",
          "name": "stdout",
          "text": [
            "8\n",
            "8\n",
            "None\n",
            "15 5 50\n",
            "Negative\n",
            "Positive or Zero\n"
          ]
        }
      ]
    },
    {
      "cell_type": "markdown",
      "source": [
        "# Ques 5. What are iterators in Python and how do they differ from iterables?\n",
        " 1. **Iterable**\n",
        "\n",
        " - An iterable is any Python object that can return an iterator using the built-in function iter().\n",
        "\n",
        " - It implements the __iter__() method.\n",
        "\n",
        "- Examples: lists, tuples, strings, sets, dictionaries, ranges.\n",
        "\n",
        " - Iterables do not produce values by themselves; they just contain data.\n",
        "\n",
        "2. **Iterator**\n",
        "\n",
        " - An iterator is an object that produces elements one at a time when you call next() on it.\n",
        "\n",
        " - It implements two methods:\n",
        "\n",
        " - __iter__() → returns the iterator itself\n",
        "\n",
        "- __next__() → returns the next value; raises StopIteration when no items left"
      ],
      "metadata": {
        "id": "0KOPS77k7w70"
      }
    },
    {
      "cell_type": "code",
      "source": [
        "\n",
        "# Iterable Example\n",
        "numbers = [1, 2, 3]   # list is iterable\n",
        "\n",
        "it = iter(numbers)    # convert iterable into iterator\n",
        "print(it)             # <list_iterator object>\n",
        "\n",
        "# Iterator Example\n",
        "numbers = [1, 2, 3]   # iterable\n",
        "it = iter(numbers)    # create iterator\n",
        "\n",
        "print(next(it))  # 1\n",
        "print(next(it))  # 2\n",
        "print(next(it))  # 3\n",
        "# print(next(it))  # StopIteration error if uncommented\n",
        "\n"
      ],
      "metadata": {
        "colab": {
          "base_uri": "https://localhost:8080/"
        },
        "id": "I7wlOz5GOJhX",
        "outputId": "7d11adb6-f81c-4f26-c0a4-b66184f6202a"
      },
      "execution_count": 46,
      "outputs": [
        {
          "output_type": "stream",
          "name": "stdout",
          "text": [
            "<list_iterator object at 0x793b3121b490>\n",
            "1\n",
            "2\n",
            "3\n"
          ]
        }
      ]
    },
    {
      "cell_type": "markdown",
      "source": [
        "# Ques 6. Explain the concept of generators in Python and how they are defined.\n",
        "  -  A generator in Python is a special type of iterator that allows you to generate values on the fly, instead of storing them all in memory.\n",
        "\n",
        "They are written like normal functions, but use yield instead of return.\n",
        "\n",
        "Each time yield is executed, the function \"pauses\" its state, remembers where it left off, and resumes from there the next time it is called.\n",
        "\n",
        " - **Why Generators?**\n",
        "\n",
        "1. Memory Efficient → they don’t store the whole sequence in memory, they generate values one at a time.\n",
        "\n",
        "2. Lazy Evaluation → values are produced only when needed.\n",
        "\n",
        "3. Convenient → simpler to write than creating a full iterator class.\n",
        "\n",
        "How to Define a Generator\n",
        "\n",
        "There are two ways to define generators in Python:\n",
        "\n"
      ],
      "metadata": {
        "id": "FNGSsZpV7w5A"
      }
    },
    {
      "cell_type": "code",
      "source": [
        "# 1. Generator Function\n",
        "# Uses def + yield.\n",
        "# Example:\n",
        "\n",
        "def count_up_to(n):\n",
        "    i = 1\n",
        "    while i <= n:\n",
        "        yield i\n",
        "        i += 1\n",
        "\n",
        "gen = count_up_to(5)\n",
        "\n",
        "for num in gen:\n",
        "    print(num)\n",
        "\n",
        "\n",
        "Output:\n",
        "\n",
        "1\n",
        "2\n",
        "3\n",
        "4\n",
        "5\n",
        "\n",
        "\n",
        "# Notice: Unlike return, the function doesn’t end when it hits yield. Instead, it pauses and continues when the next value is requested.\n",
        "\n",
        "# 2. Generator Expression\n",
        "# Like list comprehensions, but with () instead of [].\n",
        "# Example:\n",
        "\n",
        "squares = (x*x for x in range(5))\n",
        "print(next(squares))  # 0\n",
        "print(next(squares))  # 1\n",
        "print(next(squares))  # 4\n",
        "\n",
        "# Similar to a generator function, but more compact.\n",
        "\n",
        "# Difference Between Function vs Generator Function\n",
        "# Feature\tNormal Function (def)\tGenerator Function (def with yield)\n",
        "# Return\tReturns a single value\tYields multiple values, one at a time\n",
        "# Execution\tEnds after return\tPauses at yield and resumes later\n",
        "# Memory\tStores all values\tGenerates values lazily (on demand)\n",
        "# Example: Infinite Generator\n",
        "def infinite_numbers(start=1):\n",
        "    while True:\n",
        "        yield start\n",
        "        start += 1\n",
        "\n",
        "gen = infinite_numbers()\n",
        "\n",
        "for i in range(5):\n",
        "    print(next(gen))\n",
        "\n",
        "\n",
        "Output:\n",
        "\n",
        "1\n",
        "2\n",
        "3\n",
        "4\n",
        "5"
      ],
      "metadata": {
        "colab": {
          "base_uri": "https://localhost:8080/",
          "height": 106
        },
        "id": "7wpalKsePDEJ",
        "outputId": "d6e23820-e22e-474f-f3c4-7ec7263e67c7"
      },
      "execution_count": 43,
      "outputs": [
        {
          "output_type": "error",
          "ename": "SyntaxError",
          "evalue": "invalid syntax (ipython-input-4236800675.py, line 17)",
          "traceback": [
            "\u001b[0;36m  File \u001b[0;32m\"/tmp/ipython-input-4236800675.py\"\u001b[0;36m, line \u001b[0;32m17\u001b[0m\n\u001b[0;31m    Output:\u001b[0m\n\u001b[0m           ^\u001b[0m\n\u001b[0;31mSyntaxError\u001b[0m\u001b[0;31m:\u001b[0m invalid syntax\n"
          ]
        }
      ]
    },
    {
      "cell_type": "markdown",
      "source": [
        "# Ques 7. What are the advantages of using generators over regular functions?\n",
        "   - **Advantages of Generators**\n",
        "    \n",
        "1. **Memory Efficiency**\n",
        "\n",
        "- Regular function: Returns the entire result at once, often stored in memory as a list (can be huge).\n",
        "\n",
        "- Generator: Produces one item at a time using yield, so it doesn’t need to load everything into memory.\n",
        "\n",
        "\n",
        "2. **Lazy Evaluation (On-demand computation)**\n",
        "\n",
        "- Generators compute values only when needed, not upfront.\n",
        "\n",
        "- Useful for working with large data streams (e.g., files, logs, big datasets).\n",
        "\n",
        "3. **Infinite Sequences Support**\n",
        "\n",
        "- Regular functions can’t return infinite results.\n",
        "\n",
        "- Generators can yield values indefinitely.\n",
        "\n",
        "4. **Better Performance for Iteration**\n",
        "\n",
        "- Since generators don’t build the whole structure at once, they are faster in iteration for large datasets.\n",
        "\n",
        "- You skip unnecessary values when not needed.\n",
        "\n",
        "5. **Cleaner, More Readable Code**\n",
        "\n",
        "- Generators are easier to write than custom iterator classes (__iter__, __next__).\n",
        "\n",
        "- Just use yield."
      ],
      "metadata": {
        "id": "kDT-ZJWe7w2T"
      }
    },
    {
      "cell_type": "markdown",
      "source": [
        "# Ques 8. What is a lambda function in Python and when is it typically used?\n",
        "  - **Lambda Function** :\n",
        "- A lambda function is a small, anonymous function (without a name).\n",
        "\n",
        "- Defined using the keyword lambda instead of def.\n",
        "\n",
        "- It can take any number of arguments, but it can only have one expression.\n",
        "\n",
        "- The result of that expression is automatically returned.\n",
        "\n",
        "- Mainly used for short, simple, throwaway functions (often with map(), filter(), sorted()).\n",
        "\n",
        "**Syntax : lambda arguments: expression**When is a Lambda Function Used in Python?\n",
        "\n",
        "1. For short, one-time use functions\n",
        "When you don’t want to create a full function with def.\n",
        "\n",
        "2. With map() – to apply a function to every item in a list.\n",
        "\n",
        "3. With filter() – to filter elements based on a condition.\n",
        "\n",
        "4. With sorted() – to sort based on custom rules.\n",
        "\n",
        "5. Inside another function – as a quick helper function."
      ],
      "metadata": {
        "id": "rt1o0tPg7wzh"
      }
    },
    {
      "cell_type": "code",
      "source": [
        "# Example of lambda function\n",
        "# Lambda function to add two numbers\n",
        "\n",
        "add = lambda a, b: a + b\n",
        "print(add(3, 7))   # Output: 10\n",
        "\n",
        "\n",
        "# 1. For short, one-time use functions\n",
        "# When you don’t want to create a full function with def.\n",
        "\n",
        "square = lambda x: x*x\n",
        "print(square(5))   # 25\n",
        "\n",
        "\n",
        "# 2. With map() – to apply a function to every item in a list.\n",
        "\n",
        "nums = [1, 2, 3, 4]\n",
        "squares = list(map(lambda x: x**2, nums))\n",
        "print(squares)   # [1, 4, 9, 16]\n",
        "\n",
        "\n",
        "# 3. With filter() – to filter elements based on a condition.\n",
        "\n",
        "nums = [1, 2, 3, 4, 5, 6]\n",
        "evens = list(filter(lambda x: x % 2 == 0, nums))\n",
        "print(evens)   # [2, 4, 6]\n",
        "\n",
        "\n",
        "# 4. With sorted() – to sort based on custom rules.\n",
        "\n",
        "items = [(1, 'b'), (3, 'a'), (2, 'c')]\n",
        "sorted_items = sorted(items, key=lambda x: x[1])\n",
        "print(sorted_items)   # [(3, 'a'), (1, 'b'), (2, 'c')]\n",
        "\n",
        "\n",
        "# 5.Inside another function – as a quick helper function.\n",
        "\n",
        "def apply_func(func, value):\n",
        "    return func(value)\n",
        "\n",
        "print(apply_func(lambda x: x+10, 5))   # 15"
      ],
      "metadata": {
        "colab": {
          "base_uri": "https://localhost:8080/"
        },
        "id": "CdKd9XTuR7pS",
        "outputId": "e23c1070-2c82-46ff-d100-0ddec080ec76"
      },
      "execution_count": 45,
      "outputs": [
        {
          "output_type": "stream",
          "name": "stdout",
          "text": [
            "10\n",
            "25\n",
            "[1, 4, 9, 16]\n",
            "[2, 4, 6]\n",
            "[(3, 'a'), (1, 'b'), (2, 'c')]\n",
            "15\n"
          ]
        }
      ]
    },
    {
      "cell_type": "markdown",
      "source": [
        "# Ques 9. Explain the purpose and usage of the `map()` function in Python.\n",
        "  - The map() function in Python is used to apply a function to each item of an iterable (like a list, tuple, etc.) and return a new iterator (map object) with the results.\n",
        "\n",
        "**Syntax: map(function, iterable)**\n",
        "\n",
        "\n",
        "- function → the function to apply (can be normal def or lambda)\n",
        "\n",
        "- iterable → a sequence like list, tuple, set, etc.\n",
        "\n",
        " **Key Points**\n",
        "\n",
        "- map() does not change the original iterable.\n",
        "\n",
        "- It returns a map object (iterator), so you usually wrap it with list() or tuple().\n",
        "\n",
        "- Best used when you want to transform all elements of a collection.\n"
      ],
      "metadata": {
        "id": "zOEJNBsA88VB"
      }
    },
    {
      "cell_type": "code",
      "source": [
        "# Usage Examples\n",
        "# Example 1: Using a normal function\n",
        "def square(x):\n",
        "    return x * x\n",
        "\n",
        "nums = [1, 2, 3, 4, 5]\n",
        "result = list(map(square, nums))\n",
        "print(result)   # [1, 4, 9, 16, 25]\n",
        "\n",
        "# Example 2: Using a lambda function\n",
        "nums = [1, 2, 3, 4, 5]\n",
        "result = list(map(lambda x: x + 10, nums))\n",
        "print(result)   # [11, 12, 13, 14, 15]\n",
        "\n",
        "# Example 3: With multiple iterables\n",
        "a = [1, 2, 3]\n",
        "b = [4, 5, 6]\n",
        "\n",
        "result = list(map(lambda x, y: x + y, a, b))\n",
        "print(result)   # [5, 7, 9]"
      ],
      "metadata": {
        "colab": {
          "base_uri": "https://localhost:8080/"
        },
        "id": "L2ncEmRcTfTr",
        "outputId": "4020a594-6787-4623-c8f8-720ece5f268e"
      },
      "execution_count": 44,
      "outputs": [
        {
          "output_type": "stream",
          "name": "stdout",
          "text": [
            "[1, 4, 9, 16, 25]\n",
            "[11, 12, 13, 14, 15]\n",
            "[5, 7, 9]\n"
          ]
        }
      ]
    },
    {
      "cell_type": "markdown",
      "source": [
        "# Ques 10. What is the difference between `map()`, `reduce()`, and `filter()` functions in Python? list:[47,11,42,13];\n",
        "  - **FUNCTION** : map()\n",
        "\n",
        "    **What it does:** Applies a function to each element\n",
        "\n",
        "    **Function Returns:** A new list (or iterator)\n",
        "\n",
        "     **Example** [47,11,42,13]: map(lambda x: x*2, nums) → [94, 22, 84, 26]\n",
        "     \n",
        "\n",
        "  - **FUNCTION** : Filter()\n",
        "\n",
        "    **What it does:** Keeps elements that satisfy a condition\n",
        "\n",
        "    **Function Returns:** A filtered list (or iterator)\n",
        "\n",
        "     **Example** [47,11,42,13]: filter(lambda x: x%2==0, nums) → [42]\n",
        "\n",
        "     \n",
        "  - **FUNCTION** : Reduce()\n",
        "\n",
        "    **What it does:** Combines elements into one single result\n",
        "\n",
        "    **Function Returns:** A single value\n",
        "\n",
        "\n",
        "     **Example** [47,11,42,13]: reduce(lambda a,b: a+b, nums) → 113\n"
      ],
      "metadata": {
        "id": "ahnEcT4P88Ra"
      }
    },
    {
      "cell_type": "code",
      "source": [
        "nums = [47, 11, 42, 13]\n",
        "\n",
        "# Map()Example\n",
        "# Example: square each number\n",
        "squares = list(map(lambda x: x**2, nums))\n",
        "print(\"map result:\", squares)\n",
        "\n",
        "# Filter() Example\n",
        "# Example: keep only even numbers\n",
        "evens = list(filter(lambda x: x % 2 == 0, nums))\n",
        "print(\"filter result:\", evens)\n",
        "\n",
        "# Reduce() Example\n",
        "from functools import reduce\n",
        "\n",
        "# Example: find the maximum number\n",
        "max_num = reduce(lambda a, b: a if a > b else b, nums)\n",
        "print(\"reduce result:\", max_num)\n"
      ],
      "metadata": {
        "colab": {
          "base_uri": "https://localhost:8080/"
        },
        "id": "lS9LMGiwWSxe",
        "outputId": "8a8f486e-ce94-42af-cd46-1363535bde5e"
      },
      "execution_count": 48,
      "outputs": [
        {
          "output_type": "stream",
          "name": "stdout",
          "text": [
            "map result: [2209, 121, 1764, 169]\n",
            "filter result: [42]\n",
            "reduce result: 47\n"
          ]
        }
      ]
    },
    {
      "cell_type": "markdown",
      "source": [
        "# Ques 11. Using pen & Paper write the internal mechanism for sum operation using  reduce function on this given (Attach paper image for this answer) in doc or colab notebook.\n",
        "\n",
        "![ques 11.jpg](data:image/jpeg;base64,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)"
      ],
      "metadata": {
        "id": "8IGKmQS27wJU"
      }
    },
    {
      "cell_type": "code",
      "source": [
        "from functools import reduce\n",
        "\n",
        "nums = [47, 11, 42, 13]\n",
        "\n",
        "# Perform reduce step by step\n",
        "steps = []\n",
        "a, b = nums[0], nums[1]\n",
        "steps.append(f\"{a} + {b} = {a+b}\")\n",
        "res = a + b\n",
        "\n",
        "for i in nums[2:]:\n",
        "    steps.append(f\"{res} + {i} = {res+i}\")\n",
        "    res += i\n",
        "\n",
        "print(res)"
      ],
      "metadata": {
        "colab": {
          "base_uri": "https://localhost:8080/"
        },
        "id": "otyLlwBWZJhH",
        "outputId": "1496d3ac-607f-4b1e-b3cd-21301abd6d17"
      },
      "execution_count": 53,
      "outputs": [
        {
          "output_type": "stream",
          "name": "stdout",
          "text": [
            "113\n"
          ]
        }
      ]
    },
    {
      "cell_type": "markdown",
      "source": [
        "# **Practical Questions**"
      ],
      "metadata": {
        "id": "8yLHRReC7iet"
      }
    },
    {
      "cell_type": "markdown",
      "source": [
        "# Ques 1. Write a Python function that takes a list of numbers as input and returns the sum of all even numbers in the list.\n"
      ],
      "metadata": {
        "id": "zGGaTaGh5ZNO"
      }
    },
    {
      "cell_type": "code",
      "source": [
        "def sum_of_evens(numbers):\n",
        "    return sum(num for num in numbers if num % 2 == 0)\n",
        "\n",
        "# Example usage\n",
        "nums = [1, 2, 3, 4, 5, 6, 7, 8]\n",
        "print(\"Sum of even numbers:\", sum_of_evens(nums))\n"
      ],
      "metadata": {
        "colab": {
          "base_uri": "https://localhost:8080/"
        },
        "id": "DJvzCgvm7JXY",
        "outputId": "33b25ecd-f95f-41c3-fa6d-66a3117b9a09"
      },
      "execution_count": null,
      "outputs": [
        {
          "output_type": "stream",
          "name": "stdout",
          "text": [
            "Sum of even numbers: 20\n"
          ]
        }
      ]
    },
    {
      "cell_type": "markdown",
      "source": [
        "# Ques 2. Create a Python function that accepts a string and returns the reverse of that string.\n"
      ],
      "metadata": {
        "id": "LjuEZ2fx6vkZ"
      }
    },
    {
      "cell_type": "code",
      "source": [
        "def reverse_string(input_string):\n",
        "    return input_string[::-1]\n",
        "\n",
        "input_string =\"Hello world\"\n",
        "print(reverse_string(\"Hello\"))\n",
        "print(reverse_string(\"World\"))\n",
        "\n"
      ],
      "metadata": {
        "id": "PuqwoTXY7J-k",
        "colab": {
          "base_uri": "https://localhost:8080/"
        },
        "outputId": "364108bc-0675-43c9-f99e-4789a837689e"
      },
      "execution_count": 2,
      "outputs": [
        {
          "output_type": "stream",
          "name": "stdout",
          "text": [
            "olleH\n",
            "dlroW\n"
          ]
        }
      ]
    },
    {
      "cell_type": "markdown",
      "source": [
        "# Ques 3. Implement a Python function that takes a list of integers and returns a new list containing the squares of each number.\n"
      ],
      "metadata": {
        "id": "ytmNKkhl6yOv"
      }
    },
    {
      "cell_type": "code",
      "source": [
        "def square_numbers(numbers):\n",
        "  return [num**2 for num in numbers]\n",
        "\n",
        "\n",
        "print(square_numbers([1,2,3,4,5]))"
      ],
      "metadata": {
        "id": "9wDPxLqV7KuT",
        "colab": {
          "base_uri": "https://localhost:8080/"
        },
        "outputId": "8f2cfeda-7385-46bb-f6e5-a8c3c164701d"
      },
      "execution_count": 17,
      "outputs": [
        {
          "output_type": "stream",
          "name": "stdout",
          "text": [
            "[1, 4, 9, 16, 25]\n"
          ]
        }
      ]
    },
    {
      "cell_type": "markdown",
      "source": [
        "# Ques4. Write a Python function that checks if a given number is prime or not from 1 to 200.\n"
      ],
      "metadata": {
        "id": "D7U3mpn9603P"
      }
    },
    {
      "cell_type": "code",
      "source": [
        "def is_prime(n):\n",
        "    if n <= 1:\n",
        "        return False  # 0 and 1 are not prime\n",
        "    for i in range(2, int(n**0.5) + 1):  # check divisors up to √n\n",
        "        if n % i == 0:\n",
        "            return False\n",
        "    return True\n",
        "\n",
        "# Example usage: check numbers from 1 to 200\n",
        "for num in range(1, 201):\n",
        "    print(f\"{num}: {'Prime' if is_prime(num) else 'Not Prime'}\")"
      ],
      "metadata": {
        "id": "Sgqx7nHR7NB1",
        "colab": {
          "base_uri": "https://localhost:8080/"
        },
        "outputId": "5ebeac39-b868-457d-84f2-80ee306ff4e8"
      },
      "execution_count": 18,
      "outputs": [
        {
          "output_type": "stream",
          "name": "stdout",
          "text": [
            "1: Not Prime\n",
            "2: Prime\n",
            "3: Prime\n",
            "4: Not Prime\n",
            "5: Prime\n",
            "6: Not Prime\n",
            "7: Prime\n",
            "8: Not Prime\n",
            "9: Not Prime\n",
            "10: Not Prime\n",
            "11: Prime\n",
            "12: Not Prime\n",
            "13: Prime\n",
            "14: Not Prime\n",
            "15: Not Prime\n",
            "16: Not Prime\n",
            "17: Prime\n",
            "18: Not Prime\n",
            "19: Prime\n",
            "20: Not Prime\n",
            "21: Not Prime\n",
            "22: Not Prime\n",
            "23: Prime\n",
            "24: Not Prime\n",
            "25: Not Prime\n",
            "26: Not Prime\n",
            "27: Not Prime\n",
            "28: Not Prime\n",
            "29: Prime\n",
            "30: Not Prime\n",
            "31: Prime\n",
            "32: Not Prime\n",
            "33: Not Prime\n",
            "34: Not Prime\n",
            "35: Not Prime\n",
            "36: Not Prime\n",
            "37: Prime\n",
            "38: Not Prime\n",
            "39: Not Prime\n",
            "40: Not Prime\n",
            "41: Prime\n",
            "42: Not Prime\n",
            "43: Prime\n",
            "44: Not Prime\n",
            "45: Not Prime\n",
            "46: Not Prime\n",
            "47: Prime\n",
            "48: Not Prime\n",
            "49: Not Prime\n",
            "50: Not Prime\n",
            "51: Not Prime\n",
            "52: Not Prime\n",
            "53: Prime\n",
            "54: Not Prime\n",
            "55: Not Prime\n",
            "56: Not Prime\n",
            "57: Not Prime\n",
            "58: Not Prime\n",
            "59: Prime\n",
            "60: Not Prime\n",
            "61: Prime\n",
            "62: Not Prime\n",
            "63: Not Prime\n",
            "64: Not Prime\n",
            "65: Not Prime\n",
            "66: Not Prime\n",
            "67: Prime\n",
            "68: Not Prime\n",
            "69: Not Prime\n",
            "70: Not Prime\n",
            "71: Prime\n",
            "72: Not Prime\n",
            "73: Prime\n",
            "74: Not Prime\n",
            "75: Not Prime\n",
            "76: Not Prime\n",
            "77: Not Prime\n",
            "78: Not Prime\n",
            "79: Prime\n",
            "80: Not Prime\n",
            "81: Not Prime\n",
            "82: Not Prime\n",
            "83: Prime\n",
            "84: Not Prime\n",
            "85: Not Prime\n",
            "86: Not Prime\n",
            "87: Not Prime\n",
            "88: Not Prime\n",
            "89: Prime\n",
            "90: Not Prime\n",
            "91: Not Prime\n",
            "92: Not Prime\n",
            "93: Not Prime\n",
            "94: Not Prime\n",
            "95: Not Prime\n",
            "96: Not Prime\n",
            "97: Prime\n",
            "98: Not Prime\n",
            "99: Not Prime\n",
            "100: Not Prime\n",
            "101: Prime\n",
            "102: Not Prime\n",
            "103: Prime\n",
            "104: Not Prime\n",
            "105: Not Prime\n",
            "106: Not Prime\n",
            "107: Prime\n",
            "108: Not Prime\n",
            "109: Prime\n",
            "110: Not Prime\n",
            "111: Not Prime\n",
            "112: Not Prime\n",
            "113: Prime\n",
            "114: Not Prime\n",
            "115: Not Prime\n",
            "116: Not Prime\n",
            "117: Not Prime\n",
            "118: Not Prime\n",
            "119: Not Prime\n",
            "120: Not Prime\n",
            "121: Not Prime\n",
            "122: Not Prime\n",
            "123: Not Prime\n",
            "124: Not Prime\n",
            "125: Not Prime\n",
            "126: Not Prime\n",
            "127: Prime\n",
            "128: Not Prime\n",
            "129: Not Prime\n",
            "130: Not Prime\n",
            "131: Prime\n",
            "132: Not Prime\n",
            "133: Not Prime\n",
            "134: Not Prime\n",
            "135: Not Prime\n",
            "136: Not Prime\n",
            "137: Prime\n",
            "138: Not Prime\n",
            "139: Prime\n",
            "140: Not Prime\n",
            "141: Not Prime\n",
            "142: Not Prime\n",
            "143: Not Prime\n",
            "144: Not Prime\n",
            "145: Not Prime\n",
            "146: Not Prime\n",
            "147: Not Prime\n",
            "148: Not Prime\n",
            "149: Prime\n",
            "150: Not Prime\n",
            "151: Prime\n",
            "152: Not Prime\n",
            "153: Not Prime\n",
            "154: Not Prime\n",
            "155: Not Prime\n",
            "156: Not Prime\n",
            "157: Prime\n",
            "158: Not Prime\n",
            "159: Not Prime\n",
            "160: Not Prime\n",
            "161: Not Prime\n",
            "162: Not Prime\n",
            "163: Prime\n",
            "164: Not Prime\n",
            "165: Not Prime\n",
            "166: Not Prime\n",
            "167: Prime\n",
            "168: Not Prime\n",
            "169: Not Prime\n",
            "170: Not Prime\n",
            "171: Not Prime\n",
            "172: Not Prime\n",
            "173: Prime\n",
            "174: Not Prime\n",
            "175: Not Prime\n",
            "176: Not Prime\n",
            "177: Not Prime\n",
            "178: Not Prime\n",
            "179: Prime\n",
            "180: Not Prime\n",
            "181: Prime\n",
            "182: Not Prime\n",
            "183: Not Prime\n",
            "184: Not Prime\n",
            "185: Not Prime\n",
            "186: Not Prime\n",
            "187: Not Prime\n",
            "188: Not Prime\n",
            "189: Not Prime\n",
            "190: Not Prime\n",
            "191: Prime\n",
            "192: Not Prime\n",
            "193: Prime\n",
            "194: Not Prime\n",
            "195: Not Prime\n",
            "196: Not Prime\n",
            "197: Prime\n",
            "198: Not Prime\n",
            "199: Prime\n",
            "200: Not Prime\n"
          ]
        }
      ]
    },
    {
      "cell_type": "markdown",
      "source": [
        "# Ques 5. Create an iterator class in Python that generates the Fibonacci sequence up to a specified number of terms.\n"
      ],
      "metadata": {
        "id": "tLTbWVH763Wx"
      }
    },
    {
      "cell_type": "code",
      "source": [
        "def fibonacci(n_terms):\n",
        "    a, b = 0, 1\n",
        "    for _ in range(n_terms):\n",
        "        yield a\n",
        "        a, b = b, a + b\n",
        "\n",
        "# Example usage:\n",
        "for num in fibonacci(10):\n",
        "    print(num, end=\" \")"
      ],
      "metadata": {
        "id": "bMUw_C2t7OIR",
        "colab": {
          "base_uri": "https://localhost:8080/"
        },
        "outputId": "508e23ab-b8d5-45b4-cd08-2796a975faf3"
      },
      "execution_count": 21,
      "outputs": [
        {
          "output_type": "stream",
          "name": "stdout",
          "text": [
            "0 1 1 2 3 5 8 13 21 34 "
          ]
        }
      ]
    },
    {
      "cell_type": "markdown",
      "source": [
        "# Ques 6. Write a generator function in Python that yields the powers of 2 up to a given exponent.\n"
      ],
      "metadata": {
        "id": "7hmxdUV165YH"
      }
    },
    {
      "cell_type": "code",
      "source": [
        "def powers_of_two(n):\n",
        "    for exp in range(n + 1):\n",
        "        yield 2 ** exp\n",
        "\n",
        "# Example usage:\n",
        "for value in powers_of_two(5):\n",
        "    print(value, end=\" \")"
      ],
      "metadata": {
        "id": "NeUQ-iSc7PCo",
        "colab": {
          "base_uri": "https://localhost:8080/"
        },
        "outputId": "8416130a-f705-45a8-9ab1-d7f1a83e7cef"
      },
      "execution_count": 22,
      "outputs": [
        {
          "output_type": "stream",
          "name": "stdout",
          "text": [
            "1 2 4 8 16 32 "
          ]
        }
      ]
    },
    {
      "cell_type": "markdown",
      "source": [
        "# Ques 7. Implement a generator function that reads a file line by line and yields each line as a string.\n"
      ],
      "metadata": {
        "id": "7fUPOyFB67bG"
      }
    },
    {
      "cell_type": "code",
      "source": [
        "with open(\"sample.txt\", \"w\") as f:\n",
        "    f.write(\"Hello, World!\\n\")\n",
        "    f.write(\"Python is fun\\n\")\n",
        "    f.write(\"Generators are powerful\\n\")\n",
        "\n",
        "def read_file_lines(file_path):\n",
        "  with open(file_path , 'r') as file:\n",
        "    for line in file:\n",
        "      yield line\n",
        "\n",
        "for line in read_file_lines(\"sample.txt\"):\n",
        "     print(\"read line:\", line)"
      ],
      "metadata": {
        "id": "6EEAAuqF7Pht",
        "colab": {
          "base_uri": "https://localhost:8080/"
        },
        "outputId": "4c9970f3-4bce-4eab-b1f7-7ab5f4cf389d"
      },
      "execution_count": 29,
      "outputs": [
        {
          "output_type": "stream",
          "name": "stdout",
          "text": [
            "read line: Hello, World!\n",
            "\n",
            "read line: Python is fun\n",
            "\n",
            "read line: Generators are powerful\n",
            "\n"
          ]
        }
      ]
    },
    {
      "cell_type": "markdown",
      "source": [
        "# Ques 8. Use a lambda function in Python to sort a list of tuples based on the second element of each tuple.\n"
      ],
      "metadata": {
        "id": "whu7SufG69vO"
      }
    },
    {
      "cell_type": "code",
      "source": [
        "# Sample list of tuples\n",
        "data = [(1, 5), (3, 1), (2, 8), (4, 2)]\n",
        "\n",
        "# Sort based on the second element\n",
        "sorted_data = sorted(data, key=lambda x: x[1])\n",
        "\n",
        "print(sorted_data)\n"
      ],
      "metadata": {
        "id": "cXbjdx8M7QZ_",
        "colab": {
          "base_uri": "https://localhost:8080/"
        },
        "outputId": "b5f62e45-cc2e-4ba1-ad7d-3d891af57306"
      },
      "execution_count": 33,
      "outputs": [
        {
          "output_type": "stream",
          "name": "stdout",
          "text": [
            "[(3, 1), (4, 2), (1, 5), (2, 8)]\n"
          ]
        }
      ]
    },
    {
      "cell_type": "markdown",
      "source": [
        "# Ques 9. Write a Python program that uses `map()` to convert a list of temperatures from Celsius to Fahrenheit.\n"
      ],
      "metadata": {
        "id": "GE3wevHS6_r1"
      }
    },
    {
      "cell_type": "code",
      "source": [
        "celsius = [0, 20, 37, 100]\n",
        "\n",
        "# Use map with a lambda function\n",
        "fahrenheit = list(map(lambda c: (c * 9/5) + 32, celsius))\n",
        "\n",
        "print(\"Celsius:    \", celsius)\n",
        "print(\"Fahrenheit: \", fahrenheit)"
      ],
      "metadata": {
        "id": "PwLT4fL97Q-3",
        "colab": {
          "base_uri": "https://localhost:8080/"
        },
        "outputId": "5d1d2a9c-6211-418e-fdc0-adb0a8490040"
      },
      "execution_count": 34,
      "outputs": [
        {
          "output_type": "stream",
          "name": "stdout",
          "text": [
            "Celsius:     [0, 20, 37, 100]\n",
            "Fahrenheit:  [32.0, 68.0, 98.6, 212.0]\n"
          ]
        }
      ]
    },
    {
      "cell_type": "markdown",
      "source": [
        "# Ques 10. Create a Python program that uses `filter()` to remove all the vowels from a given string.\n"
      ],
      "metadata": {
        "id": "LQGiqccK7B0w"
      }
    },
    {
      "cell_type": "code",
      "source": [
        "def remove_vowels(text):\n",
        "    vowels = \"aeiouAEIOU\"\n",
        "    # filter keeps only non-vowel characters\n",
        "    result = ''.join(filter(lambda ch: ch not in vowels, text))\n",
        "    return result\n",
        "\n",
        "# Example usage\n",
        "input_str = \"Python is Fun\"\n",
        "output_str = remove_vowels(input_str)\n",
        "\n",
        "print(\"Original:\", input_str)\n",
        "print(\"Without vowels:\", output_str)\n"
      ],
      "metadata": {
        "id": "9xlwUtYk7Rud",
        "colab": {
          "base_uri": "https://localhost:8080/"
        },
        "outputId": "b9e41638-35d1-46eb-a20f-87365d8138f2"
      },
      "execution_count": 35,
      "outputs": [
        {
          "output_type": "stream",
          "name": "stdout",
          "text": [
            "Original: Python is Fun\n",
            "Without vowels: Pythn s Fn\n"
          ]
        }
      ]
    },
    {
      "cell_type": "markdown",
      "source": [
        "# Ques 11. Imagine an accounting routine used in a book shop. It works on a list with sublists, which look like this:\n",
        "\n",
        "   ![Screenshot 2025-08-28 144526.png](data:image/png;base64,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)\n",
        "# Write a Python program, which returns a list with 2-tuples. Each tuple consists of the order number and the product of the price per item and the quantity. The product should be increased by 10,- € if the value of the order is smaller than 100,00 €."
      ],
      "metadata": {
        "id": "krtsnH-r-Pm9"
      }
    },
    {
      "cell_type": "code",
      "source": [
        "def process_orders(orders):\n",
        "    result = []\n",
        "    for order in orders:\n",
        "        order_no, item, qty, price = order\n",
        "        total = qty * price\n",
        "        if total < 100:\n",
        "            total += 10   # add fee\n",
        "        result.append((order_no, total))\n",
        "    return result\n",
        "\n",
        "\n",
        "# Example usage:\n",
        "orders = [\n",
        "    [34587, \"Learning Python\", 4, 40.95],\n",
        "    [98762, \"Programming Python\", 5, 56.80],\n",
        "    [77226, \"Head First Python\", 3, 32.95],\n",
        "    [88112, \"Einführung in Python3\", 3, 24.99]\n",
        "]\n",
        "\n",
        "print(process_orders(orders))\n"
      ],
      "metadata": {
        "id": "9x0KHmp-7UhK",
        "colab": {
          "base_uri": "https://localhost:8080/"
        },
        "outputId": "b55a4bbb-fc27-4a91-db72-78b87e6d21f4"
      },
      "execution_count": 36,
      "outputs": [
        {
          "output_type": "stream",
          "name": "stdout",
          "text": [
            "[(34587, 163.8), (98762, 284.0), (77226, 108.85000000000001), (88112, 84.97)]\n"
          ]
        }
      ]
    }
  ]
}