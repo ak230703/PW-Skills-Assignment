{
  "nbformat": 4,
  "nbformat_minor": 0,
  "metadata": {
    "colab": {
      "provenance": []
    },
    "kernelspec": {
      "name": "python3",
      "display_name": "Python 3"
    },
    "language_info": {
      "name": "python"
    }
  },
  "cells": [
    {
      "cell_type": "markdown",
      "source": [
        "# **THEORY QESTION**"
      ],
      "metadata": {
        "id": "sC7UoCr34PdR"
      }
    },
    {
      "cell_type": "markdown",
      "source": [
        "# Ques 1. What is the difference between interpreted and compiled languages\n",
        "1. **Compiled Languages**\n",
        "\n",
        "Definition: The source code is translated into machine code (binary) by a compiler before execution.\n",
        "\n",
        "Execution: The resulting executable can run directly on the computer without the compiler.\n",
        "\n",
        "Speed: Generally faster because the program is already in machine code.\n",
        "\n",
        "Error Detection: Errors are detected during compilation.\n",
        "\n",
        "Examples: C, C++, Rust, Go.\n",
        "  \n",
        "2. **Interpreted Languages**\n",
        "\n",
        "Definition: The source code is executed line by line by an interpreter at runtime.\n",
        "\n",
        "Execution: No separate executable is created; the interpreter must run the code each time.\n",
        "\n",
        "Speed: Generally slower than compiled languages.\n",
        "\n",
        "Error Detection: Errors are detected at runtime.\n",
        "\n",
        "Examples: Python, JavaScript, Ruby, PHP.  \n"
      ],
      "metadata": {
        "id": "BPOh7kH_4akL"
      }
    },
    {
      "cell_type": "markdown",
      "source": [
        "# Ques 2. What is exception handling in Python\n",
        "   - **Key Points**\n",
        "\n",
        "**Exception:** An error that occurs during program execution, e.g., division by zero, file not found, or invalid input.\n",
        "\n",
        "**Handling:** Python provides try, except, else, and finally blocks to handle exceptions.\n",
        "\n",
        "**Common Exceptions**\n",
        "\n",
        "- ZeroDivisionError → dividing by zero\n",
        "\n",
        "- FileNotFoundError → file does not exist\n",
        "\n",
        "- ValueError → invalid type conversion\n",
        "\n",
        "- TypeError → unsupported operation between types\n",
        "\n",
        "- KeyError → missing key in dictionary\n",
        "\n",
        "- IndexError → invalid index in list\n",
        "\n",
        "**Benefits**\n",
        "\n",
        "1. Prevents program crashes.\n",
        "\n",
        "2. Makes programs more robust and user-friendly.\n",
        "\n",
        "3. Allows logging or recovery when errors occur."
      ],
      "metadata": {
        "id": "I9V9Hh-14g6t"
      }
    },
    {
      "cell_type": "code",
      "source": [
        "# Basic Syntax\n",
        "try:\n",
        "    # Code that might raise an exception\n",
        "    result = 10 / 0\n",
        "except ZeroDivisionError as e:\n",
        "    # Code to handle the exception\n",
        "    print(\"Error: Division by zero is not allowed.\", e)\n",
        "\n"
      ],
      "metadata": {
        "id": "g085LsegUn2S",
        "outputId": "89ffbc80-da71-4573-d2ec-e5668c68e11f",
        "colab": {
          "base_uri": "https://localhost:8080/"
        }
      },
      "execution_count": 80,
      "outputs": [
        {
          "output_type": "stream",
          "name": "stdout",
          "text": [
            "Error: Division by zero is not allowed. division by zero\n"
          ]
        }
      ]
    },
    {
      "cell_type": "code",
      "source": [
        "# Optional Blocks\n",
        "\n",
        "# else → runs if no exception occurs\n",
        "\n",
        "try:\n",
        "    result = 10 / 2\n",
        "except ZeroDivisionError as e:\n",
        "    print(\"Error\", e)\n",
        "else:\n",
        "    print(\"Division successful, result:\", result)\n"
      ],
      "metadata": {
        "id": "TjvPU_tNUxoS",
        "outputId": "43cbf4ad-4cdd-4664-8ff1-f666a4e6b682",
        "colab": {
          "base_uri": "https://localhost:8080/"
        }
      },
      "execution_count": 79,
      "outputs": [
        {
          "output_type": "stream",
          "name": "stdout",
          "text": [
            "Division successful, result: 5.0\n"
          ]
        }
      ]
    },
    {
      "cell_type": "code",
      "source": [
        "# finally → runs always, whether an exception occurs or not (useful for cleanup)\n",
        "try:\n",
        "    file = open(\"example.txt\", \"r\")\n",
        "except FileNotFoundError as e:\n",
        "    print(\"File not found.\", e)\n",
        "finally:\n",
        "    print(\"This block always executes.\")\n"
      ],
      "metadata": {
        "id": "iUgiRK0UU7L1",
        "outputId": "e1b4410b-4a80-4858-dd5c-202d76ca6697",
        "colab": {
          "base_uri": "https://localhost:8080/"
        }
      },
      "execution_count": 78,
      "outputs": [
        {
          "output_type": "stream",
          "name": "stdout",
          "text": [
            "This block always executes.\n"
          ]
        }
      ]
    },
    {
      "cell_type": "markdown",
      "source": [
        "# Ques 3. What is the purpose of the finally block in exception handling\n",
        "   - The finally block in Python is part of exception handling, and its purpose is to execute a section of code regardless of whether an exception occurred or not.\n",
        "\n",
        "**Key Points**\n",
        "\n",
        "1. Always runs after try and except blocks.\n",
        "\n",
        "2. Typically used for cleanup actions such as:\n",
        "\n",
        "- Closing files\n",
        "\n",
        "- Releasing resources (network connections, database connections)\n",
        "\n",
        "- Resetting states\n",
        "\n",
        "**Behavior**\n",
        "\n",
        "1. If no exception occurs → finally runs after try.\n",
        "\n",
        "2. If an exception occurs → finally runs after handling the exception.\n",
        "\n",
        "3. Even if you use return inside try or except, finally still executes."
      ],
      "metadata": {
        "id": "pSWTIoo64jVE"
      }
    },
    {
      "cell_type": "code",
      "source": [
        "# Syntax Example\n",
        "try:\n",
        "    file = open(\"example.txt\", \"r\")\n",
        "    content = file.read()\n",
        "    print(content)\n",
        "except FileNotFoundError:\n",
        "    print(\"Error: File not found.\")\n",
        "finally:\n",
        "    print(\"Closing the file or performing cleanup.\")\n",
        "    file.close()  # This runs even if the file was not found (if file exists)\n"
      ],
      "metadata": {
        "id": "DgjAhvMfV1gU"
      },
      "execution_count": null,
      "outputs": []
    },
    {
      "cell_type": "markdown",
      "source": [
        "# Ques 4. What is logging in Python\n",
        "   - Logging in Python is the process of recording messages that describe events occurring during the execution of a program. These messages can help developers debug, monitor, and maintain applications.\n",
        "\n",
        "**Key Points:**\n",
        "\n",
        "1. Purpose of Logging:\n",
        "\n",
        "- Track the flow of a program.\n",
        "\n",
        "- Record errors, warnings, or informational messages.\n",
        "\n",
        "- Help in troubleshooting issues without interrupting program execution.\n",
        "\n",
        "- Maintain audit trails in production applications.\n",
        "\n",
        "2. Python’s Logging Module:\n",
        "\n",
        "- Python provides a built-in module called logging for logging messages.\n",
        "\n",
        "- Supports different log levels: DEBUG, INFO, WARNING, ERROR, and CRITICAL.\n",
        "\n",
        "- Logs can be written to the console, files, or other outputs.\n",
        "\n",
        "- Offers flexibility in formatting messages and controlling what is logged.\n",
        "\n",
        "3. Advantages of Logging over Print Statements:\n",
        "\n",
        "- Can categorize messages by severity.\n",
        "\n",
        "- Can redirect logs to files or external systems.\n",
        "\n",
        "- Can enable or disable logging without changing code logic.\n",
        "\n",
        "- Provides timestamps and other metadata automatically.\n"
      ],
      "metadata": {
        "id": "gxjpA3_F4k4a"
      }
    },
    {
      "cell_type": "markdown",
      "source": [
        "# Ques 5. What is the significance of the __del__ method in Python\n",
        "   -  The __del__ method in Python is a special method known as a destructor, which is called when an object is about to be destroyed. Its main purpose is to allow the object to perform cleanup actions before it is removed from memory.\n",
        "\n",
        "**Key Points:**\n",
        "\n",
        "1. Automatic Invocation:\n",
        "\n",
        "- Python uses garbage collection to manage memory.\n",
        "\n",
        "- When an object’s reference count drops to zero, the __del__ method is invoked automatically.\n",
        "\n",
        "2. Purpose / Use Cases:\n",
        "\n",
        "- Release external resources such as:\n",
        "\n",
        "a.  Files\n",
        "\n",
        "b. Network connections\n",
        "\n",
        "c. Database connections\n",
        "\n",
        "- Perform any other cleanup required before the object is destroyed.\n",
        "\n",
        "Important Notes:\n",
        "**bold text**\n",
        "- The __del__ method may not always be called immediately, especially if there are circular references.\n",
        "\n",
        "- It’s generally better to use context managers (with statement) for managing resources like files, rather than relying on __del__.\n",
        "\n",
        "Syntax:\n"
      ],
      "metadata": {
        "id": "73PyPHKS4nR-"
      }
    },
    {
      "cell_type": "code",
      "source": [
        "# syntax\n",
        "class MyClass:\n",
        "    def __init__(self, name):\n",
        "        self.name = name\n",
        "        print(f\"{self.name} created\")\n",
        "\n",
        "    def __del__(self):\n",
        "        print(f\"{self.name} is being destroyed\")\n",
        "\n",
        "\n",
        "obj = MyClass(\"Object1\")\n",
        "del obj  # Explicitly deletes the object, triggering __del__\n"
      ],
      "metadata": {
        "id": "IgwxxunuXVER",
        "outputId": "430a50e0-2d8a-4066-e6ad-683db8a97401",
        "colab": {
          "base_uri": "https://localhost:8080/"
        }
      },
      "execution_count": 81,
      "outputs": [
        {
          "output_type": "stream",
          "name": "stdout",
          "text": [
            "Object1 created\n",
            "Object1 is being destroyed\n"
          ]
        }
      ]
    },
    {
      "cell_type": "markdown",
      "source": [
        "# Ques 6. What is the difference between import and from ... import in Python\n",
        "   - | Feature                | `import module`           | `from module import`          |\n",
        "| ---------------------- | ------------------------- | ----------------------------- |\n",
        "| Imports                | Entire module             | Specific objects              |\n",
        "| Access                 | Module name prefix needed | Direct access to objects      |\n",
        "| Risk of name conflicts | Low                       | Higher if many names imported |\n",
        "| Syntax                 | `module.function()`       | `function()`                  |\n"
      ],
      "metadata": {
        "id": "PY2BTf-04pBY"
      }
    },
    {
      "cell_type": "code",
      "source": [
        "# 1. Using import\n",
        "\n",
        "# Syntax:\n",
        "\n",
        "import module_name\n",
        "\n",
        "\n",
        "# Behavior:\n",
        "\n",
        "# 1. Imports the entire module.\n",
        "\n",
        "# 2. You need to prefix functions, classes, or variables with the module name.\n",
        "\n",
        "# Example:\n",
        "\n",
        "import math\n",
        "\n",
        "print(math.sqrt(16))  # Using sqrt() from math module\n",
        "\n",
        "\n",
        "# Pros: Avoids naming conflicts because everything is accessed through the module name."
      ],
      "metadata": {
        "id": "ucBWxasgYBn4"
      },
      "execution_count": 82,
      "outputs": []
    },
    {
      "cell_type": "code",
      "source": [
        "# Using from ... import\n",
        "\n",
        "# Syntax:\n",
        "\n",
        "from module_name import function_name, class_name, variable_name\n",
        "\n",
        "\n",
        "# Behavior:\n",
        "\n",
        "# 1. Imports specific objects directly from the module.\n",
        "\n",
        "# 2. You can use them without the module prefix.\n",
        "\n",
        "# Example:\n",
        "\n",
        "from math import sqrt, pi\n",
        "\n",
        "print(sqrt(16))  # No need to prefix with math\n",
        "print(pi)\n",
        "\n",
        "\n",
        "# Can also import all objects:\n",
        "\n",
        "from math import *   # Not recommended due to possible name conflicts"
      ],
      "metadata": {
        "id": "zJJ271G0YURq"
      },
      "execution_count": null,
      "outputs": []
    },
    {
      "cell_type": "markdown",
      "source": [
        "# Ques 7. How can you handle multiple exceptions in Python\n",
        "   - Handling Multiple Exceptions in Python\n",
        "\n",
        "In Python, multiple exceptions can occur during program execution, and it is important to handle them gracefully to prevent the program from crashing. Python provides several ways to handle multiple exceptions using the try-except construct.\n",
        "\n",
        "1. **Separate except blocks for each exception**\n",
        "\n",
        "- You can define different except blocks for each exception type.\n",
        "\n",
        "- This allows you to respond differently depending on the error.\n",
        "\n",
        "Example:\n",
        "\n",
        "    try:\n",
        "     # code that may raise exceptions\n",
        "    except ValueError:\n",
        "     # handle ValueError\n",
        "    except ZeroDivisionError:\n",
        "     # handle division by zero\n",
        "\n",
        "**2. Single except block for multiple exceptions**\n",
        "\n",
        "- Multiple exceptions can be grouped in a tuple.\n",
        "\n",
        "- A single block handles all listed exceptions in the same way.\n",
        "\n",
        "Example:\n",
        "\n",
        "    try:\n",
        "      # code that may raise exceptions\n",
        "    except (ValueError, ZeroDivisionError) as e:\n",
        "      # handle either ValueError or ZeroDivisionError\n",
        "\n",
        "**3. Catching all exceptions**\n",
        "- Using except Exception allows catching any exception that inherits from Exception.\n",
        "\n",
        "- Useful for logging or fallback mechanisms but should be used carefully.\n",
        "\n",
        "Example:\n",
        "\n",
        "    try:\n",
        "      # code\n",
        "    except Exception as e:\n",
        "      # handle any exception\n",
        "\n",
        "**4. Optional else and finally**\n",
        "\n",
        "- else block executes if no exception occurs.\n",
        "\n",
        "- finally block executes always, for cleanup tasks like closing files or releasing resources.\n",
        "\n",
        "Example:\n",
        "\n",
        "    try:\n",
        "    # code\n",
        "     except (ValueError, ZeroDivisionError) as e:\n",
        "      # handle exceptions\n",
        "    else:\n",
        "      # runs if no exception\n",
        "    finally:\n",
        "      # runs always"
      ],
      "metadata": {
        "id": "gEbx3_RL4qzS"
      }
    },
    {
      "cell_type": "markdown",
      "source": [
        "# Ques 8. What is the purpose of the with statement when handling files in Python\n",
        "   - The with statement in Python is used to handle files (or other resources) in a safe and efficient way. It is part of Python’s context management protocol, which ensures that resources are properly managed.\n",
        "\n",
        "**Key Points:**\n",
        "\n",
        "**1. Automatic Resource Management:**\n",
        "\n",
        "- When you open a file using with, Python automatically closes the file when the block ends, even if an exception occurs.\n",
        "\n",
        "- This eliminates the need to explicitly call file.close().\n",
        "\n",
        "**2. Cleaner and Safer Code:**\n",
        "\n",
        "- Using with makes the code more readable.\n",
        "\n",
        "- Reduces the risk of leaving files open, which could lead to memory leaks or data corruption.\n",
        "\n",
        "**3. Exception Safety:**\n",
        "\n",
        "- If an error occurs while processing the file, the file is still closed automatically, ensuring proper cleanup.\n",
        "\n",
        "**Example Syntax:**\n",
        "\n",
        "    with open(\"example.txt\", \"r\") as file:\n",
        "        content = file.read()\n",
        "        print(content)\n",
        "    # File is automatically closed here\n",
        "\n",
        "**Benefits:**\n",
        "\n",
        "1. Ensures reliable closing of files.\n",
        "\n",
        "2. Avoids manual cleanup.\n",
        "\n",
        "3. Makes code more Pythonic and concise.\n",
        "\n",
        "4. Works with other resources as well (e.g., network connections, locks)."
      ],
      "metadata": {
        "id": "La1JdxRu4sH3"
      }
    },
    {
      "cell_type": "markdown",
      "source": [
        "# Ques 9. What is the difference between multithreading and multiprocessing\n",
        "**1. Multithreading**\n",
        "\n",
        "- Definition: Running multiple threads (smaller units of a process) concurrently within a single process.\n",
        "\n",
        "- Memory Usage: Threads share the same memory space of the process.\n",
        "\n",
        "- Execution: Best for I/O-bound tasks (e.g., file operations, network requests) because Python’s Global Interpreter Lock (GIL) prevents true parallel execution of threads for CPU-bound tasks.\n",
        "\n",
        "- Overhead: Low, since threads share memory and resources.\n",
        "\n",
        "- Communication: Easier because threads share memory.\n",
        "\n",
        "- Example Use Case: Downloading multiple files from the internet concurrently.\n",
        "\n",
        "**2. Multiprocessing**\n",
        "\n",
        "- Definition: Running multiple processes concurrently, each with its own memory space.\n",
        "\n",
        "- Memory Usage: Each process has separate memory; heavier on resources.\n",
        "\n",
        "- Execution: True parallelism on CPU-bound tasks, because each process runs independently and can utilize multiple CPU cores.\n",
        "\n",
        "- Overhead: Higher due to separate memory and process creation.\n",
        "\n",
        "- Communication: Requires inter-process communication (IPC) methods like queues or pipes.\n",
        "\n",
        "- Example Use Case: Performing CPU-intensive computations like matrix multiplication or image processing.\n",
        "\n"
      ],
      "metadata": {
        "id": "HX7-YzVM4tz6"
      }
    },
    {
      "cell_type": "markdown",
      "source": [
        "# Ques 10. What are the advantages of using logging in a program\n",
        "  -  Advantages of Using Logging in a Program :\n",
        "\n",
        "**1. Debugging:** Helps trace program flow and identify errors.\n",
        "\n",
        "**2. Persistent Records:** Stores messages in files for auditing or analysis.\n",
        "\n",
        "**3. Severity Levels:** Categorizes messages as DEBUG, INFO, WARNING, ERROR, CRITICAL.\n",
        "\n",
        "**4. Flexible Output:** Logs can go to files, console, or external systems.\n",
        "\n",
        "**5. Configurable:** Can enable/disable or change log levels without altering code.\n",
        "\n",
        "**6. Non-Intrusive:** Records messages without disrupting program execution.\n",
        "\n",
        "**7. Monitoring & Auditing:** Useful for production monitoring and compliance."
      ],
      "metadata": {
        "id": "qQ8-Krw94zEB"
      }
    },
    {
      "cell_type": "markdown",
      "source": [
        "# Ques 11. What is memory management in Python\n",
        "\n",
        "**- Memory Management in Python:**\n",
        "\n",
        "- Python automatically allocates and frees memory for objects.\n",
        "\n",
        "- Uses reference counting: objects are deleted when no references remain.\n",
        "\n",
        "- Garbage collector handles circular references and cleans up unused memory.\n",
        "\n",
        "- Memory is managed efficiently via private memory pools."
      ],
      "metadata": {
        "id": "YS7zXQP24043"
      }
    },
    {
      "cell_type": "markdown",
      "source": [
        "# Ques 12. What are the basic steps involved in exception handling in Python\n",
        "  - Exception handling in Python is a mechanism to handle runtime errors so that the program can continue executing smoothly. The basic steps involved are:\n",
        "\n",
        "**1. Try Block:**\n",
        "\n",
        "- The try block contains the code that may raise an exception.\n",
        "\n",
        "- It is the section where Python monitors for errors.\n",
        "\n",
        "**2. Except Block:**\n",
        "\n",
        "- The except block catches and handles specific exceptions that occur in the try block.\n",
        "\n",
        "- Multiple except blocks can be used to handle different types of exceptions.\n",
        "\n",
        "**3. Else Block (Optional):**\n",
        "\n",
        "- The else block runs if no exception occurs in the try block.\n",
        "\n",
        "- It is used for code that should execute only when the try block succeeds.\n",
        "\n",
        "**4. Finally Block (Optional):**\n",
        "\n",
        "- The finally block executes regardless of whether an exception occurred or not.\n",
        "\n",
        "- It is typically used for cleanup actions, such as closing files or releasing resources."
      ],
      "metadata": {
        "id": "rela3uWr42uV"
      }
    },
    {
      "cell_type": "markdown",
      "source": [
        "# Ques 13. Why is memory management important in Python\n",
        "   -  Memory management is crucial in Python because it ensures that programs use system resources efficiently and run reliably.\n",
        "\n",
        "**1. Prevents Memory Leaks:**\n",
        "\n",
        "Automatically freeing unused objects avoids excessive memory consumption and potential program crashes.\n",
        "\n",
        "**2. Efficient Resource Utilization:**\n",
        "\n",
        "Optimizes the use of RAM by allocating and deallocating memory dynamically as needed.\n",
        "\n",
        "**3. Improves Program Performance:**\n",
        "\n",
        "Proper memory management reduces delays caused by memory shortages and speeds up execution.\n",
        "\n",
        "**4. Simplifies Programming:**\n",
        "\n",
        "Developers don’t need to manually allocate or free memory, reducing errors and complexity.\n",
        "\n",
        "**5. Handles Circular References:**\n",
        "\n",
        "Python’s garbage collector cleans up objects even when they reference each other, preventing memory from being locked unnecessarily."
      ],
      "metadata": {
        "id": "xq8hRts344RJ"
      }
    },
    {
      "cell_type": "markdown",
      "source": [
        "# Ques 14. What is the role of try and except in exception handling\n",
        "   -  In Python, try and except are the fundamental blocks used to handle runtime errors and ensure the program continues executing smoothly.\n",
        "\n",
        "**1. try Block**\n",
        "\n",
        "- Contains the code that might raise an exception.\n",
        "\n",
        "- Python monitors this block for errors during execution.\n",
        "\n",
        "- Only code inside the try block is subject to exception handling.\n",
        "\n",
        "**Example:**\n",
        "\n",
        "    try:\n",
        "     result = 10 / 0  # This may raise ZeroDivisionError\n",
        "\n",
        "**2. except Block**\n",
        "\n",
        "- Catches and handles exceptions that occur in the try block.\n",
        "\n",
        "- You can specify the type of exception to handle different errors differently.\n",
        "\n",
        "- Prevents the program from crashing and allows graceful recovery.\n",
        "\n",
        "**Example:**\n",
        "\n",
        "    except ZeroDivisionError:\n",
        "      print(\"Cannot divide by zero.\")\n"
      ],
      "metadata": {
        "id": "PYDcbIv_45vU"
      }
    },
    {
      "cell_type": "markdown",
      "source": [
        "# Ques 15. How does Python's garbage collection system work\n",
        "   - Python’s Garbage Collection System\n",
        "\n",
        "Python automatically manages memory for objects using a combination of reference counting and a garbage collector, which helps prevent memory leaks and ensures efficient use of resources.\n",
        "\n",
        "**1. Reference Counting**\n",
        "\n",
        "- Every object in Python keeps a count of references pointing to it.\n",
        "\n",
        "- When an object is created, its reference count is 1.\n",
        "\n",
        "- When a new reference is made, the count increases; when a reference is deleted, it decreases.\n",
        "\n",
        "- Deletion: When the reference count drops to 0, the object is immediately removed from memory.\n",
        "\n",
        "**Example:**\n",
        "\n",
        "    a = [1, 2, 3]  # reference count = 1\n",
        "    b = a          # reference count = 2\n",
        "    del a          # reference count = 1\n",
        "    del b          # reference count = 0 → object deleted\n",
        "\n",
        "**2. Garbage Collector (GC)**\n",
        "\n",
        "- Handles circular references (objects referencing each other) which reference counting alone cannot clean up.\n",
        "\n",
        "- Python’s gc module manages garbage collection by identifying and freeing unreachable objects.\n",
        "\n",
        "- Runs periodically to clean up memory not reachable by any references.\n",
        "\n",
        "**Example:**\n",
        "\n",
        "    import gc\n",
        "    gc.collect()  # Forces garbage collection\n",
        "\n",
        "**Key Points**\n",
        "\n",
        "- Automatic memory management simplifies programming.\n",
        "\n",
        "- Combines reference counting and garbage collection for robustness.\n",
        "\n",
        "- Prevents memory leaks from unused or circularly referenced objects."
      ],
      "metadata": {
        "id": "dzgBjawL466W"
      }
    },
    {
      "cell_type": "markdown",
      "source": [
        "# Ques 16. What is the purpose of the else block in exception handling\n",
        "   - Purpose of the else Block in Exception Handling in Python\n",
        "\n",
        "The else block in Python exception handling is an optional block that runs only if no exceptions occur in the try block. It allows you to separate the code that should execute only when everything succeeds from the error-handling code.\n",
        "\n",
        "**Key Points**\n",
        "\n",
        "**1. Runs when no exception occurs:**\n",
        "\n",
        "If the try block executes successfully, the else block is executed.\n",
        "\n",
        "**2. Keeps code clean:**\n",
        "\n",
        "Helps avoid placing code inside the try block that doesn’t need exception handling.\n",
        "\n",
        "**3. Optional:**\n",
        "\n",
        "Not required; used only for clarity and structured flow.\n",
        "\n",
        "**Example**\n",
        "\n",
        "    try:\n",
        "      result = 10 / 2  # No exception\n",
        "    except ZeroDivisionError:\n",
        "      print(\"Cannot divide by zero.\")\n",
        "    else:\n",
        "      print(\"Division successful, result:\", result)"
      ],
      "metadata": {
        "id": "wYC3wPSC48Jo"
      }
    },
    {
      "cell_type": "markdown",
      "source": [
        "# Ques 17. What are the common logging levels in Python\n",
        "  -  | **Level**    | **Description**                                                   | **Numeric Value** |\n",
        "| ------------ | ----------------------------------------------------------------- | ----------------- |\n",
        "| **DEBUG**    | Detailed information, typically for diagnosing problems.          | 10                |\n",
        "| **INFO**     | General information about program execution.                      | 20                |\n",
        "| **WARNING**  | Indicates something unexpected, but the program is still running. | 30                |\n",
        "| **ERROR**    | A serious problem occurred; some functionality failed.            | 40                |\n",
        "| **CRITICAL** | A very severe error that may cause the program to terminate.      | 50                |\n",
        "\n",
        "\n",
        "**Notes:**\n",
        "\n",
        "1. Lower numeric values indicate less severe messages.\n",
        "\n",
        "2. Higher numeric values indicate more severe messages that require attention.\n",
        "\n",
        "3. Logging levels can be configured to filter messages so only certain levels are recorded."
      ],
      "metadata": {
        "id": "UTK6O5i749eo"
      }
    },
    {
      "cell_type": "markdown",
      "source": [
        "# Ques 18. What is the difference between os.fork() and multiprocessing in Python\n",
        "  - **1. os.fork()**\n",
        "\n",
        "**Definition:** Creates a child process by duplicating the current process.\n",
        "\n",
        "**Platform:** Only works on Unix/Linux systems; not available on Windows.\n",
        "\n",
        "**Memory:** Child process shares some resources initially but has its own memory space.\n",
        "\n",
        "**Usage:** Low-level process creation; you must handle process synchronization, communication, and termination manually.\n",
        "\n",
        "**Example:**\n",
        "\n",
        "    import os\n",
        "\n",
        "    pid = os.fork()\n",
        "      if pid == 0:\n",
        "      print(\"Child process\")\n",
        "    else:\n",
        "     print(\"Parent process\")\n",
        "\n",
        "\n",
        "- **Pros:** Lightweight for simple tasks; directly uses OS process creation.\n",
        "\n",
        " - **Cons:** Limited portability, manual handling, harder to manage.\n",
        "\n",
        "**2. multiprocessing Module**\n",
        "\n",
        "**Definition:** High-level module for creating and managing processes in a platform-independent way.\n",
        "\n",
        "**Platform:** Works on both Unix/Linux and Windows.\n",
        "\n",
        "**Memory:** Each process has its own memory space, communication is via queues, pipes, or shared memory.\n",
        "\n",
        "**Usage:** Easier to create and manage multiple processes with built-in methods for starting, joining, and synchronizing processes.\n",
        "\n",
        "**Example:**\n",
        "\n",
        "    from multiprocessing import Process\n",
        "\n",
        "     def worker():\n",
        "      print(\"Worker process\")\n",
        "\n",
        "    p = Process(target=worker)\n",
        "    p.start()\n",
        "    p.join()\n",
        "\n",
        "\n",
        "- **Pros:** Portable, high-level, easier to manage processes, supports CPU-bound tasks.\n",
        "\n",
        "- **Cons:** Slightly more overhead than os.fork()."
      ],
      "metadata": {
        "id": "sYczRqM84-9v"
      }
    },
    {
      "cell_type": "markdown",
      "source": [
        "# Ques 19. What is the importance of closing a file in Python\n",
        "   -  Importance of Closing a File in Python\n",
        "\n",
        "Closing a file in Python is crucial because it releases system resources and ensures data integrity. When a file is opened, the operating system allocates resources (like memory buffers) to manage file operations. Not closing the file can lead to issues.\n",
        "\n",
        "**Key Points:**\n",
        "\n",
        "**1. Resource Management:**\n",
        "\n",
        "- Each open file consumes system resources.\n",
        "\n",
        "- Closing a file frees these resources for other processes.\n",
        "\n",
        "**2. Data Integrity:**\n",
        "\n",
        "- For write operations, data is often buffered in memory before being written to disk.\n",
        "\n",
        "- Closing the file ensures that all buffered data is properly flushed and saved.\n",
        "\n",
        "**3. Avoiding Errors:**\n",
        "\n",
        "- Leaving files open can lead to file corruption, access errors, or memory leaks.\n",
        "\n",
        "**4. Good Practice:**\n",
        "\n",
        "- Using file.close() or a context manager (with statement) ensures files are properly closed automatically, even if an error occurs.\n",
        "\n",
        "**Example:**\n",
        "\n",
        "    # Using close()\n",
        "    file = open(\"example.txt\", \"w\")\n",
        "    file.write(\"Hello, Python!\")\n",
        "    file.close()\n",
        "\n",
        "    # Using with statement (recommended)\n",
        "    with open(\"example.txt\", \"w\") as file:\n",
        "      file.write(\"Hello, Python!\")\n",
        "    # File automatically closed here"
      ],
      "metadata": {
        "id": "Z9hRDmgo5B9p"
      }
    },
    {
      "cell_type": "markdown",
      "source": [
        "# Ques 20. What is the difference between file.read() and file.readline() in Python\n",
        "   | Feature                 | `file.read()`                      | `file.readline()`                    |\n",
        "| ----------------------- | ---------------------------------- | ------------------------------------ |\n",
        "| Reads                   | Entire file (or N bytes)           | One line at a time                   |\n",
        "| Memory Usage            | Can be high for large files        | Efficient for large files            |\n",
        "| Use Case                | Small files, whole-file processing | Large files, line-by-line processing |\n",
        "| Includes newline (`\\n`) | No special handling                | Line includes `\\n`                   |\n",
        "\n",
        "1. file.read()\n",
        "\n",
        "Example:\n",
        "\n",
        "    with open(\"example.txt\", \"r\") as file:\n",
        "       content = file.read()\n",
        "       print(content)\n",
        "\n",
        "2. file.readline()\n",
        "\n",
        " Example:\n",
        "\n",
        "    with open(\"example.txt\", \"r\") as file:\n",
        "       line = file.readline()\n",
        "       while line:\n",
        "          print(line.strip())\n",
        "          line = file.readline()\n"
      ],
      "metadata": {
        "id": "wmPkLSV_5DW7"
      }
    },
    {
      "cell_type": "markdown",
      "source": [
        "# Ques 21. What is the logging module in Python used for\n",
        "   - The logging Module in Python\n",
        "\n",
        "The logging module in Python is a built-in module used for recording messages about events that happen during the execution of a program. It provides a flexible framework for tracking the flow of a program and diagnosing problems.\n",
        "\n",
        "\n",
        "**1. Purpose:**\n",
        "\n",
        "Helps debug and monitor programs by recording events, errors, warnings, or informational messages.\n",
        "\n",
        "**2. Log Levels:**\n",
        "\n",
        "Supports different levels to indicate severity:\n",
        "DEBUG, INFO, WARNING, ERROR, CRITICAL.\n",
        "\n",
        "**3. Output Options:**\n",
        "\n",
        "Logs can be written to the console, files, or other outputs.\n",
        "\n",
        "**4. Advantages over print statements:**\n",
        "\n",
        "- Can categorize messages by severity.\n",
        "\n",
        "- Allows persistent storage of messages.\n",
        "\n",
        "- Can be configured for different environments without changing code."
      ],
      "metadata": {
        "id": "C_G_qeXg5Jqv"
      }
    },
    {
      "cell_type": "markdown",
      "source": [
        "# Ques 22. What is the os module in Python used for in file handling\n",
        "   - The os Module in Python\n",
        "\n",
        "The os module in Python is a built-in module that provides functions to interact with the operating system, especially for file and directory operations. It is commonly used in file handling to perform tasks that go beyond simple reading and writing.\n",
        "\n",
        "**1. File and Directory Management:**\n",
        "\n",
        "Create, rename, and delete files or directories.\n",
        "\n",
        "**2. Path Manipulation:**\n",
        "\n",
        "Work with file paths in a platform-independent manner.\n",
        "\n",
        "**3. File/Directory Status:**\n",
        "\n",
        "Check if a file or directory exists, and determine its type.\n",
        "\n",
        "**4. Directory Listing:**\n",
        "\n",
        "List contents of directories, including files and subdirectories."
      ],
      "metadata": {
        "id": "cZgXNYhJ5Kw0"
      }
    },
    {
      "cell_type": "markdown",
      "source": [
        "# Ques 23. What are the challenges associated with memory management in Python\n",
        "  - Challenges Associated with Memory Management in Python\n",
        "\n",
        "Although Python handles memory automatically, there are still several challenges developers may face when working with memory management:\n",
        "\n",
        "**1. Memory Leaks**\n",
        "\n",
        "- Cause: Objects that are no longer needed are not released due to lingering references or circular references.\n",
        "\n",
        "- Impact: Can lead to excessive memory usage and slow performance.\n",
        "\n",
        "**2. Circular References**\n",
        "\n",
        "- Cause: Objects reference each other in a cycle, preventing reference counts from dropping to zero.\n",
        "\n",
        "- Impact: Standard reference counting cannot free these objects; the garbage collector must detect and clean them.\n",
        "\n",
        "**3. High Memory Consumption**\n",
        "\n",
        "- Cause: Creating large data structures (lists, dictionaries) or many objects can consume significant memory.\n",
        "\n",
        "- Impact: May cause performance issues or program crashes, especially in memory-constrained environments.\n",
        "\n",
        "**4. Garbage Collection Overhead**\n",
        "\n",
        "- Cause: Garbage collector periodically checks for unreachable objects.\n",
        "\n",
        "- Impact: Can introduce performance overhead, especially in programs with many short-lived objects.\n",
        "\n",
        "**5. Unpredictable Cleanup**\n",
        "\n",
        "- Cause: __del__ destructors may not be called immediately if objects are part of circular references.\n",
        "\n",
        "- Impact: Resources like files or network connections may remain open longer than expected.\n",
        "\n"
      ],
      "metadata": {
        "id": "UcYftRnb5L5t"
      }
    },
    {
      "cell_type": "markdown",
      "source": [
        "# Ques 24. How do you raise an exception manually in Python\n",
        "   - In Python, exceptions can be raised manually using the raise statement. This allows a program to signal that an error or exceptional condition has occurred, even if it is not caused by Python itself.\n",
        "\n",
        "**Purpose:**\n",
        "\n",
        "- To indicate that something has gone wrong in the program.\n",
        "\n",
        "- Often used for input validation, enforcing rules, or signaling errors in functions.\n",
        "\n",
        "**Syntax:**\n",
        "\n",
        "    raise ExceptionType(\"Error message\")\n",
        "\n",
        "\n",
        "- ExceptionType can be a built-in exception (e.g., ValueError, TypeError) or a custom exception defined by the programmer.\n",
        "\n",
        "**3. Custom Exceptions:**\n",
        "\n",
        "- You can create a user-defined exception by inheriting from the Exception class.\n",
        "\n",
        "- Provides more clarity and control for specific error conditions."
      ],
      "metadata": {
        "id": "TlcuxyYe5Or7"
      }
    },
    {
      "cell_type": "markdown",
      "source": [
        "# Ques 25. Why is it important to use multithreading in certain applications? Java + DS\n",
        "   - Multithreading allows a program to perform multiple tasks concurrently, improving efficiency, responsiveness, and resource utilization. This is particularly important in applications that handle I/O, user interactions, or large data operations.\n",
        "\n",
        "\n",
        "**1. Improved Performance for I/O-bound Tasks:**\n",
        "\n",
        "- Applications that perform file operations, network communication, or database access can continue processing other tasks while waiting for I/O.\n",
        "\n",
        "**Example:** A web server handling multiple client requests using separate threads.\n",
        "\n",
        "**2. Better CPU Utilization for Parallelizable Tasks:**\n",
        "\n",
        "- In CPU-bound operations like processing large data structures (arrays, trees, graphs), multithreading can divide tasks across multiple cores.\n",
        "\n",
        "**Example:** Sorting different portions of a large array concurrently.\n",
        "\n",
        "**3. Enhanced Responsiveness:**\n",
        "\n",
        "- GUI applications remain responsive even when performing heavy background computations.\n",
        "\n",
        "**Example:** A Java Swing application updating the UI while processing large datasets in a background thread.\n",
        "\n",
        "**4. Concurrent Access to Data Structures:**\n",
        "\n",
        "- When properly synchronized, multiple threads can work on shared data structures (e.g., queues, stacks, hash maps) to improve throughput.\n",
        "\n",
        "**Example:** A producer-consumer problem using a BlockingQueue in Java.\n",
        "\n",
        "**5. Resource Sharing:**\n",
        "\n",
        " - Threads share the same memory space, making it easier to share data between concurrent tasks without creating separate processes."
      ],
      "metadata": {
        "id": "T6-U7B_45QaM"
      }
    },
    {
      "cell_type": "markdown",
      "source": [
        "# **PRACTICAL QUESTION**"
      ],
      "metadata": {
        "id": "SVE4kYrz7wfI"
      }
    },
    {
      "cell_type": "markdown",
      "source": [
        "Ques 1. How can you open a file for writing in Python and write a string to it"
      ],
      "metadata": {
        "id": "Py8BioF474JS"
      }
    },
    {
      "cell_type": "code",
      "source": [
        "# Open a file for writing\n",
        "file = open(\"example.txt\", \"w\")\n",
        "\n",
        "# Write a string to the file\n",
        "file.write(\"Python is powerful\\n\" )\n",
        "file.write(\"File handling is easy\\n\")\n",
        "\n",
        "# Close the file to save changes\n",
        "file.close()\n"
      ],
      "metadata": {
        "id": "UKtSAfvY_Kau"
      },
      "execution_count": 44,
      "outputs": []
    },
    {
      "cell_type": "markdown",
      "source": [
        "Ques 2. Write a Python program to read the contents of a file and print each line"
      ],
      "metadata": {
        "id": "LlRmG7Yu73z0"
      }
    },
    {
      "cell_type": "code",
      "source": [
        "\n",
        "# Open the file in read mode\n",
        "with open(\"example.txt\", \"r\") as file:\n",
        "    # Loop through each line in the file\n",
        "    for line in file:\n",
        "        print(line.strip())  # strip() removes extra newline characters\n",
        "\n"
      ],
      "metadata": {
        "colab": {
          "base_uri": "https://localhost:8080/"
        },
        "id": "S5d6l91N_KDv",
        "outputId": "74ddc929-1cd5-42a2-c2ee-d8206da256b4"
      },
      "execution_count": null,
      "outputs": [
        {
          "output_type": "stream",
          "name": "stdout",
          "text": [
            "Hello, this is a string written to a file.\n"
          ]
        }
      ]
    },
    {
      "cell_type": "markdown",
      "source": [
        "Ques 3. How would you handle a case where the file doesn't exist while trying to open it for reading\n"
      ],
      "metadata": {
        "id": "jUf4HXTK8DHc"
      }
    },
    {
      "cell_type": "code",
      "source": [
        "filename = \"ex.txt\"\n",
        "\n",
        "try:\n",
        "    with open(filename, \"r\") as file:\n",
        "        for line in file:\n",
        "            print(line.strip())\n",
        "except FileNotFoundError:\n",
        "    print(f\"Error: The file '{filename}' was not found.\")"
      ],
      "metadata": {
        "colab": {
          "base_uri": "https://localhost:8080/"
        },
        "id": "eSrYPL2H_JJ1",
        "outputId": "b63f5e58-628a-4265-fb60-7219bd24f17e"
      },
      "execution_count": null,
      "outputs": [
        {
          "output_type": "stream",
          "name": "stdout",
          "text": [
            "Error: The file 'ex.txt' was not found.\n"
          ]
        }
      ]
    },
    {
      "cell_type": "markdown",
      "source": [
        "Ques 4. Write a Python script that reads from one file and writes its content to another file\n"
      ],
      "metadata": {
        "id": "UDd7KO2R8FD4"
      }
    },
    {
      "cell_type": "code",
      "source": [
        "# Open a file for writing\n",
        "file = open(\"source.txt\", \"w\")\n",
        "\n",
        "# Write a string to the file\n",
        "file.write(\"Python is power \\n File handling is easy\")\n",
        "\n",
        "# Close the file to save changes\n",
        "file.close()\n",
        "\n",
        "# Define source and destination files\n",
        "source_file = \"source.txt\"\n",
        "destination_file = \"destination.txt\"\n",
        "\n",
        "try:\n",
        "    # Open the source file in read mode and destination in write mode\n",
        "    with open(source_file, \"r\") as src, open(destination_file, \"w\") as dest:\n",
        "        # Read all content from source and write to destination\n",
        "        content = src.read()\n",
        "        dest.write(content)\n",
        "    print(f\"Contents copied from '{source_file}' to '{destination_file}' successfully.\")\n",
        "except FileNotFoundError:\n",
        "    print(f\"Error: The file '{source_file}' was not found.\")\n"
      ],
      "metadata": {
        "colab": {
          "base_uri": "https://localhost:8080/"
        },
        "id": "ueo896kr_IYu",
        "outputId": "ce4b9bf0-b311-4732-ba4d-02f356b934ef"
      },
      "execution_count": null,
      "outputs": [
        {
          "output_type": "stream",
          "name": "stdout",
          "text": [
            "Contents copied from 'source.txt' to 'destination.txt' successfully.\n"
          ]
        }
      ]
    },
    {
      "cell_type": "markdown",
      "source": [
        "Ques 5. How would you catch and handle division by zero error in Python\n"
      ],
      "metadata": {
        "id": "E3xPipdz8G8E"
      }
    },
    {
      "cell_type": "code",
      "source": [
        "try:\n",
        "  10/0\n",
        "except ZeroDivisionError as e:\n",
        "    print(\"Error: Cannot divide by zero!\", e)"
      ],
      "metadata": {
        "id": "tRElaZrN_H_P",
        "colab": {
          "base_uri": "https://localhost:8080/"
        },
        "outputId": "316fd089-a90d-45bf-d55e-d4c87a2c68cb"
      },
      "execution_count": null,
      "outputs": [
        {
          "output_type": "stream",
          "name": "stdout",
          "text": [
            "Error: Cannot divide by zero! division by zero\n"
          ]
        }
      ]
    },
    {
      "cell_type": "markdown",
      "source": [
        "Ques 6. Write a Python program that logs an error message to a log file when a division by zero exception occurs\n"
      ],
      "metadata": {
        "id": "66yf_CR88I5W"
      }
    },
    {
      "cell_type": "code",
      "source": [
        "import logging\n",
        "\n",
        "# Configure logging\n",
        "logging.basicConfig(\n",
        "    filename=\"error.log\",           # Log file name\n",
        "    level=logging.ERROR,            # Log only ERROR and above\n",
        "    format=\"%(asctime)s - %(levelname)s - %(message)s\"\n",
        ")\n",
        "\n",
        "def safe_divide(a, b):\n",
        "    try:\n",
        "        return a / b\n",
        "    except ZeroDivisionError as e:\n",
        "        logging.error(\"Division by zero attempted. a=%s, b=%s\", a, b)\n",
        "        print(\"Error: Division by zero. Please check error.log for details.\")\n",
        "        return None\n",
        "\n",
        "# Example usage\n",
        "result = safe_divide(10, 0)\n",
        "print(\"Result:\", result)\n"
      ],
      "metadata": {
        "id": "4JQa32Jp_Hjv",
        "colab": {
          "base_uri": "https://localhost:8080/"
        },
        "outputId": "ed8b89be-c93b-4992-de18-67763ed7e96f"
      },
      "execution_count": null,
      "outputs": [
        {
          "output_type": "stream",
          "name": "stderr",
          "text": [
            "ERROR:root:Division by zero attempted. a=10, b=0\n"
          ]
        },
        {
          "output_type": "stream",
          "name": "stdout",
          "text": [
            "Error: Division by zero. Please check error.log for details.\n",
            "Result: None\n"
          ]
        }
      ]
    },
    {
      "cell_type": "markdown",
      "source": [
        "Ques 7. How do you log information at different levels (INFO, ERROR, WARNING) in Python using the logging module\n"
      ],
      "metadata": {
        "id": "RBRYuxRC8MQD"
      }
    },
    {
      "cell_type": "code",
      "source": [
        "import logging\n",
        "\n",
        "# Configure logging (optional, but good practice)\n",
        "logging.basicConfig(level=logging.DEBUG) # Set the root logger level to DEBUG\n",
        "\n",
        "# Log messages at different levels\n",
        "logging.debug('This is a debug message (useful for developers)')\n",
        "logging.info('This is an informational message (program progress)')\n",
        "logging.warning('This is a warning message (something unexpected happened)')\n",
        "logging.error('This is an error message (a problem occurred)')\n",
        "logging.critical('This is a critical message (serious error, needs attention)')"
      ],
      "metadata": {
        "id": "8XUtQJDx_GzT",
        "colab": {
          "base_uri": "https://localhost:8080/"
        },
        "outputId": "66a478af-e60c-470a-f40b-701c588be541"
      },
      "execution_count": 31,
      "outputs": [
        {
          "output_type": "stream",
          "name": "stderr",
          "text": [
            "WARNING:root:This is a warning message (something unexpected happened)\n",
            "ERROR:root:This is an error message (a problem occurred)\n",
            "CRITICAL:root:This is a critical message (serious error, needs attention)\n"
          ]
        }
      ]
    },
    {
      "cell_type": "markdown",
      "source": [
        "Ques 8. Write a program to handle a file opening error using exception handling\n"
      ],
      "metadata": {
        "id": "J_wEjS218NuE"
      }
    },
    {
      "cell_type": "code",
      "source": [
        "filename = \"myfile.txt\"\n",
        "\n",
        "try:\n",
        "    # Try to open the file in read mode\n",
        "    with open(filename, \"r\") as file:\n",
        "        content = file.read()\n",
        "        print(\"File contents:\\n\", content)\n",
        "\n",
        "except FileNotFoundError:\n",
        "    print(f\"Error: The file '{filename}' was not found.\")\n",
        "except PermissionError:\n",
        "    print(f\"Error: You don’t have permission to access '{filename}'.\")\n",
        "except Exception as e:\n",
        "    print(f\"An unexpected error occurred: {e}\")\n"
      ],
      "metadata": {
        "id": "djyq5Z24_GII",
        "colab": {
          "base_uri": "https://localhost:8080/"
        },
        "outputId": "b0be12d3-a516-451f-d90c-74748373aef1"
      },
      "execution_count": 32,
      "outputs": [
        {
          "output_type": "stream",
          "name": "stdout",
          "text": [
            "Error: The file 'myfile.txt' was not found.\n"
          ]
        }
      ]
    },
    {
      "cell_type": "markdown",
      "source": [
        "Ques 9. How can you read a file line by line and store its content in a list in Python\n"
      ],
      "metadata": {
        "id": "innBWTay8PhY"
      }
    },
    {
      "cell_type": "code",
      "source": [
        "# Method 1: Using readlines()\n",
        "with open(\"example.txt\", \"r\") as file:\n",
        "    lines = file.readlines()   # Reads all lines into a list\n",
        "    lines = [line.strip() for line in lines]  # Remove \\n from each line\n",
        "\n",
        "print(lines)\n"
      ],
      "metadata": {
        "id": "P9CiWTmS_FeR",
        "colab": {
          "base_uri": "https://localhost:8080/"
        },
        "outputId": "a27cc2c5-5e10-48da-b989-40c257b594d1"
      },
      "execution_count": 46,
      "outputs": [
        {
          "output_type": "stream",
          "name": "stdout",
          "text": [
            "['Python is powerful', 'File handling is easy']\n"
          ]
        }
      ]
    },
    {
      "cell_type": "code",
      "source": [
        "# Method 2: Using a loop\n",
        "lines = []\n",
        "with open(\"example.txt\", \"r\") as file:\n",
        "    for line in file:\n",
        "        lines.append(line.strip())   # strip() removes \\n\n",
        "\n",
        "print(lines)\n"
      ],
      "metadata": {
        "colab": {
          "base_uri": "https://localhost:8080/"
        },
        "id": "SVRsd8dcMG0P",
        "outputId": "a027bf58-28b3-4c8b-d482-ea6eedf27aca"
      },
      "execution_count": 47,
      "outputs": [
        {
          "output_type": "stream",
          "name": "stdout",
          "text": [
            "['Python is powerful', 'File handling is easy']\n"
          ]
        }
      ]
    },
    {
      "cell_type": "code",
      "source": [
        "# Method 3: Using list comprehension (short and clean)\n",
        "with open(\"example.txt\", \"r\") as file:\n",
        "    lines = [line.strip() for line in file]\n",
        "\n",
        "print(lines)\n"
      ],
      "metadata": {
        "colab": {
          "base_uri": "https://localhost:8080/"
        },
        "id": "DKg_HHJTMZpj",
        "outputId": "368de84d-7747-4503-a323-558df54a6642"
      },
      "execution_count": 48,
      "outputs": [
        {
          "output_type": "stream",
          "name": "stdout",
          "text": [
            "['Python is powerful', 'File handling is easy']\n"
          ]
        }
      ]
    },
    {
      "cell_type": "markdown",
      "source": [
        "Ques 10. How can you append data to an existing file in Python\n"
      ],
      "metadata": {
        "id": "yi7QWHcR8RO-"
      }
    },
    {
      "cell_type": "code",
      "source": [
        "with open(\"example.txt\", \"a\") as file:\n",
        "  file.write(\"This line is appended to the file\\n\")"
      ],
      "metadata": {
        "id": "xnlAR4C4_FG3"
      },
      "execution_count": 49,
      "outputs": []
    },
    {
      "cell_type": "markdown",
      "source": [
        "Ques 11. Write a Python program that uses a try-except block to handle an error when attempting to access a dictionary key that doesn't exist\n"
      ],
      "metadata": {
        "id": "EBHkSoUt8Ss3"
      }
    },
    {
      "cell_type": "code",
      "source": [
        "d = {\"name\": \"Ankita\", \"Class\": \"Data Science\"}\n",
        "d[\"age\"]\n"
      ],
      "metadata": {
        "id": "5WbThkZJ_Evi",
        "colab": {
          "base_uri": "https://localhost:8080/",
          "height": 158
        },
        "outputId": "579f1211-e263-4a2d-8e4b-0c3440544a26"
      },
      "execution_count": 51,
      "outputs": [
        {
          "output_type": "error",
          "ename": "KeyError",
          "evalue": "'age'",
          "traceback": [
            "\u001b[0;31m---------------------------------------------------------------------------\u001b[0m",
            "\u001b[0;31mKeyError\u001b[0m                                  Traceback (most recent call last)",
            "\u001b[0;32m/tmp/ipython-input-1252704797.py\u001b[0m in \u001b[0;36m<cell line: 0>\u001b[0;34m()\u001b[0m\n\u001b[1;32m      1\u001b[0m \u001b[0md\u001b[0m \u001b[0;34m=\u001b[0m \u001b[0;34m{\u001b[0m\u001b[0;34m\"name\"\u001b[0m\u001b[0;34m:\u001b[0m \u001b[0;34m\"Ankita\"\u001b[0m\u001b[0;34m,\u001b[0m \u001b[0;34m\"Class\"\u001b[0m\u001b[0;34m:\u001b[0m \u001b[0;34m\"Data Science\"\u001b[0m\u001b[0;34m}\u001b[0m\u001b[0;34m\u001b[0m\u001b[0;34m\u001b[0m\u001b[0m\n\u001b[0;32m----> 2\u001b[0;31m \u001b[0md\u001b[0m\u001b[0;34m[\u001b[0m\u001b[0;34m\"age\"\u001b[0m\u001b[0;34m]\u001b[0m\u001b[0;34m\u001b[0m\u001b[0;34m\u001b[0m\u001b[0m\n\u001b[0m",
            "\u001b[0;31mKeyError\u001b[0m: 'age'"
          ]
        }
      ]
    },
    {
      "cell_type": "code",
      "source": [
        "try:\n",
        "  d[\"age\"]\n",
        "except KeyError as e:\n",
        "  print(\"Key not found in dictionary\", e)"
      ],
      "metadata": {
        "colab": {
          "base_uri": "https://localhost:8080/"
        },
        "id": "9T13zZS3Ni80",
        "outputId": "4f061bc3-97ce-43ce-8804-fb7b6cdefcd4"
      },
      "execution_count": 52,
      "outputs": [
        {
          "output_type": "stream",
          "name": "stdout",
          "text": [
            "Key not found in dictionary 'age'\n"
          ]
        }
      ]
    },
    {
      "cell_type": "markdown",
      "source": [
        "Ques 12. Write a program that demonstrates using multiple except blocks to handle different types of exceptions\n"
      ],
      "metadata": {
        "id": "jd6lEsbx8UIH"
      }
    },
    {
      "cell_type": "code",
      "source": [
        "try:\n",
        "    10/0\n",
        "\n",
        "except ZeroDivisionError as e:\n",
        "    print(\"Error: Cannot divide by zero.\", e)\n",
        "except ValueError as e:\n",
        "    print(\"Error: Invalid input. Please enter numbers only.\", e)\n",
        "except FileNotFoundError as e:\n",
        "    print(\"Error: File not found (example handling another exception).\", e)\n",
        "except Exception as e:\n",
        "    print(f\"An unexpected error occurred: {e}\")\n"
      ],
      "metadata": {
        "id": "QrDihhEg_EPq",
        "colab": {
          "base_uri": "https://localhost:8080/"
        },
        "outputId": "c22cc298-7945-42fb-b35a-cbbfe9f97d0b"
      },
      "execution_count": 54,
      "outputs": [
        {
          "output_type": "stream",
          "name": "stdout",
          "text": [
            "Error: Cannot divide by zero. division by zero\n"
          ]
        }
      ]
    },
    {
      "cell_type": "markdown",
      "source": [
        "Ques 13. How would you check if a file exists before attempting to read it in Python"
      ],
      "metadata": {
        "id": "H_9DXBRf8Vi1"
      }
    },
    {
      "cell_type": "code",
      "source": [
        "# Method 1: Using os.path.exists()import os\n",
        "import os\n",
        "\n",
        "filename = \"example.txt\"\n",
        "\n",
        "if os.path.exists(filename):\n",
        "    with open(filename, \"r\") as file:\n",
        "        print(file.read())\n",
        "else:\n",
        "    print(f\"Error: The file '{filename}' does not exist.\")\n"
      ],
      "metadata": {
        "id": "rJXAHCZo_Dgu",
        "colab": {
          "base_uri": "https://localhost:8080/"
        },
        "outputId": "95324303-9f04-48ae-9e13-ad8ca54d4cec"
      },
      "execution_count": 58,
      "outputs": [
        {
          "output_type": "stream",
          "name": "stdout",
          "text": [
            "Python is powerful\n",
            "File handling is easy\n",
            "This line is appended to the file\n",
            "\n"
          ]
        }
      ]
    },
    {
      "cell_type": "code",
      "source": [
        "# Method 2: Using pathlib.Path\n",
        "from pathlib import Path\n",
        "\n",
        "filename = Path(\"example.txt\")\n",
        "\n",
        "if filename.exists():\n",
        "    with filename.open(\"r\") as file:\n",
        "        print(file.read())\n",
        "else:\n",
        "    print(f\"Error: The file '{filename}' does not exist.\")\n"
      ],
      "metadata": {
        "colab": {
          "base_uri": "https://localhost:8080/"
        },
        "id": "xhwaNnaCOWH3",
        "outputId": "b584d525-0d69-43c3-a8eb-78ce93601b6e"
      },
      "execution_count": 57,
      "outputs": [
        {
          "output_type": "stream",
          "name": "stdout",
          "text": [
            "Python is powerful\n",
            "File handling is easy\n",
            "This line is appended to the file\n",
            "\n"
          ]
        }
      ]
    },
    {
      "cell_type": "code",
      "source": [
        "# Method 3: Try–Except (common in real projects)\n",
        "filename = \"example.txt\"\n",
        "\n",
        "try:\n",
        "    with open(filename, \"r\") as file:\n",
        "        print(file.read())\n",
        "except FileNotFoundError:\n",
        "    print(f\"Error: The file '{filename}' does not exist.\")\n"
      ],
      "metadata": {
        "colab": {
          "base_uri": "https://localhost:8080/"
        },
        "id": "64p8saZlOaYV",
        "outputId": "5b21c0c0-35ca-4d38-9456-1d717c8b0e4c"
      },
      "execution_count": 55,
      "outputs": [
        {
          "output_type": "stream",
          "name": "stdout",
          "text": [
            "Python is powerful\n",
            "File handling is easy\n",
            "This line is appended to the file\n",
            "\n"
          ]
        }
      ]
    },
    {
      "cell_type": "markdown",
      "source": [
        "Ques 14. Write a program that uses the logging module to log both informational and error messages\n"
      ],
      "metadata": {
        "id": "pL5CgesH8W-q"
      }
    },
    {
      "cell_type": "code",
      "source": [
        "import logging\n",
        "\n",
        "# Configure logging\n",
        "logging.basicConfig(\n",
        "    filename=\"app.log\",             # Log file name\n",
        "    level=logging.DEBUG,            # Capture DEBUG and above\n",
        "    format=\"%(asctime)s - %(levelname)s - %(message)s\"\n",
        ")\n",
        "\n",
        "def divide(a, b):\n",
        "    try:\n",
        "        result = a / b\n",
        "        logging.info(\"Division successful: %s / %s = %s\", a, b, result)\n",
        "        return result\n",
        "    except ZeroDivisionError:\n",
        "        logging.error(\"Division by zero error: attempted %s / %s\", a, b)\n",
        "        return None\n",
        "\n",
        "# Example usage\n",
        "print(\"Result:\", divide(10, 2))   # Logs INFO\n",
        "print(\"Result:\", divide(5, 0))    # Logs ERROR\n"
      ],
      "metadata": {
        "id": "f4__30UE_Cjh",
        "colab": {
          "base_uri": "https://localhost:8080/"
        },
        "outputId": "2223b7ea-448c-458f-9bfd-ebabc3543507"
      },
      "execution_count": 59,
      "outputs": [
        {
          "output_type": "stream",
          "name": "stderr",
          "text": [
            "ERROR:root:Division by zero error: attempted 5 / 0\n"
          ]
        },
        {
          "output_type": "stream",
          "name": "stdout",
          "text": [
            "Result: 5.0\n",
            "Result: None\n"
          ]
        }
      ]
    },
    {
      "cell_type": "markdown",
      "source": [
        "Ques 15. Write a Python program that prints the content of a file and handles the case when the file is empty Demonstrate\n"
      ],
      "metadata": {
        "id": "MS-BC0_F8Zex"
      }
    },
    {
      "cell_type": "code",
      "source": [
        "import os\n",
        "\n",
        "filename = \"example.txt\"\n",
        "\n",
        "try:\n",
        "    # Check if file exists\n",
        "    if not os.path.exists(filename):\n",
        "        print(f\"Error: The file '{filename}' does not exist.\")\n",
        "    else:\n",
        "        # Open file and read content\n",
        "        with open(filename, \"r\") as file:\n",
        "            content = file.read()\n",
        "\n",
        "            if content.strip() == \"\":   # Empty or only whitespace\n",
        "                print(f\"The file '{filename}' is empty.\")\n",
        "            else:\n",
        "                print(\"File contents:\\n\")\n",
        "                print(content)\n",
        "\n",
        "except Exception as e:\n",
        "    print(f\"An error occurred: {e}\")\n"
      ],
      "metadata": {
        "id": "EcLqfBM2_CJs",
        "colab": {
          "base_uri": "https://localhost:8080/"
        },
        "outputId": "16946536-7a79-4d49-e792-7c0bb5f4ed7e"
      },
      "execution_count": 60,
      "outputs": [
        {
          "output_type": "stream",
          "name": "stdout",
          "text": [
            "File contents:\n",
            "\n",
            "Python is powerful\n",
            "File handling is easy\n",
            "This line is appended to the file\n",
            "\n"
          ]
        }
      ]
    },
    {
      "cell_type": "markdown",
      "source": [
        "Ques 16. how to use memory profiling to check the memory usage of a small program\n"
      ],
      "metadata": {
        "id": "spa4JNej8bPx"
      }
    },
    {
      "cell_type": "code",
      "source": [
        "\n",
        "import tracemalloc\n",
        "\n",
        "tracemalloc.start()  # Start tracing memory\n",
        "\n",
        "# Example code\n",
        "nums = [i for i in range(100000)]\n",
        "print(\"List created.\")\n",
        "\n",
        "# Show memory usage\n",
        "current, peak = tracemalloc.get_traced_memory()\n",
        "print(f\"Current memory usage: {current / 1024:.2f} KB\")\n",
        "print(f\"Peak memory usage: {peak / 1024:.2f} KB\")\n",
        "\n",
        "tracemalloc.stop()\n"
      ],
      "metadata": {
        "id": "BWb1hSjS_Brn",
        "colab": {
          "base_uri": "https://localhost:8080/"
        },
        "outputId": "7307c10a-8dc3-4ea2-c00c-a7980e7fbd7a"
      },
      "execution_count": 64,
      "outputs": [
        {
          "output_type": "stream",
          "name": "stdout",
          "text": [
            "List created.\n",
            "Current memory usage: 3900.46 KB\n",
            "Peak memory usage: 3918.52 KB\n"
          ]
        }
      ]
    },
    {
      "cell_type": "markdown",
      "source": [
        "Ques 17. Write a Python program to create and write a list of numbers to a file, one number per line\n"
      ],
      "metadata": {
        "id": "x6zNI9cL8cyD"
      }
    },
    {
      "cell_type": "code",
      "source": [
        "# Define the list of numbers\n",
        "numbers = [10, 20, 30, 40, 50]\n",
        "\n",
        "# Open the file in write mode\n",
        "with open(\"numbers.txt\", \"w\") as file:\n",
        "    for num in numbers:\n",
        "        file.write(str(num) + \"\\n\")  # Convert number to string and add newline\n",
        "\n",
        "print(\"Numbers have been written to numbers.txt\")\n"
      ],
      "metadata": {
        "id": "tQDhpr7G_A4G",
        "colab": {
          "base_uri": "https://localhost:8080/"
        },
        "outputId": "9a6b27f6-d4bf-4d2a-fb3f-39770159ef68"
      },
      "execution_count": 65,
      "outputs": [
        {
          "output_type": "stream",
          "name": "stdout",
          "text": [
            "Numbers have been written to numbers.txt\n"
          ]
        }
      ]
    },
    {
      "cell_type": "markdown",
      "source": [
        "Ques 18. How would you implement a basic logging setup that logs to a file with rotation after 1MB\n"
      ],
      "metadata": {
        "id": "OdnRYp9b8euD"
      }
    },
    {
      "cell_type": "code",
      "source": [
        "import logging\n",
        "from logging.handlers import RotatingFileHandler\n",
        "\n",
        "# Configure logger\n",
        "logger = logging.getLogger(\"MyLogger\")\n",
        "logger.setLevel(logging.DEBUG)  # Capture all log levels\n",
        "\n",
        "# Create a rotating file handler\n",
        "handler = RotatingFileHandler(\n",
        "    \"app.log\",        # Log file name\n",
        "    maxBytes=1_000_000,  # Rotate after 1 MB\n",
        "    backupCount=3       # Keep last 3 rotated log files\n",
        ")\n",
        "\n",
        "# Set log format\n",
        "formatter = logging.Formatter(\"%(asctime)s - %(levelname)s - %(message)s\")\n",
        "handler.setFormatter(formatter)\n",
        "\n",
        "# Add handler to logger\n",
        "logger.addHandler(handler)\n",
        "\n",
        "# Example logging\n",
        "for i in range(10000):\n",
        "    logger.info(\"Logging entry number %d\", i)"
      ],
      "metadata": {
        "id": "yHkTt8WfRL78"
      },
      "execution_count": null,
      "outputs": []
    },
    {
      "cell_type": "markdown",
      "source": [
        "Ques 19. Write a program that handles both IndexError and KeyError using a try-except block\n"
      ],
      "metadata": {
        "id": "upD71ANm8gRS"
      }
    },
    {
      "cell_type": "code",
      "source": [
        "data_list = [10, 20, 30]\n",
        "data_dict = {\"a\": 1, \"b\": 2}\n",
        "\n",
        "try:\n",
        "    # Attempt to access a non-existent list index\n",
        "    print(\"List item:\", data_list[5])\n",
        "\n",
        "    # Attempt to access a non-existent dictionary key\n",
        "    print(\"Dict value:\", data_dict[\"z\"])\n",
        "\n",
        "except IndexError as e:\n",
        "    print(\"Error: Tried to access a list index that does not exist.\", e)\n",
        "except KeyError as e:\n",
        "    print(\"Error: Tried to access a dictionary key that does not exist.\", e)\n",
        "except Exception as e:\n",
        "    print(f\"An unexpected error occurred: {e}\")\n"
      ],
      "metadata": {
        "id": "d18MDBL3-_uA",
        "colab": {
          "base_uri": "https://localhost:8080/"
        },
        "outputId": "3700ee1f-726e-49da-877b-0f392c53b3a4"
      },
      "execution_count": 68,
      "outputs": [
        {
          "output_type": "stream",
          "name": "stdout",
          "text": [
            "Error: Tried to access a list index that does not exist. list index out of range\n"
          ]
        }
      ]
    },
    {
      "cell_type": "markdown",
      "source": [
        "Ques 20. How would you open a file and read its contents using a context manager in Python\n"
      ],
      "metadata": {
        "id": "EUIuQyPN8hza"
      }
    },
    {
      "cell_type": "code",
      "source": [
        "# Example: Read entire file at once\n",
        "filename = \"example.txt\"\n",
        "\n",
        "with open(filename, \"r\") as file:   # 'r' mode for reading\n",
        "    content = file.read()           # Read entire file into a string\n",
        "\n",
        "print(content)\n"
      ],
      "metadata": {
        "id": "M1BGELuH--9d",
        "colab": {
          "base_uri": "https://localhost:8080/"
        },
        "outputId": "bc3ecf30-87c7-4f39-98ab-d3526c302778"
      },
      "execution_count": 69,
      "outputs": [
        {
          "output_type": "stream",
          "name": "stdout",
          "text": [
            "Python is powerful\n",
            "File handling is easy\n",
            "This line is appended to the file\n",
            "\n"
          ]
        }
      ]
    },
    {
      "cell_type": "code",
      "source": [
        "# Example: Read file line by linefilename = \"example.txt\"\n",
        "\n",
        "with open(filename, \"r\") as file:\n",
        "    for line in file:\n",
        "        print(line.strip())  # strip() removes the newline character\n"
      ],
      "metadata": {
        "id": "NKw1qF6ZRwC6",
        "outputId": "36000cf8-f3fb-45bb-ac5e-4727db71f5df",
        "colab": {
          "base_uri": "https://localhost:8080/"
        }
      },
      "execution_count": 70,
      "outputs": [
        {
          "output_type": "stream",
          "name": "stdout",
          "text": [
            "Python is powerful\n",
            "File handling is easy\n",
            "This line is appended to the file\n"
          ]
        }
      ]
    },
    {
      "cell_type": "markdown",
      "source": [
        "Ques 21. Write a Python program that reads a file and prints the number of occurrences of a specific word\n"
      ],
      "metadata": {
        "id": "3OUCiiNJ8oHm"
      }
    },
    {
      "cell_type": "code",
      "source": [
        "filename = \"example.txt\"\n",
        "word_to_count = \"Python\"\n",
        "\n",
        "try:\n",
        "    with open(filename, \"r\") as file:\n",
        "        content = file.read()\n",
        "        # Convert content to lowercase and split into words for accurate counting\n",
        "        words = content.split()\n",
        "        count = words.count(word_to_count)\n",
        "\n",
        "    print(f\"The word '{word_to_count}' occurs {count} time(s) in the file.\")\n",
        "\n",
        "except FileNotFoundError:\n",
        "    print(f\"Error: The file '{filename}' does not exist.\")\n"
      ],
      "metadata": {
        "id": "rYiPoP3Z--gI",
        "colab": {
          "base_uri": "https://localhost:8080/"
        },
        "outputId": "b0b83953-0108-4c82-8fae-6aca1e8f5f36"
      },
      "execution_count": 71,
      "outputs": [
        {
          "output_type": "stream",
          "name": "stdout",
          "text": [
            "The word 'Python' occurs 1 time(s) in the file.\n"
          ]
        }
      ]
    },
    {
      "cell_type": "markdown",
      "source": [
        "Ques 22. How can you check if a file is empty before attempting to read its contents"
      ],
      "metadata": {
        "id": "qZYwfIQ08pWU"
      }
    },
    {
      "cell_type": "code",
      "source": [
        "# Method 1: Using os.path.getsize()\n",
        "import os\n",
        "\n",
        "filename = \"example.txt\"\n",
        "\n",
        "if os.path.exists(filename) and os.path.getsize(filename) > 0:\n",
        "    with open(filename, \"r\") as file:\n",
        "        content = file.read()\n",
        "        print(\"File contents:\\n\", content)\n",
        "else:\n",
        "    print(f\"The file '{filename}' is empty or does not exist.\")\n"
      ],
      "metadata": {
        "id": "i9KsZ3cI-91b",
        "colab": {
          "base_uri": "https://localhost:8080/"
        },
        "outputId": "780f7322-b723-45ff-e301-38d1f0430c46"
      },
      "execution_count": 72,
      "outputs": [
        {
          "output_type": "stream",
          "name": "stdout",
          "text": [
            "File contents:\n",
            " Python is powerful\n",
            "File handling is easy\n",
            "This line is appended to the file\n",
            "\n"
          ]
        }
      ]
    },
    {
      "cell_type": "code",
      "source": [
        "# Method 2: Reading and checking immediately\n",
        "filename = \"example.txt\"\n",
        "\n",
        "try:\n",
        "    with open(filename, \"r\") as file:\n",
        "        content = file.read()\n",
        "        if content.strip() == \"\":\n",
        "            print(f\"The file '{filename}' is empty.\")\n",
        "        else:\n",
        "            print(\"File contents:\\n\", content)\n",
        "except FileNotFoundError:\n",
        "    print(f\"Error: The file '{filename}' does not exist.\")\n"
      ],
      "metadata": {
        "id": "-2vwjz2ISZnr",
        "outputId": "d3487971-1c0b-4d96-e23a-79dd1c1c65c1",
        "colab": {
          "base_uri": "https://localhost:8080/"
        }
      },
      "execution_count": 73,
      "outputs": [
        {
          "output_type": "stream",
          "name": "stdout",
          "text": [
            "File contents:\n",
            " Python is powerful\n",
            "File handling is easy\n",
            "This line is appended to the file\n",
            "\n"
          ]
        }
      ]
    },
    {
      "cell_type": "markdown",
      "source": [
        "Ques 23. Write a Python program that writes to a log file when an error occurs during file handling"
      ],
      "metadata": {
        "id": "QNMKMHUU8rOI"
      }
    },
    {
      "cell_type": "code",
      "source": [
        "import logging\n",
        "\n",
        "# Configure logging\n",
        "logging.basicConfig(\n",
        "    filename=\"file_errors.log\",      # Log file\n",
        "    level=logging.ERROR,             # Log only errors\n",
        "    format=\"%(asctime)s - %(levelname)s - %(message)s\"\n",
        ")\n",
        "\n",
        "filename = \"example.txt\"\n",
        "\n",
        "try:\n",
        "    # Try to open the file in read mode\n",
        "    with open(filename, \"r\") as file:\n",
        "        content = file.read()\n",
        "        print(\"File contents:\\n\", content)\n",
        "\n",
        "except FileNotFoundError as e:\n",
        "    logging.error(\"File not found: %s\", filename)\n",
        "    print(f\"Error: The file '{filename}' was not found. Check log for details.\")\n",
        "\n",
        "except PermissionError as e:\n",
        "    logging.error(\"Permission denied for file: %s\", filename)\n",
        "    print(f\"Error: Permission denied for '{filename}'. Check log for details.\")\n",
        "\n",
        "except Exception as e:\n",
        "    logging.error(\"An unexpected error occurred: %s\", e)\n",
        "    print(\"An unexpected error occurred. Check log for details.\")\n"
      ],
      "metadata": {
        "id": "04HwhD6z-9aj",
        "colab": {
          "base_uri": "https://localhost:8080/"
        },
        "outputId": "c02ca097-880b-4d7d-c35d-1e8bfb72515d"
      },
      "execution_count": 74,
      "outputs": [
        {
          "output_type": "stream",
          "name": "stdout",
          "text": [
            "File contents:\n",
            " Python is powerful\n",
            "File handling is easy\n",
            "This line is appended to the file\n",
            "\n"
          ]
        }
      ]
    }
  ]
}