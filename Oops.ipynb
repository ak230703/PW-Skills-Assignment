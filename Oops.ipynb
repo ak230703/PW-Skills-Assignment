{
  "nbformat": 4,
  "nbformat_minor": 0,
  "metadata": {
    "colab": {
      "provenance": []
    },
    "kernelspec": {
      "name": "python3",
      "display_name": "Python 3"
    },
    "language_info": {
      "name": "python"
    }
  },
  "cells": [
    {
      "cell_type": "markdown",
      "source": [
        "# **Theory Question**"
      ],
      "metadata": {
        "id": "kr0pwB1Jy4tx"
      }
    },
    {
      "cell_type": "markdown",
      "source": [
        "# Ques 1. What is Object-Oriented Programming (OOP)\n",
        "   - **Object-Oriented Programming (OOP)** is a programming paradigm based on objects, which combine data (attributes) and behavior (methods).\n",
        "\n",
        "Key principles:\n",
        "\n",
        "1. Encapsulation – Hiding data and controlling access.\n",
        "\n",
        "2. Inheritance – Reusing code by deriving new classes from existing ones.\n",
        "\n",
        "3. Polymorphism – Same method, different behavior.\n",
        "\n",
        "4. Abstraction – Showing only essential details."
      ],
      "metadata": {
        "id": "A3UfLBzkzCxu"
      }
    },
    {
      "cell_type": "markdown",
      "source": [
        "# Ques 2. What is a class in OOP\n",
        "  - A class is a blueprint, template, or prototype in Object-Oriented Programming (OOP) that defines how objects of that class will look and behave.\n",
        "\n",
        "It contains:\n",
        "\n",
        "1. Attributes (data members) → variables that hold data about the object.\n",
        "\n",
        "2. Methods (member functions) → functions that define the behavior of the object.\n",
        "\n",
        "Objects are created from classes, just like houses are built from a blueprint.\n",
        "\n",
        "It helps in code reusability, modularity, and better organization."
      ],
      "metadata": {
        "id": "uhknfLt80AnV"
      }
    },
    {
      "cell_type": "markdown",
      "source": [
        "# Ques 3. What is an object in OOP\n",
        "   - An object is an instance of a class.\n",
        "It represents a real-world entity and has state (attributes/data) and behavior (methods/functions) defined by its class.\n",
        "\n",
        "If a class is a blueprint, an object is the actual thing built from it.\n",
        "\n",
        "- Characteristics of an Object:\n",
        "\n",
        "1. Identity → A unique name or reference in memory.\n",
        "\n",
        "2. State → The data stored in attributes (e.g., color, price).\n",
        "\n",
        "3. Behavior → The actions it can perform via methods (e.g., drive, stop)."
      ],
      "metadata": {
        "id": "LCEt9lhj0IRD"
      }
    },
    {
      "cell_type": "markdown",
      "source": [
        "# Ques 4. What is the difference between abstraction and encapsulation\n",
        "  - Abstraction vs Encapsulation in OOP\n",
        "1. **Abstraction**\n",
        "\n",
        "Definition: Hiding the implementation details and showing only the essential features of an object.\n",
        "\n",
        "Purpose: Focuses on what an object does, not how it does it.\n",
        "\n",
        "**Achieved by:**\n",
        "\n",
        "-Abstract classes (in Java, Python with abc)\n",
        "\n",
        "-Interfaces\n",
        "\n",
        "**Example:**\n",
        "When you drive a car, you just press the accelerator (what it does) without knowing the internal combustion process (how it works).\n",
        "\n",
        "2. **Encapsulation**\n",
        "\n",
        "Definition: Binding data (attributes) and methods (functions) into a single unit (class), and controlling access to them.\n",
        "\n",
        "Purpose: Protects data, improves security, prevents unauthorized access.\n",
        "\n",
        "- **Achieved by:**\n",
        "\n",
        "1. Classes\n",
        "\n",
        "2. Access modifiers (private, protected, public)\n",
        "\n",
        "**Example:**\n",
        "In a BankAccount class, the balance is kept private and can only be changed via methods (deposit, withdraw) instead of direct access."
      ],
      "metadata": {
        "id": "E9zvFwoq0JMx"
      }
    },
    {
      "cell_type": "markdown",
      "source": [
        "# Ques 5. What are dunder methods in Python\n",
        "  - Dunder Methods in Python\n",
        "\n",
        "**Dunder methods **(short for Double UNDERscore) are special built-in methods in Python that start and end with double underscores (__method__).\n",
        "\n",
        "They are also called magic methods.\n",
        "\n",
        "Used to customize object behavior (like how objects are created, represented, or interact with operators).\n",
        "\n"
      ],
      "metadata": {
        "id": "dZR-HvId0JxL"
      }
    },
    {
      "cell_type": "code",
      "source": [
        "#  Examples of Dunder Methods\n",
        "\n",
        "# __init__\tConstructor, initializes objects\n",
        "# __str__\tString representation (used by print())\n",
        "# __repr__\tOfficial representation of object\n",
        "# __len__\tDefines behavior of len()\n",
        "# __add__\tOperator overloading for +\n",
        "# __sub__\tOperator overloading for -\n",
        "# __eq__\tEquality check ==\n",
        "# __lt__\tLess than <\n",
        "# __del__\tDestructor, called when object is deleted\n",
        "\n",
        "# Example 1: Using __str__ and __add__\n",
        "class Vector:\n",
        "    def __init__(self, x, y):\n",
        "        self.x = x\n",
        "        self.y = y\n",
        "\n",
        "    def __str__(self):  # called by print()\n",
        "        return f\"Vector({self.x}, {self.y})\"\n",
        "\n",
        "    def __add__(self, other):  # + operator\n",
        "        return Vector(self.x + other.x, self.y + other.y)\n",
        "\n",
        "v1 = Vector(2, 3)\n",
        "v2 = Vector(4, 5)\n",
        "\n",
        "print(v1)        # Vector(2, 3) → __str__ called\n",
        "print(v1 + v2)   # Vector(6, 8) → __add__ called\n"
      ],
      "metadata": {
        "colab": {
          "base_uri": "https://localhost:8080/"
        },
        "id": "nIhYx3KxBu89",
        "outputId": "5e2a2602-af36-4970-8e5a-9a86051639ca"
      },
      "execution_count": 37,
      "outputs": [
        {
          "output_type": "stream",
          "name": "stdout",
          "text": [
            "Vector(2, 3)\n",
            "Vector(6, 8)\n"
          ]
        }
      ]
    },
    {
      "cell_type": "markdown",
      "source": [
        "# Ques 6. Explain the concept of inheritance in OOP\n",
        "  - **Inheritance in OOP**\n",
        "\n",
        "**Definition:** Inheritance is a mechanism in Object-Oriented Programming that allows a class (child/derived class) to reuse the properties and methods of another class (parent/base class).\n",
        "\n",
        "**Purpose: **Promotes code reusability and creates a natural class hierarchy.\n",
        "\n",
        "**- Key Points**\n",
        "\n",
        "1. Parent/Base Class → The class whose members are inherited.\n",
        "\n",
        "2. Child/Derived Class → The class that inherits from the parent.\n",
        "\n",
        "3. A child can add new features or override parent features.\n",
        "\n",
        "4. Supports “IS-A” relationship (e.g., Dog IS-A Animal).\n",
        "\n",
        "\n",
        "- **Types of Inheritance**\n",
        "\n",
        "1. Single Inheritance – One child inherits from one parent.\n",
        "\n",
        "2. Multiple Inheritance – A class inherits from more than one parent (allowed in Python).\n",
        "\n",
        "3. Multilevel Inheritance – A child inherits from a parent, and another child inherits from that child.\n",
        "\n",
        "4. Hierarchical Inheritance – Multiple children inherit from a single parent.\n",
        "\n",
        "5. Hybrid Inheritance – Combination of different types."
      ],
      "metadata": {
        "id": "wFtQhpVD0KbB"
      }
    },
    {
      "cell_type": "markdown",
      "source": [
        "# Ques 7. What is polymorphism in OOP\n",
        "   -  **Polymorphism in OOP**\n",
        "\n",
        "**Definition:** Polymorphism means “many forms”.\n",
        "\n",
        "It allows the same method or operator to behave differently depending on the object or data type.\n",
        "\n",
        "**Purpose:** Makes code more flexible, reusable, and extensible.\n",
        "\n",
        "- **Types of Polymorphism**\n",
        "\n",
        "**Compile-time (Static Polymorphism)**\n",
        "\n",
        "- Achieved using method overloading (same method name, different parameters).\n",
        "\n",
        "- Not directly supported in Python, but can be simulated using default arguments.\n",
        "\n",
        "- Example: add(int, int) vs add(float, float) in Java.\n",
        "\n",
        "**Runtime (Dynamic Polymorphism)**\n",
        "\n",
        "- Achieved using method overriding (child class provides a specific implementation of a parent’s method).\n",
        "\n",
        "- Python supports this through inheritance."
      ],
      "metadata": {
        "id": "Ojh4wKvG0LBJ"
      }
    },
    {
      "cell_type": "code",
      "source": [
        "# Example of (Runtime Polymorphism)\n",
        "class Bird:\n",
        "    def fly(self):\n",
        "        print(\"Some birds can fly.\")\n",
        "\n",
        "class Sparrow(Bird):\n",
        "    def fly(self):\n",
        "        print(\"Sparrow flies high.\")\n",
        "\n",
        "class Penguin(Bird):\n",
        "    def fly(self):\n",
        "        print(\"Penguins cannot fly.\")\n",
        "\n",
        "# Polymorphism in action\n",
        "for bird in [Bird(), Sparrow(), Penguin()]:\n",
        "    bird.fly()\n"
      ],
      "metadata": {
        "colab": {
          "base_uri": "https://localhost:8080/"
        },
        "id": "65A3NB1R-A4y",
        "outputId": "0256fedd-ff44-4031-a590-11d80e697df6"
      },
      "execution_count": 33,
      "outputs": [
        {
          "output_type": "stream",
          "name": "stdout",
          "text": [
            "Some birds can fly.\n",
            "Sparrow flies high.\n",
            "Penguins cannot fly.\n"
          ]
        }
      ]
    },
    {
      "cell_type": "code",
      "source": [
        "# Operator Overloading (Another Form of Polymorphism in Python)\n",
        "class Vector:\n",
        "    def __init__(self, x, y):\n",
        "        self.x = x\n",
        "        self.y = y\n",
        "\n",
        "    def __add__(self, other):  # + operator overloading\n",
        "        return Vector(self.x + other.x, self.y + other.y)\n",
        "\n",
        "    def __str__(self):\n",
        "        return f\"Vector({self.x}, {self.y})\"\n",
        "\n",
        "v1 = Vector(2, 3)\n",
        "v2 = Vector(4, 5)\n",
        "print(v1 + v2)  # Vector(6, 8)\n"
      ],
      "metadata": {
        "colab": {
          "base_uri": "https://localhost:8080/"
        },
        "id": "7bGldPoH-WRb",
        "outputId": "9125bbc2-1069-41f9-fd4e-6fbfc36c1d14"
      },
      "execution_count": 32,
      "outputs": [
        {
          "output_type": "stream",
          "name": "stdout",
          "text": [
            "Vector(6, 8)\n"
          ]
        }
      ]
    },
    {
      "cell_type": "markdown",
      "source": [
        "# Ques 8. How is encapsulation achieved in Python\n",
        " - **Encapsulation** means binding data (attributes) and methods into a single unit (class) and restricting direct access to some data to protect it.\n",
        "\n",
        "In Python, encapsulation is achieved using:\n",
        "\n",
        "1. Public Members\n",
        "\n",
        "Accessible everywhere.\n",
        "\n",
        "By default, all attributes and methods are public.\n",
        "\n",
        "2. Protected Members\n",
        "\n",
        "Denoted with a single underscore _variable.\n",
        "\n",
        "Should not be accessed directly (but Python doesn’t strictly enforce it).\n",
        "\n",
        "Mostly a convention.\n",
        "\n",
        "3. Private Members\n",
        "\n",
        "Denoted with double underscore __variable.\n",
        "\n",
        "Python performs name mangling to make it hard to access directly.\n",
        "\n",
        "Accessible only inside the class via methods.\n"
      ],
      "metadata": {
        "id": "75QgARyc0Lxt"
      }
    },
    {
      "cell_type": "code",
      "source": [
        "# Public members\n",
        "class Student:\n",
        "    def __init__(self, name):\n",
        "        self.name = name   # public attribute\n",
        "\n",
        "s = Student(\"Ankita\")\n",
        "print(s.name)    #  Accessible\n",
        "\n",
        "# Protected Members\n",
        "class Student:\n",
        "    def __init__(self, name):\n",
        "        self._name = name   # protected attribute\n",
        "\n",
        "s = Student(\"Ankita\")\n",
        "print(s._name)   #  Accessible but discouraged\n",
        "\n",
        "# Private Members\n",
        "class BankAccount:\n",
        "    def __init__(self, balance):\n",
        "        self.__balance = balance   # private attribute\n",
        "\n",
        "    def deposit(self, amount):\n",
        "        self.__balance += amount\n",
        "\n",
        "    def get_balance(self):\n",
        "        return self.__balance\n",
        "\n",
        "account = BankAccount(1000)\n",
        "account.deposit(500)\n",
        "print(account.get_balance())   #  1500\n",
        "print(account.__balance)       #  AttributeError"
      ],
      "metadata": {
        "colab": {
          "base_uri": "https://localhost:8080/",
          "height": 228
        },
        "id": "dpPRT24R-wKr",
        "outputId": "7a360781-f7bd-47df-d9c7-1df616a6ae76"
      },
      "execution_count": 34,
      "outputs": [
        {
          "output_type": "stream",
          "name": "stdout",
          "text": [
            "Ankita\n",
            "Ankita\n",
            "1500\n"
          ]
        },
        {
          "output_type": "error",
          "ename": "AttributeError",
          "evalue": "'BankAccount' object has no attribute '__balance'",
          "traceback": [
            "\u001b[0;31m---------------------------------------------------------------------------\u001b[0m",
            "\u001b[0;31mAttributeError\u001b[0m                            Traceback (most recent call last)",
            "\u001b[0;32m/tmp/ipython-input-468257742.py\u001b[0m in \u001b[0;36m<cell line: 0>\u001b[0;34m()\u001b[0m\n\u001b[1;32m     27\u001b[0m \u001b[0maccount\u001b[0m\u001b[0;34m.\u001b[0m\u001b[0mdeposit\u001b[0m\u001b[0;34m(\u001b[0m\u001b[0;36m500\u001b[0m\u001b[0;34m)\u001b[0m\u001b[0;34m\u001b[0m\u001b[0;34m\u001b[0m\u001b[0m\n\u001b[1;32m     28\u001b[0m \u001b[0mprint\u001b[0m\u001b[0;34m(\u001b[0m\u001b[0maccount\u001b[0m\u001b[0;34m.\u001b[0m\u001b[0mget_balance\u001b[0m\u001b[0;34m(\u001b[0m\u001b[0;34m)\u001b[0m\u001b[0;34m)\u001b[0m   \u001b[0;31m#  1500\u001b[0m\u001b[0;34m\u001b[0m\u001b[0;34m\u001b[0m\u001b[0m\n\u001b[0;32m---> 29\u001b[0;31m \u001b[0mprint\u001b[0m\u001b[0;34m(\u001b[0m\u001b[0maccount\u001b[0m\u001b[0;34m.\u001b[0m\u001b[0m__balance\u001b[0m\u001b[0;34m)\u001b[0m       \u001b[0;31m#  AttributeError\u001b[0m\u001b[0;34m\u001b[0m\u001b[0;34m\u001b[0m\u001b[0m\n\u001b[0m",
            "\u001b[0;31mAttributeError\u001b[0m: 'BankAccount' object has no attribute '__balance'"
          ]
        }
      ]
    },
    {
      "cell_type": "markdown",
      "source": [
        "# Ques 9. What is a constructor in Python\n",
        "   - A constructor is a special method in Python used to initialize objects when a class is created.\n",
        "\n",
        "- In Python, the constructor method is always named __init__().\n",
        "\n",
        "- It runs automatically when you create an object.\n",
        "\n",
        "\n",
        "- **Types of Constructors in Python**\n",
        "\n",
        "1. **Default Constructor** → Has only self, no parameters.\n",
        "\n",
        "2. Parameterized Constructor → Accepts arguments to initialize attributes.\n",
        "\n",
        "> Add blockquote\n",
        "\n",
        "\n",
        "\n",
        "- **Syntax**\n",
        "\n",
        "class ClassName:\n",
        "\n",
        "    def __init__(self, parameters):\n",
        "        # initialization code\n"
      ],
      "metadata": {
        "id": "ahBen5l20j4r"
      }
    },
    {
      "cell_type": "markdown",
      "source": [
        "# Ques 10. What are class and static methods in Python\n",
        "\n",
        "  **Class Method in Python**\n",
        "\n",
        "- Defined using the @classmethod decorator.\n",
        "\n",
        "- Takes cls (class itself) as the first parameter instead of self.\n",
        "\n",
        "- Can access/modify class-level attributes but not instance attributes.\n",
        "\n",
        "\n",
        "**Static Method in Python**\n",
        "\n",
        "- Defined using the @staticmethod decorator.\n",
        "\n",
        "- Does not take self or cls as the first parameter.\n",
        "\n",
        "- Works like a normal function but inside a class for logical grouping.\n",
        "\n",
        "-Cannot access instance (self) or class (cls) attributes directly.\n",
        "\n",
        "\n",
        "\n",
        "\n"
      ],
      "metadata": {
        "id": "E4GKxNr_0pL-"
      }
    },
    {
      "cell_type": "code",
      "source": [
        "# Class Method Example\n",
        "class Student:\n",
        "    school = \"ABC School\"   # class attribute\n",
        "\n",
        "    def __init__(self, name):\n",
        "        self.name = name    # instance attribute\n",
        "\n",
        "    @classmethod\n",
        "    def get_school(cls):\n",
        "        return cls.school\n",
        "\n",
        "print(Student.get_school())   # ABC School\n",
        "\n",
        "\n",
        "# Static Method Example\n",
        "class Math:\n",
        "    @staticmethod\n",
        "    def add(a, b):\n",
        "        return a + b\n",
        "\n",
        "print(Math.add(5, 3))   #  8"
      ],
      "metadata": {
        "colab": {
          "base_uri": "https://localhost:8080/"
        },
        "id": "IyYErTEpDZG0",
        "outputId": "d0ee64b7-5096-43de-b1bd-a66162905299"
      },
      "execution_count": 39,
      "outputs": [
        {
          "output_type": "stream",
          "name": "stdout",
          "text": [
            "ABC School\n",
            "8\n"
          ]
        }
      ]
    },
    {
      "cell_type": "markdown",
      "source": [
        "# Ques 11. What is method overloading in Python\n",
        "  - **Method Overloading**\n",
        "\n",
        "**Definition:** Method overloading means having multiple methods with the same name but different parameters (number or type).\n",
        "\n",
        "Example in Java/C++:\n",
        "\n",
        "int add(int a, int b);\n",
        "\n",
        "double add(double a, double b);\n",
        "\n",
        "* **Does Python Support Method Overloading**\n",
        "\n",
        "- Strictly speaking → No.\n",
        "\n",
        "- Python does not allow two methods with the same name in a class; the latest definition overrides the previous one.\n",
        "\n",
        "* How to Achieve Overloading in Python\n",
        "\n",
        "Since Python is dynamically typed, we can simulate method overloading using:\n",
        "\n",
        "1. Default arguments\n",
        "\n",
        "2. Variable-length arguments (*args, **kwargs)"
      ],
      "metadata": {
        "id": "89-GIJC40rLS"
      }
    },
    {
      "cell_type": "code",
      "source": [
        "# Example\n",
        "class Math:\n",
        "    def add(self, *args):\n",
        "        return sum(args)\n",
        "\n",
        "m = Math()\n",
        "print(m.add(2, 3))           # 5\n",
        "print(m.add(1, 2, 3, 4, 5))  # 15\n"
      ],
      "metadata": {
        "id": "H8MzdkrEEhB1"
      },
      "execution_count": null,
      "outputs": []
    },
    {
      "cell_type": "markdown",
      "source": [
        "# Ques 12. What is method overriding in OOP\n",
        "  - **Method Overriding in OOP**\n",
        "\n",
        "1. Definition: Method overriding happens when a child class provides a specific implementation of a method that is already defined in its parent class.\n",
        "\n",
        "2. The method in the child class overrides (replaces) the one in the parent.\n",
        "\n",
        "3. Used to achieve runtime polymorphism.\n",
        "\n",
        "*  **Key Rules**\n",
        "\n",
        "1. The method name must be the same in both parent and child.\n",
        "\n",
        "2. The parameters should also be the same (in most languages).\n",
        "\n",
        "3. The child class method is called instead of the parent’s version when invoked on a child object."
      ],
      "metadata": {
        "id": "ZY33ZXtX0tDK"
      }
    },
    {
      "cell_type": "code",
      "source": [
        "\n",
        "# Example\n",
        "class Animal:\n",
        "    def speak(self):\n",
        "        print(\"Animals make sounds\")\n",
        "\n",
        "class Dog(Animal):\n",
        "    def speak(self):   # overriding\n",
        "        print(\"Bark!\")\n",
        "\n",
        "class Cat(Animal):\n",
        "    def speak(self):   # overriding\n",
        "        print(\"Meow!\")\n",
        "\n",
        "# Objects\n",
        "a = Animal()\n",
        "d = Dog()\n",
        "c = Cat()\n",
        "\n",
        "a.speak()   # Animals make sounds\n",
        "d.speak()   # Bark!\n",
        "c.speak()   # Meow!\n"
      ],
      "metadata": {
        "colab": {
          "base_uri": "https://localhost:8080/"
        },
        "id": "XeweQNB2FOYj",
        "outputId": "4b2f629d-5d46-4719-d69c-7790166a14ac"
      },
      "execution_count": 41,
      "outputs": [
        {
          "output_type": "stream",
          "name": "stdout",
          "text": [
            "Animals make sounds\n",
            "Bark!\n",
            "Meow!\n"
          ]
        }
      ]
    },
    {
      "cell_type": "markdown",
      "source": [
        "# Ques 13. What is a property decorator in Python\n",
        "   - Property Decorator in Python\n",
        "\n",
        "1. The @property decorator in Python is used to convert a method into a “getter” for an attribute.\n",
        "\n",
        "2. It allows you to access methods like attributes (without parentheses ()), making code cleaner and more Pythonic.\n",
        "\n",
        "3. Often used for encapsulation → to control access to private variables.\n",
        "\n",
        "\n",
        "- @property → creates a getter (read-only attribute).\n",
        "\n",
        "- @<property>.setter → creates a setter (write access with checks).\n",
        "\n",
        "- Use case → Provides a clean, controlled way to access and modify private attributes."
      ],
      "metadata": {
        "id": "F8038-ht0xLw"
      }
    },
    {
      "cell_type": "code",
      "source": [
        "# Example\n",
        "class Circle:\n",
        "    def __init__(self, radius):\n",
        "        self._radius = radius   # private attribute\n",
        "\n",
        "    @property\n",
        "    def radius(self):\n",
        "        return self._radius\n",
        "\n",
        "    @property\n",
        "    def area(self):\n",
        "        return 3.14 * self._radius ** 2\n",
        "\n",
        "\n",
        "\n",
        "# Property with Setter\n",
        "c = Circle(5)\n",
        "print(c.radius)  #  5 (method called like attribute)\n",
        "print(c.area)    # 78.5 (computed automatically)\n",
        "\n",
        "\n",
        "\n",
        "class Circle:\n",
        "    def __init__(self, radius):\n",
        "        self._radius = radius\n",
        "\n",
        "    @property\n",
        "    def radius(self):\n",
        "        return self._radius\n",
        "\n",
        "    @radius.setter\n",
        "    def radius(self, value):\n",
        "        if value > 0:\n",
        "            self._radius = value\n",
        "        else:\n",
        "            print(\"Radius must be positive!\")\n",
        "\n",
        "c = Circle(5)\n",
        "print(c.radius)   # 5\n",
        "c.radius = 10     #  updates safely\n",
        "print(c.radius)   # 10\n",
        "c.radius = -3     #  Radius must be positive!\n"
      ],
      "metadata": {
        "colab": {
          "base_uri": "https://localhost:8080/"
        },
        "id": "f98Nc1H-F817",
        "outputId": "d777598d-5399-4896-d2ce-46411e763f55"
      },
      "execution_count": 42,
      "outputs": [
        {
          "output_type": "stream",
          "name": "stdout",
          "text": [
            "5\n",
            "78.5\n",
            "5\n",
            "10\n",
            "Radius must be positive!\n"
          ]
        }
      ]
    },
    {
      "cell_type": "markdown",
      "source": [
        "# Ques 14. Why is polymorphism important in OOP\n",
        "   - Polymorphism (many forms) is crucial in OOP because it makes programs more flexible, extensible, and reusable.\n",
        "\n",
        "* **Key Reasons**\n",
        "\n",
        "1. **Code Reusability**\n",
        "\n",
        "- A single method name can work for different object types.\n",
        "\n",
        "- Example: fly() works differently for Sparrow and Penguin.\n",
        "\n",
        "2. **Flexibility and Extensibility**\n",
        "\n",
        "- You can add new classes (e.g., Eagle) without changing existing code — just override the method.\n",
        "\n",
        "3. **Improved Readability**\n",
        "\n",
        "- Same method name across different classes makes code easier to understand.\n",
        "\n",
        "4. **Supports Runtime Behavior (Dynamic Binding)**\n",
        "\n",
        "- Decisions are made at runtime about which method to call.\n",
        "\n",
        "- This allows for plug-and-play class designs.\n",
        "\n",
        "5. **Encourages Interface/Abstract Class Usage**\n",
        "\n",
        "- You can define a general interface (e.g., Animal.speak()) and let subclasses provide their own implementation (Dog → \"Bark\", Cat → \"Meow\").\n"
      ],
      "metadata": {
        "id": "AJe7pL0w0y2i"
      }
    },
    {
      "cell_type": "markdown",
      "source": [
        "# Ques 15. What is an abstract class in Python\n",
        "  - **Abstract Class in Python**\n",
        "\n",
        "1. An abstract class is a class that cannot be instantiated directly.\n",
        "\n",
        "2. It is meant to be a blueprint for other classes.\n",
        "\n",
        "3. Abstract classes can have:\n",
        "\n",
        "- Abstract methods (methods without implementation).\n",
        "\n",
        "- Concrete methods (normal methods with implementation).\n",
        "\n",
        "4. Subclasses must override the abstract methods.\n",
        "\n",
        "In Python, abstract classes are created using the abc (Abstract Base Class) module."
      ],
      "metadata": {
        "id": "f_hfw8HZ00fC"
      }
    },
    {
      "cell_type": "code",
      "source": [
        "# example\n",
        "from abc import ABC, abstractmethod\n",
        "\n",
        "class Animal(ABC):  # Abstract class\n",
        "    @abstractmethod\n",
        "    def sound(self):   # Abstract method\n",
        "        pass\n",
        "\n",
        "class Dog(Animal):   # Concrete class\n",
        "    def sound(self):\n",
        "        return \"Bark\"\n",
        "\n",
        "class Cat(Animal):\n",
        "    def sound(self):\n",
        "        return \"Meow\"\n",
        "\n",
        "# a = Animal()  Error: Can't instantiate abstract class\n",
        "d = Dog()\n",
        "c = Cat()\n",
        "\n",
        "print(d.sound())   # Bark\n",
        "print(c.sound())   # Meow\n"
      ],
      "metadata": {
        "colab": {
          "base_uri": "https://localhost:8080/"
        },
        "id": "TFKKYNTbIx8M",
        "outputId": "6f125212-18ce-4822-a4de-4a41667d3a70"
      },
      "execution_count": 43,
      "outputs": [
        {
          "output_type": "stream",
          "name": "stdout",
          "text": [
            "Bark\n",
            "Meow\n"
          ]
        }
      ]
    },
    {
      "cell_type": "markdown",
      "source": [
        "# Ques 16. What are the advantages of OOP?\n",
        "  -  **Advantages of Object-Oriented Programming (OOP)**\n",
        "\n",
        "1. **Modularity (Code Reusability)**\n",
        "\n",
        "- Classes and objects allow code to be reused instead of writing it again.\n",
        "\n",
        "- Example: A Vehicle class **can** be reused for Car, Bike, Bus.\n",
        "\n",
        "2. **Encapsulation (Data Security)**\n",
        "\n",
        "- Data and methods are bundled together.\n",
        "\n",
        "- Access can be controlled with private/protected/public members.\n",
        "\n",
        "3. **Inheritance (Code Reuse & Hierarchy)**\n",
        "\n",
        "- New classes can be built on existing ones.\n",
        "\n",
        "- Saves time and reduces redundancy.\n",
        "\n",
        "4. **Polymorphism (Flexibility)**\n",
        "\n",
        "- Same method or operator behaves differently for different objects.\n",
        "\n",
        "- Example: fly() behaves differently for Sparrow and Penguin.\n",
        "\n",
        "5. **Abstraction (Simplicity)**\n",
        "\n",
        "- Hides complex implementation details, showing only necessary functionality.\n",
        "\n",
        "- Example: Using a car without knowing how the engine works.\n",
        "\n",
        "6. Scalability & Maintainability\n",
        "\n",
        "- Easier to add new features or modify existing code.\n",
        "\n",
        "- Errors are easier to find and fix due to modular structure.\n",
        "\n",
        "7. **Real-world Modeling**\n",
        "\n",
        "- OOP maps naturally to real-world entities (e.g., Person, BankAccount, Employee).\n",
        "\n",
        "8. **Improved Collaboration**\n",
        "\n",
        "- Teams can work on different classes/modules independently."
      ],
      "metadata": {
        "id": "b45EEiCe02vD"
      }
    },
    {
      "cell_type": "markdown",
      "source": [
        "# Ques 17. What is multiple inheritance in Python\n",
        "  - **Multiple Inheritance in Python**\n",
        "\n",
        "1. Definition: Multiple inheritance is when a class inherits from more than one parent class.\n",
        "\n",
        "2. This allows a child class to combine features (attributes + methods) from multiple base classes."
      ],
      "metadata": {
        "id": "NEN-8R8204nj"
      }
    },
    {
      "cell_type": "code",
      "source": [
        "# Multiple Inheritance Example\n",
        "class Father:\n",
        "    def skill(self):\n",
        "        print(\"Father: Knows driving\")\n",
        "\n",
        "class Mother:\n",
        "    def skill(self):\n",
        "        print(\"Mother: Knows cooking\")\n",
        "\n",
        "class Child(Father, Mother):  # Multiple inheritance\n",
        "    def skill(self):\n",
        "        super().skill()  # Calls Father first (MRO order)\n",
        "        print(\"Child: Knows programming\")\n",
        "\n",
        "c = Child()\n",
        "c.skill()\n"
      ],
      "metadata": {
        "id": "p1X_FdiMLNPN"
      },
      "execution_count": null,
      "outputs": []
    },
    {
      "cell_type": "markdown",
      "source": [
        "# Ques 18. What is the difference between a class variable and an instance variable\n",
        "   - **Class Variable**\n",
        "   1. Definition: Shared variable declared inside the class, but outside methods.\n",
        "   2. Memory: Only one copy exists, shared by all objects.\n",
        "   3. Access: Accessed using class name or object.\n",
        "   4. Use case: Used for properties common to all objects (e.g., company name).\n",
        "\n",
        "  - **Instance Variable**\n",
        "   1. Definition: Belongs to each object/instance of the class.\n",
        "   2. Memory: Each object has its own separate copy\n",
        "   3. Access: Accessed only through the object.\n",
        "   4. Use case: Used for properties unique to each object (e.g., employee’s name, age)."
      ],
      "metadata": {
        "id": "S6VjnfHX07fU"
      }
    },
    {
      "cell_type": "markdown",
      "source": [
        "# Ques 19. Explain the purpose of ‘’__str__’ and ‘__repr__’ ‘ methods in Python\n",
        "    - Both are dunder methods (magic methods) that define how an object is represented as a string.\n",
        "\n",
        "1. **__str__ (User-Friendly Representation)**\n",
        "\n",
        "- Purpose: Defines a human-readable or informal string representation of the object.\n",
        "\n",
        "- Used by: print() and str() functions.\n",
        "\n",
        "- Goal: Show output that is easy to read and user-friendly.\n",
        "\n",
        "2. **__repr__ (Developer-Friendly Representation)**\n",
        "\n",
        "- Purpose: Defines an official string representation of the object.\n",
        "\n",
        "- Used by: repr() and interactive console.\n",
        "\n",
        "- Goal: Output should be unambiguous, ideally something that could recreate the object if fed back to Python."
      ],
      "metadata": {
        "id": "qy0zYN8y09gp"
      }
    },
    {
      "cell_type": "code",
      "source": [
        "# Example\n",
        "class Book:\n",
        "    def __init__(self, title, author):\n",
        "        self.title = title\n",
        "        self.author = author\n",
        "\n",
        "    def __str__(self):   # User-friendly\n",
        "        return f\"'{self.title}' by {self.author}\"\n",
        "\n",
        "    def __repr__(self):  # Developer-friendly\n",
        "        return f\"Book(title='{self.title}', author='{self.author}')\"\n",
        "\n",
        "b = Book(\"1984\", \"George Orwell\")\n",
        "\n",
        "print(str(b))    # Calls __str__ → '1984' by George Orwell\n",
        "print(repr(b))   # Calls __repr__ → Book(title='1984', author='George Orwell')\n"
      ],
      "metadata": {
        "id": "9NIMmJ6NNx-7"
      },
      "execution_count": null,
      "outputs": []
    },
    {
      "cell_type": "markdown",
      "source": [
        "# Ques 20. What is the significance of the ‘super()’ function in Python\n",
        "   -  **super()** is a built-in function that gives access to methods and attributes of a parent (superclass) from a child (subclass).\n",
        "\n",
        "- It is mainly used in inheritance to call parent class methods.\n",
        "\n",
        "* **Purpose / Significance of super()**\n",
        "\n",
        "1. Avoids code duplication – lets subclasses reuse parent class code.\n",
        "\n",
        "2. Supports multiple inheritance – works with Python’s Method Resolution Order (MRO).\n",
        "\n",
        "3. Keeps code maintainable – changes in the parent class automatically reflect in child classes.\n",
        "\n",
        "4. Preferred over direct parent call (ParentClass.method(self)) – more flexible and safer."
      ],
      "metadata": {
        "id": "mK0g5dxX0__M"
      }
    },
    {
      "cell_type": "code",
      "source": [
        "#Example\n",
        "class Animal:\n",
        "    def __init__(self, species):\n",
        "        self.species = species\n",
        "        print(\"Animal created\")\n",
        "\n",
        "class Dog(Animal):\n",
        "    def __init__(self, name):\n",
        "        super().__init__(\"Dog\")  # Call parent constructor\n",
        "        self.name = name\n",
        "        print(\"Dog created\")\n",
        "\n",
        "d = Dog(\"Buddy\")\n",
        "print(d.species, d.name)\n"
      ],
      "metadata": {
        "id": "BNTrhjxvOPkt"
      },
      "execution_count": null,
      "outputs": []
    },
    {
      "cell_type": "markdown",
      "source": [
        "# Ques 21. What is the significance of the __del__ method in Python\n",
        "  - __del__ is a destructor method in Python (a special/dunder method).\n",
        "\n",
        "- It is called automatically when an object is about to be destroyed (garbage collected).\n",
        "\n",
        "- It is used to clean up resources (e.g., close files, release memory, disconnect from databases)."
      ],
      "metadata": {
        "id": "Fuq2TdXS1HzP"
      }
    },
    {
      "cell_type": "code",
      "source": [
        "#Example\n",
        "class FileHandler:\n",
        "    def __init__(self, filename):\n",
        "        self.file = open(filename, \"w\")\n",
        "        print(\"File opened\")\n",
        "\n",
        "    def write_data(self, data):\n",
        "        self.file.write(data)\n",
        "\n",
        "    def __del__(self):\n",
        "        self.file.close()\n",
        "        print(\"File closed\")\n",
        "\n",
        "# Create object\n",
        "f = FileHandler(\"test.txt\")\n",
        "f.write_data(\"Hello, World!\")\n",
        "\n",
        "# Delete object explicitly\n",
        "del f\n"
      ],
      "metadata": {
        "id": "3rPYdCjmOk8N"
      },
      "execution_count": null,
      "outputs": []
    },
    {
      "cell_type": "markdown",
      "source": [
        "# Ques 22. What is the difference between @staticmethod and @classmethod in Python\n",
        "  -  **@staticmethod**\n",
        "1. Definition:\tMethod that doesn’t need access to class (cls) or instance (self).\n",
        "2. Arguments: No default first argument (self or cls). Behaves like a normal function inside the class.\n",
        "3. Use Case:\tUtility/helper functions related to the class but don’t modify class/instance state.\n",
        "4.Access: Cannot access/modify instance (self) or class (cls) data.\n",
        "\n",
        "  - **@classmethod**\n",
        "1. Definition:\tMethod that works with the class itself (via cls), not a 2. specific instance.\n",
        "2. Arguments: First argument is cls (represents the class).\n",
        "3. Use Case: Factory methods, class-level operations, modifying class variables.\n",
        "4. Access:\tCan access/modify class variables, but not instance variables directly."
      ],
      "metadata": {
        "id": "BT2VwSeI1Js3"
      }
    },
    {
      "cell_type": "markdown",
      "source": [
        "# Ques 23. How does polymorphism work in Python with inheritance\n",
        "  - **Polymorphism** = “many forms” → the same method name behaves differently depending on the object calling it.\n",
        "\n",
        "In Python, polymorphism is often achieved through method overriding in inheritance.\n",
        "\n",
        "*  **How it Works with Inheritance**\n",
        "\n",
        "1. A base class defines a method.\n",
        "\n",
        "2. Derived classes override that method with their own implementation.\n",
        "\n",
        "3. When the method is called on different objects, Python determines which version to run at runtime (this is runtime polymorphism).\n"
      ],
      "metadata": {
        "id": "FRQjk4fK1LjF"
      }
    },
    {
      "cell_type": "code",
      "source": [
        "# Example\n",
        "class Animal:\n",
        "    def speak(self):\n",
        "        print(\"Animal makes a sound\")\n",
        "\n",
        "class Dog(Animal):\n",
        "    def speak(self):   # Overriding\n",
        "        print(\"Bark!\")\n",
        "\n",
        "class Cat(Animal):\n",
        "    def speak(self):   # Overriding\n",
        "        print(\"Meow!\")\n",
        "\n",
        "# Polymorphism in action\n",
        "animals = [Dog(), Cat(), Animal()]\n",
        "\n",
        "for a in animals:\n",
        "    a.speak()   # Same method name, different behavior\n"
      ],
      "metadata": {
        "colab": {
          "base_uri": "https://localhost:8080/"
        },
        "id": "u4ylaVFLQZ-j",
        "outputId": "0d910035-9fd3-4d35-b71f-5350b43d0f40"
      },
      "execution_count": 44,
      "outputs": [
        {
          "output_type": "stream",
          "name": "stdout",
          "text": [
            "Bark!\n",
            "Meow!\n",
            "Animal makes a sound\n"
          ]
        }
      ]
    },
    {
      "cell_type": "markdown",
      "source": [
        "**Ques 24. What is method chaining in Python OOP What is the purpose of the** __call__ method in Python?\n",
        "\n",
        "  - **Definition:** Method chaining means calling multiple methods sequentially on the same object in a single line.\n",
        "\n",
        "- This is done by making each method return self (the object itself)."
      ],
      "metadata": {
        "id": "ecQ0pL0l1N0V"
      }
    },
    {
      "cell_type": "code",
      "source": [
        "\n",
        "# Example\n",
        "class Person:\n",
        "    def __init__(self, name):\n",
        "        self.name = name\n",
        "        self.age = None\n",
        "        self.city = None\n",
        "\n",
        "    def set_age(self, age):\n",
        "        self.age = age\n",
        "        return self   # Return the object itself\n",
        "\n",
        "    def set_city(self, city):\n",
        "        self.city = city\n",
        "        return self   # Return the object itself\n",
        "\n",
        "    def show(self):\n",
        "        print(f\"{self.name}, {self.age}, {self.city}\")\n",
        "        return self\n",
        "\n",
        "# Method chaining\n",
        "p = Person(\"Alice\").set_age(25).set_city(\"New York\").show()\n"
      ],
      "metadata": {
        "colab": {
          "base_uri": "https://localhost:8080/"
        },
        "id": "K3lUqoVpQtw2",
        "outputId": "645e18eb-3735-4d56-a837-721228114684"
      },
      "execution_count": 45,
      "outputs": [
        {
          "output_type": "stream",
          "name": "stdout",
          "text": [
            "Alice, 25, New York\n"
          ]
        }
      ]
    },
    {
      "cell_type": "markdown",
      "source": [
        "Ques 25. What is the purpose of the __call__ method in Python?\n",
        "   - **Purpose of __call__**\n",
        "\n",
        "1. **Make objects callable →** objects can act like functions.\n",
        "\n",
        "2. **Store state + behavior together →** unlike normal functions, callable objects can remember internal data.\n",
        "\n",
        "3. **Cleaner APIs →** used in decorators, ML models, and frameworks (e.g., PyTorch models use __call__ to run forward passes).\n",
        "\n",
        "4. **Flexibility →** lets you design objects that behave like both functions and data containers."
      ],
      "metadata": {
        "id": "wXTIs0krS0-T"
      }
    },
    {
      "cell_type": "markdown",
      "source": [
        "# **Practical Question**"
      ],
      "metadata": {
        "id": "C8pjldbC3SOB"
      }
    },
    {
      "cell_type": "markdown",
      "source": [
        "Ques 1. Create a parent class Animal with a method speak() that prints a generic message. Create a child class Dog that overrides the speak() method to print \"Bark!\".\n",
        "\n"
      ],
      "metadata": {
        "id": "GzNCAQQs3Ws_"
      }
    },
    {
      "cell_type": "code",
      "source": [
        "class Animal:\n",
        "  def speak(self):\n",
        "    print(\"Animal is Speaking\")\n",
        "class Dog(Animal):\n",
        "  def speak(self):\n",
        "    print(\"Bark!\")\n",
        "\n",
        "a=Animal()\n",
        "a.speak()\n",
        "\n",
        "d = Dog()\n",
        "d.speak()\n",
        "\n",
        "\n",
        "\n"
      ],
      "metadata": {
        "colab": {
          "base_uri": "https://localhost:8080/"
        },
        "id": "JhVZxc7mxG77",
        "outputId": "05e28357-f0e5-4a48-f9e1-95c2d7e27ad4"
      },
      "execution_count": 4,
      "outputs": [
        {
          "output_type": "stream",
          "name": "stdout",
          "text": [
            "Animal is Speaking\n",
            "Bark!\n"
          ]
        }
      ]
    },
    {
      "cell_type": "markdown",
      "source": [
        "Ques 2. Write a program to create an abstract class Shape with a method area(). Derive classes Circle and Rectangle from it and implement the area() method in both.\n",
        "\n",
        "\n"
      ],
      "metadata": {
        "id": "JkbFRwhu3ZOJ"
      }
    },
    {
      "cell_type": "code",
      "source": [
        "from abc import ABC, abstractmethod\n",
        "import math\n",
        "\n",
        "# Abstract class\n",
        "class Shape(ABC):\n",
        "\n",
        "    @abstractmethod\n",
        "    def area(self):\n",
        "        pass\n",
        "\n",
        "# Derived class Circle\n",
        "class Circle(Shape):\n",
        "    def __init__(self, radius):\n",
        "        self.radius = radius\n",
        "\n",
        "    def area(self):\n",
        "        return math.pi * self.radius * self.radius\n",
        "\n",
        "# Derived class Rectangle\n",
        "class Rectangle(Shape):\n",
        "    def __init__(self, length, breadth):\n",
        "        self.length = length\n",
        "        self.breadth = breadth\n",
        "\n",
        "    def area(self):\n",
        "        return self.length * self.breadth\n",
        "\n",
        "# Example usage\n",
        "circle = Circle(5)\n",
        "rectangle = Rectangle(4, 6)\n",
        "\n",
        "print(\"Area of Circle:\", circle.area())\n",
        "print(\"Area of Rectangle:\", rectangle.area())"
      ],
      "metadata": {
        "colab": {
          "base_uri": "https://localhost:8080/"
        },
        "id": "9j5KSMDWxH4i",
        "outputId": "579b5f86-d078-4833-dd30-472983f60185"
      },
      "execution_count": 5,
      "outputs": [
        {
          "output_type": "stream",
          "name": "stdout",
          "text": [
            "Area of Circle: 78.53981633974483\n",
            "Area of Rectangle: 24\n"
          ]
        }
      ]
    },
    {
      "cell_type": "markdown",
      "source": [
        "Ques 3. Implement a multi-level inheritance scenario where a class Vehicle has an attribute type. Derive a class Car and further derive a class ElectricCar that adds a battery attribute.\n"
      ],
      "metadata": {
        "id": "aJiGOQjU3aIl"
      }
    },
    {
      "cell_type": "code",
      "source": [
        "class Vehicle:\n",
        "  def __init__(self,type):\n",
        "    self.type = type\n",
        "\n",
        "  def display_info(self):\n",
        "    print(f\"Vehicle Type: {self.type}\")\n",
        "\n",
        "class Car(Vehicle):\n",
        "  def __init__(self,type,model):\n",
        "    super().__init__(type)\n",
        "    self.model = model\n",
        "\n",
        "  def display_info(self):\n",
        "    super().display_info()\n",
        "    print(f\"Car Model: {self.model}\")\n",
        "\n",
        "class ElectricCar(Car):\n",
        "  def __init__(self,type,model,battery):\n",
        "    super().__init__(type,model)\n",
        "    self.battery = battery\n",
        "\n",
        "  def display_info(self):\n",
        "    super().display_info()\n",
        "    print(f\"Battery: {self.battery}\")\n",
        "\n",
        "ev = ElectricCar(\"Electric\",\"Model S\",\"60 kWh\")\n",
        "ev.display_info()\n",
        "\n"
      ],
      "metadata": {
        "colab": {
          "base_uri": "https://localhost:8080/"
        },
        "id": "CKM_rWUCxI4f",
        "outputId": "04faf633-4d42-4ac9-ac57-d59ae33b6658"
      },
      "execution_count": 11,
      "outputs": [
        {
          "output_type": "stream",
          "name": "stdout",
          "text": [
            "Vehicle Type: Electric\n",
            "Car Model: Model S\n",
            "Battery: 60 kWh\n"
          ]
        }
      ]
    },
    {
      "cell_type": "markdown",
      "source": [
        "Ques 4. Demonstrate polymorphism by creating a base class Bird with a method fly(). Create two derived classes Sparrow and Penguin that override the fly() method.\n"
      ],
      "metadata": {
        "id": "ZraXbFB43alK"
      }
    },
    {
      "cell_type": "code",
      "source": [
        "# Base class\n",
        "class Bird:\n",
        "    def fly(self):\n",
        "        print(\"This bird can fly in some way.\")\n",
        "\n",
        "# Derived class Sparrow\n",
        "class Sparrow(Bird):\n",
        "    def fly(self):\n",
        "        print(\"Sparrow flies high in the sky.\")\n",
        "\n",
        "# Derived class Penguin\n",
        "class Penguin(Bird):\n",
        "    def fly(self):\n",
        "        print(\"Penguins cannot fly, they swim instead.\")\n",
        "\n",
        "# Demonstrating polymorphism\n",
        "def show_flying(bird):\n",
        "    bird.fly()\n",
        "\n",
        "\n",
        "sparrow = Sparrow()\n",
        "penguin = Penguin()\n",
        "\n",
        "show_flying(sparrow)   # Calls Sparrow's fly()\n",
        "show_flying(penguin)   # Calls Penguin's fly()\n"
      ],
      "metadata": {
        "colab": {
          "base_uri": "https://localhost:8080/"
        },
        "id": "lErsRwIZxJgz",
        "outputId": "25d99d49-9106-4468-a47b-d9d632cd135d"
      },
      "execution_count": 18,
      "outputs": [
        {
          "output_type": "stream",
          "name": "stdout",
          "text": [
            "Sparrow flies high in the sky.\n",
            "Penguins cannot fly, they swim instead.\n"
          ]
        }
      ]
    },
    {
      "cell_type": "markdown",
      "source": [
        "Ques 5. Write a program to demonstrate encapsulation by creating a class BankAccount with private attributes balance and methods to deposit, withdraw, and check balance.\n"
      ],
      "metadata": {
        "id": "RBnXjmxI5UiC"
      }
    },
    {
      "cell_type": "code",
      "source": [
        "class BankAccount:\n",
        "    def __init__(self, initial_balance=0):\n",
        "        # Private attribute\n",
        "        self.__balance = initial_balance\n",
        "\n",
        "    # Method to deposit money\n",
        "    def deposit(self, amount):\n",
        "        if amount > 0:\n",
        "            self.__balance += amount\n",
        "            print(f\"Deposited: {amount}\")\n",
        "        else:\n",
        "            print(\"Deposit amount must be positive.\")\n",
        "\n",
        "    # Method to withdraw money\n",
        "    def withdraw(self, amount):\n",
        "        if 0 < amount <= self.__balance:\n",
        "            self.__balance -= amount\n",
        "            print(f\"Withdrew: {amount}\")\n",
        "        else:\n",
        "            print(\"Insufficient balance or invalid withdrawal amount.\")\n",
        "\n",
        "    # Method to check balance\n",
        "    def get_balance(self):\n",
        "        return self.__balance\n",
        "\n",
        "\n",
        "# Example usage\n",
        "account = BankAccount(1000)\n",
        "account.deposit(500)\n",
        "account.withdraw(200)\n",
        "print(\"Current Balance:\", account.get_balance())\n",
        "\n",
        "# Trying to access private attribute directly (not recommended)\n",
        "# print(account.__balance)   # This will cause an AttributeError\n"
      ],
      "metadata": {
        "colab": {
          "base_uri": "https://localhost:8080/"
        },
        "id": "GDrJcDXVxJ9u",
        "outputId": "1120563d-530a-48c5-9b2e-1f34bec23171"
      },
      "execution_count": 19,
      "outputs": [
        {
          "output_type": "stream",
          "name": "stdout",
          "text": [
            "Deposited: 500\n",
            "Withdrew: 200\n",
            "Current Balance: 1300\n"
          ]
        }
      ]
    },
    {
      "cell_type": "markdown",
      "source": [
        "Ques 6. Demonstrate runtime polymorphism using a method play() in a base class Instrument. Derive classes Guitar and Piano that implement their own version of play().\n"
      ],
      "metadata": {
        "id": "c3LDMIz15YLw"
      }
    },
    {
      "cell_type": "code",
      "source": [
        "# Base class\n",
        "class Instrument:\n",
        "    def play(self):\n",
        "        print(\"This instrument makes a sound.\")\n",
        "\n",
        "# Derived class Guitar\n",
        "class Guitar(Instrument):\n",
        "    def play(self):\n",
        "        print(\"Strumming the guitar... 🎸\")\n",
        "\n",
        "# Derived class Piano\n",
        "class Piano(Instrument):\n",
        "    def play(self):\n",
        "        print(\"Playing the piano... 🎹\")\n",
        "\n",
        "# Function to demonstrate polymorphism\n",
        "def start_playing(instrument: Instrument):\n",
        "    instrument.play()\n",
        "\n",
        "# Example usage\n",
        "g = Guitar()\n",
        "p = Piano()\n",
        "\n",
        "start_playing(g)   # Calls Guitar's play()\n",
        "start_playing(p)   # Calls Piano's play()\n"
      ],
      "metadata": {
        "colab": {
          "base_uri": "https://localhost:8080/"
        },
        "id": "EcGxVO3dxK0p",
        "outputId": "8b92c241-22fd-4326-930a-45ef75e5f18c"
      },
      "execution_count": 20,
      "outputs": [
        {
          "output_type": "stream",
          "name": "stdout",
          "text": [
            "Strumming the guitar... 🎸\n",
            "Playing the piano... 🎹\n"
          ]
        }
      ]
    },
    {
      "cell_type": "markdown",
      "source": [
        "Ques7. Create a class MathOperations with a class method add_numbers() to add two numbers and a static method subtract_numbers() to subtract two numbers.\n",
        "rooms."
      ],
      "metadata": {
        "id": "Uc-PFFgY5aox"
      }
    },
    {
      "cell_type": "code",
      "source": [
        "class MathOperations:\n",
        "    # Class method to add two numbers\n",
        "    @classmethod\n",
        "    def add_numbers(cls, a, b):\n",
        "        return a + b\n",
        "\n",
        "    # Static method to subtract two numbers\n",
        "    @staticmethod\n",
        "    def subtract_numbers(a, b):\n",
        "        return a - b\n",
        "\n",
        "\n",
        "# Example usage\n",
        "print(\"Addition:\", MathOperations.add_numbers(10, 5))\n",
        "print(\"Subtraction:\", MathOperations.subtract_numbers(10, 5))\n"
      ],
      "metadata": {
        "colab": {
          "base_uri": "https://localhost:8080/"
        },
        "id": "Q-NMsTmAxLWY",
        "outputId": "b0cff66f-6c41-4216-fe68-5c64effe874d"
      },
      "execution_count": 21,
      "outputs": [
        {
          "output_type": "stream",
          "name": "stdout",
          "text": [
            "Addition: 15\n",
            "Subtraction: 5\n"
          ]
        }
      ]
    },
    {
      "cell_type": "markdown",
      "source": [
        "Ques 8. Implement a class Person with a class method to count the total number of persons created.\n"
      ],
      "metadata": {
        "id": "W2lJ7G9_5eXc"
      }
    },
    {
      "cell_type": "code",
      "source": [
        "class Person:\n",
        "    # Class variable to count persons\n",
        "    count = 0\n",
        "\n",
        "    def __init__(self, name):\n",
        "        self.name = name\n",
        "        Person.count += 1   # Increase count whenever a new Person is created\n",
        "\n",
        "    # Class method to get total persons created\n",
        "    @classmethod\n",
        "    def get_person_count(cls):\n",
        "        return cls.count\n",
        "\n",
        "\n",
        "# Example usage\n",
        "p1 = Person(\"Alice\")\n",
        "p2 = Person(\"Bob\")\n",
        "p3 = Person(\"Charlie\")\n",
        "\n",
        "print(\"Total persons created:\", Person.get_person_count())\n",
        "\n"
      ],
      "metadata": {
        "colab": {
          "base_uri": "https://localhost:8080/"
        },
        "id": "7_fSIh4SxL6t",
        "outputId": "7b364222-7acf-43de-8fed-7f8aa12ef4d3"
      },
      "execution_count": 22,
      "outputs": [
        {
          "output_type": "stream",
          "name": "stdout",
          "text": [
            "Total persons created: 3\n"
          ]
        }
      ]
    },
    {
      "cell_type": "markdown",
      "source": [
        "Ques 9. Write a class Fraction with attributes numerator and denominator. Override the str method to display the fraction as \"numerator/denominator\".\n"
      ],
      "metadata": {
        "id": "tRyzd5vA5hQb"
      }
    },
    {
      "cell_type": "code",
      "source": [
        "class Fraction:\n",
        "    def __init__(self, numerator, denominator):\n",
        "        if denominator == 0:\n",
        "            raise ValueError(\"Denominator cannot be zero.\")\n",
        "        self.numerator = numerator\n",
        "        self.denominator = denominator\n",
        "\n",
        "    # Override __str__ method\n",
        "    def __str__(self):\n",
        "        return f\"{self.numerator}/{self.denominator}\"\n",
        "\n",
        "\n",
        "# Example usage\n",
        "f1 = Fraction(3, 4)\n",
        "f2 = Fraction(5, 7)\n",
        "\n",
        "print(f1)  # Output: 3/4\n",
        "print(f2)  # Output: 5/7\n"
      ],
      "metadata": {
        "colab": {
          "base_uri": "https://localhost:8080/"
        },
        "id": "FJqeC4IkxMel",
        "outputId": "cf8a232f-bcfc-417e-ea05-d05661eb16c7"
      },
      "execution_count": 23,
      "outputs": [
        {
          "output_type": "stream",
          "name": "stdout",
          "text": [
            "3/4\n",
            "5/7\n"
          ]
        }
      ]
    },
    {
      "cell_type": "markdown",
      "source": [
        "Ques 10. Demonstrate operator overloading by creating a class Vector and overriding the add method to add two vectors.\n"
      ],
      "metadata": {
        "id": "248_dOTU5lIq"
      }
    },
    {
      "cell_type": "code",
      "source": [
        "class Vector:\n",
        "    def __init__(self, x, y):\n",
        "        self.x = x\n",
        "        self.y = y\n",
        "\n",
        "    # Overloading the + operator\n",
        "    def __add__(self, other):\n",
        "        return Vector(self.x + other.x, self.y + other.y)\n",
        "\n",
        "    # String representation\n",
        "    def __str__(self):\n",
        "        return f\"({self.x}, {self.y})\"\n",
        "\n",
        "\n",
        "# Example usage\n",
        "v1 = Vector(2, 3)\n",
        "v2 = Vector(4, 5)\n",
        "v3 = v1 + v2   # Uses __add__\n",
        "\n",
        "print(\"v1:\", v1)\n",
        "print(\"v2:\", v2)\n",
        "print(\"v1 + v2 =\", v3)\n"
      ],
      "metadata": {
        "colab": {
          "base_uri": "https://localhost:8080/"
        },
        "id": "M2PwV-BCxNGW",
        "outputId": "cfb04d9a-fd78-4c7b-a23e-43965b010cc1"
      },
      "execution_count": 24,
      "outputs": [
        {
          "output_type": "stream",
          "name": "stdout",
          "text": [
            "v1: (2, 3)\n",
            "v2: (4, 5)\n",
            "v1 + v2 = (6, 8)\n"
          ]
        }
      ]
    },
    {
      "cell_type": "markdown",
      "source": [
        "Ques 11. Create a class Person with attributes name and age. Add a method greet() that prints \"Hello, my name is {name} and I am {age} years old.\"\n"
      ],
      "metadata": {
        "id": "ofG_0QWl5new"
      }
    },
    {
      "cell_type": "code",
      "source": [
        "class Person:\n",
        "    def __init__(self, name, age):\n",
        "        self.name = name\n",
        "        self.age = age\n",
        "\n",
        "    def greet(self):\n",
        "        print(f\"Hello, my name is {self.name} and I am {self.age} years old.\")\n",
        "\n",
        "\n",
        "# Example usage\n",
        "p1 = Person(\"Alice\", 25)\n",
        "p2 = Person(\"Bob\", 30)\n",
        "\n",
        "p1.greet()\n",
        "p2.greet()\n",
        "\n"
      ],
      "metadata": {
        "colab": {
          "base_uri": "https://localhost:8080/"
        },
        "id": "3_ppW6EqxNfL",
        "outputId": "1aa7824a-b5f1-4629-f42d-5313e7f3e496"
      },
      "execution_count": 25,
      "outputs": [
        {
          "output_type": "stream",
          "name": "stdout",
          "text": [
            "Hello, my name is Alice and I am 25 years old.\n",
            "Hello, my name is Bob and I am 30 years old.\n"
          ]
        }
      ]
    },
    {
      "cell_type": "markdown",
      "source": [
        "Ques 12. Implement a class Student with attributes name and grades. Create a method average_grade() to compute the average of the grades.\n"
      ],
      "metadata": {
        "id": "WYfT5Xjj5uhY"
      }
    },
    {
      "cell_type": "code",
      "source": [
        "class Student:\n",
        "    def __init__(self, name, grades):\n",
        "        self.name = name\n",
        "        self.grades = grades  # list of numbers\n",
        "\n",
        "    def average_grade(self):\n",
        "        if not self.grades:\n",
        "            return 0\n",
        "        return sum(self.grades) / len(self.grades)\n",
        "\n",
        "\n",
        "# Example usage\n",
        "s1 = Student(\"Alice\", [85, 90, 78])\n",
        "s2 = Student(\"Bob\", [70, 65, 80, 75])\n",
        "\n",
        "print(f\"{s1.name}'s average grade: {s1.average_grade():.2f}\")\n",
        "print(f\"{s2.name}'s average grade: {s2.average_grade():.2f}\")\n"
      ],
      "metadata": {
        "colab": {
          "base_uri": "https://localhost:8080/"
        },
        "id": "dY3i5DlfxN26",
        "outputId": "73d6e1bc-e400-44ee-b67b-a198b3691a61"
      },
      "execution_count": 26,
      "outputs": [
        {
          "output_type": "stream",
          "name": "stdout",
          "text": [
            "Alice's average grade: 84.33\n",
            "Bob's average grade: 72.50\n"
          ]
        }
      ]
    },
    {
      "cell_type": "markdown",
      "source": [
        "Ques13. Create a class Rectangle with methods set_dimensions() to set the dimensions and area() to calculate the area.\n"
      ],
      "metadata": {
        "id": "3HmeW9la5wu3"
      }
    },
    {
      "cell_type": "code",
      "source": [
        "class Rectangle:\n",
        "    def __init__(self):\n",
        "        self.length = 0\n",
        "        self.width = 0\n",
        "\n",
        "    # Method to set dimensions\n",
        "    def set_dimensions(self, length, width):\n",
        "        self.length = length\n",
        "        self.width = width\n",
        "\n",
        "    # Method to calculate area\n",
        "    def area(self):\n",
        "        return self.length * self.width\n",
        "\n",
        "\n",
        "# Example usage\n",
        "rect = Rectangle()\n",
        "rect.set_dimensions(10, 5)\n",
        "print(\"Area of rectangle:\", rect.area())\n"
      ],
      "metadata": {
        "colab": {
          "base_uri": "https://localhost:8080/"
        },
        "id": "lJ3MvC2WxOas",
        "outputId": "f873300b-3194-4b5d-bd76-805669ba6ac9"
      },
      "execution_count": 27,
      "outputs": [
        {
          "output_type": "stream",
          "name": "stdout",
          "text": [
            "Area of rectangle: 50\n"
          ]
        }
      ]
    },
    {
      "cell_type": "markdown",
      "source": [
        "Ques 14. Create a class Employee with a method calculate_salary() that computes the salary based on hours worked and hourly rate. Create a derived class Manager that adds a bonus to the salary\n"
      ],
      "metadata": {
        "id": "48Elirl451DE"
      }
    },
    {
      "cell_type": "code",
      "source": [
        "# Base class\n",
        "class Employee:\n",
        "    def __init__(self, name, hours_worked, hourly_rate):\n",
        "        self.name = name\n",
        "        self.hours_worked = hours_worked\n",
        "        self.hourly_rate = hourly_rate\n",
        "\n",
        "    def calculate_salary(self):\n",
        "        return self.hours_worked * self.hourly_rate\n",
        "\n",
        "\n",
        "# Derived class\n",
        "class Manager(Employee):\n",
        "    def __init__(self, name, hours_worked, hourly_rate, bonus):\n",
        "        super().__init__(name, hours_worked, hourly_rate)\n",
        "        self.bonus = bonus\n",
        "\n",
        "    def calculate_salary(self):\n",
        "        base_salary = super().calculate_salary()\n",
        "        return base_salary + self.bonus\n",
        "\n",
        "\n",
        "# Example usage\n",
        "emp = Employee(\"Alice\", 40, 20)\n",
        "mgr = Manager(\"Bob\", 40, 30, 500)\n",
        "\n",
        "print(f\"{emp.name}'s Salary: ${emp.calculate_salary()}\")\n",
        "print(f\"{mgr.name}'s Salary: ${mgr.calculate_salary()}\")\n"
      ],
      "metadata": {
        "colab": {
          "base_uri": "https://localhost:8080/"
        },
        "id": "St-vYtDFxOy3",
        "outputId": "32e89986-636a-47f9-b80e-8ef11eb197e2"
      },
      "execution_count": 28,
      "outputs": [
        {
          "output_type": "stream",
          "name": "stdout",
          "text": [
            "Alice's Salary: $800\n",
            "Bob's Salary: $1700\n"
          ]
        }
      ]
    },
    {
      "cell_type": "markdown",
      "source": [
        "Ques 15. Create a class Product with attributes name, price, and quantity. Implement a method total_price() that calculates the total price of the product.\n"
      ],
      "metadata": {
        "id": "mDXcaOsZ53ca"
      }
    },
    {
      "cell_type": "code",
      "source": [
        "class Product:\n",
        "    def __init__(self, name, price, quantity):\n",
        "        self.name = name\n",
        "        self.price = price\n",
        "        self.quantity = quantity\n",
        "\n",
        "    def total_price(self):\n",
        "        return self.price * self.quantity\n",
        "\n",
        "\n",
        "# Example usage\n",
        "p1 = Product(\"Laptop\", 50000, 2)\n",
        "p2 = Product(\"Mouse\", 800, 5)\n",
        "\n",
        "print(f\"Total price for {p1.name}: ₹{p1.total_price()}\")\n",
        "print(f\"Total price for {p2.name}: ₹{p2.total_price()}\")\n"
      ],
      "metadata": {
        "colab": {
          "base_uri": "https://localhost:8080/"
        },
        "id": "LIekpdByxPSL",
        "outputId": "fd290498-ba01-4f3e-9e88-b3348fd28086"
      },
      "execution_count": 29,
      "outputs": [
        {
          "output_type": "stream",
          "name": "stdout",
          "text": [
            "Total price for Laptop: ₹100000\n",
            "Total price for Mouse: ₹4000\n"
          ]
        }
      ]
    },
    {
      "cell_type": "markdown",
      "source": [
        "Ques 16. Create a class Animal with an abstract method sound(). Create two derived classes Cow and Sheep that implement the sound() method.\n"
      ],
      "metadata": {
        "id": "Bt6oOta05-TB"
      }
    },
    {
      "cell_type": "code",
      "source": [
        "from abc import ABC, abstractmethod\n",
        "\n",
        "# Abstract base class\n",
        "class Animal(ABC):\n",
        "    @abstractmethod\n",
        "    def sound(self):\n",
        "        pass\n",
        "\n",
        "\n",
        "# Derived class Cow\n",
        "class Cow(Animal):\n",
        "    def sound(self):\n",
        "        return \"Moo\"\n",
        "\n",
        "\n",
        "# Derived class Sheep\n",
        "class Sheep(Animal):\n",
        "    def sound(self):\n",
        "        return \"Baa\"\n",
        "\n",
        "\n",
        "# Example usage\n",
        "animals = [Cow(), Sheep()]\n",
        "\n",
        "for animal in animals:\n",
        "    print(f\"{animal.__class__.__name__} sound: {animal.sound()}\")\n"
      ],
      "metadata": {
        "colab": {
          "base_uri": "https://localhost:8080/"
        },
        "id": "I5dtwJssxQBJ",
        "outputId": "4fa89cf2-5467-4ed2-e90d-83f5fd3a178b"
      },
      "execution_count": 30,
      "outputs": [
        {
          "output_type": "stream",
          "name": "stdout",
          "text": [
            "Cow sound: Moo\n",
            "Sheep sound: Baa\n"
          ]
        }
      ]
    },
    {
      "cell_type": "markdown",
      "source": [
        "Ques 17. Create a class Book with attributes title, author, and year_published. Add a method get_book_info() that returns a formatted string with the book's details.\n"
      ],
      "metadata": {
        "id": "EXL_SiZc6Aom"
      }
    },
    {
      "cell_type": "code",
      "source": [
        "class Book:\n",
        "    def __init__(self, title, author, year_published):\n",
        "        self.title = title\n",
        "        self.author = author\n",
        "        self.year_published = year_published\n",
        "\n",
        "    def get_book_info(self):\n",
        "        return f\"'{self.title}' by {self.author}, published in {self.year_published}\"\n",
        "\n",
        "\n",
        "# Example usage\n",
        "b1 = Book(\"To Kill a Mockingbird\", \"Harper Lee\", 1960)\n",
        "b2 = Book(\"1984\", \"George Orwell\", 1949)\n",
        "\n",
        "print(b1.get_book_info())\n",
        "print(b2.get_book_info())\n"
      ],
      "metadata": {
        "id": "jsUNEvPixQYk"
      },
      "execution_count": null,
      "outputs": []
    },
    {
      "cell_type": "markdown",
      "source": [
        "Ques 18. Create a class House with attributes address and price. Create a derived class Mansion that adds an attribute number_of_rooms"
      ],
      "metadata": {
        "id": "iU6xkQf46ENw"
      }
    },
    {
      "cell_type": "code",
      "source": [
        "# Base class\n",
        "class House:\n",
        "    def __init__(self, address, price):\n",
        "        self.address = address\n",
        "        self.price = price\n",
        "\n",
        "    def get_info(self):\n",
        "        return f\"Address: {self.address}, Price: ₹{self.price}\"\n",
        "\n",
        "\n",
        "# Derived class\n",
        "class Mansion(House):\n",
        "    def __init__(self, address, price, number_of_rooms):\n",
        "        super().__init__(address, price)\n",
        "        self.number_of_rooms = number_of_rooms\n",
        "\n",
        "    def get_info(self):\n",
        "        return f\"{super().get_info()}, Rooms: {self.number_of_rooms}\"\n",
        "\n",
        "\n",
        "# Example usage\n",
        "h1 = House(\"123 Green Street\", 5000000)\n",
        "m1 = Mansion(\"456 Royal Avenue\", 20000000, 12)\n",
        "\n",
        "print(h1.get_info())\n",
        "print(m1.get_info())\n"
      ],
      "metadata": {
        "colab": {
          "base_uri": "https://localhost:8080/"
        },
        "id": "M5p3H52txQuz",
        "outputId": "6cbc9608-6ea6-4b1e-f590-5f2a94da8524"
      },
      "execution_count": 31,
      "outputs": [
        {
          "output_type": "stream",
          "name": "stdout",
          "text": [
            "Address: 123 Green Street, Price: ₹5000000\n",
            "Address: 456 Royal Avenue, Price: ₹20000000, Rooms: 12\n"
          ]
        }
      ]
    }
  ]
}